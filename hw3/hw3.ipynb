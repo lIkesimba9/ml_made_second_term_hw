{
 "cells": [
  {
   "cell_type": "code",
   "execution_count": 1,
   "id": "8c07a91d",
   "metadata": {},
   "outputs": [],
   "source": [
    "import numpy as np\n",
    "from collections import defaultdict\n",
    "import itertools\n",
    "import re \n",
    "import matplotlib as mpl\n",
    "import matplotlib.pyplot as plt\n",
    "import seaborn as sns\n",
    "import pandas as pd\n",
    "from itertools import islice, product\n",
    "from copy import copy\n",
    "from tqdm import tqdm\n",
    "\n",
    "sns.set_style(\"whitegrid\")\n",
    "sns.set_palette(\"colorblind\")\n",
    "palette = sns.color_palette()\n",
    "figsize = (15,8)\n",
    "legend_fontsize = 16\n",
    "\n",
    "from matplotlib import rc\n",
    "rc('font',**{'family':'sans-serif'})\n",
    "rc('figure', **{'dpi': 300})"
   ]
  },
  {
   "cell_type": "code",
   "execution_count": 2,
   "id": "eee26cc9",
   "metadata": {},
   "outputs": [
    {
     "name": "stdout",
     "output_type": "stream",
     "text": [
      "AnnaKarenina.txt   WarAndPeace.txt    WarAndPeaceEng.txt\r\n"
     ]
    }
   ],
   "source": [
    "!ls corpora"
   ]
  },
  {
   "cell_type": "code",
   "execution_count": 3,
   "id": "4c62470f",
   "metadata": {},
   "outputs": [],
   "source": [
    "def clean_text_from_file(file, func_check_lang):\n",
    "    text = open(file).read()\n",
    "    new_text = ''\n",
    "    for sym in text:\n",
    "        if (func_check_lang(sym) and sym.isalpha()) or sym == ' ':\n",
    "            new_text += sym.lower()\n",
    "        elif sym in \".!,?\":\n",
    "            new_text += \" \"\n",
    "    new_text = new_text.replace(\"  \", \" \")\n",
    "    new_text = new_text.replace(\"   \", \" \")\n",
    "    new_text = new_text.replace(\"    \", \" \")\n",
    "    return new_text\n",
    "\n",
    "def has_cyrillic(text):\n",
    "    return bool(re.search('[а-яА-Я]', text))"
   ]
  },
  {
   "cell_type": "code",
   "execution_count": 4,
   "id": "96818ba7",
   "metadata": {},
   "outputs": [],
   "source": [
    "cleaner_war_peace = clean_text_from_file(\"corpora/WarAndPeace.txt\", has_cyrillic)"
   ]
  },
  {
   "cell_type": "code",
   "execution_count": 5,
   "id": "81367c32",
   "metadata": {},
   "outputs": [],
   "source": [
    "def window(seq, n=1):\n",
    "    it = iter(seq)\n",
    "    result = tuple(islice(it, n))\n",
    "    if len(result) == n:\n",
    "        yield result\n",
    "    for elem in it:\n",
    "        result = result[1:] + (elem,)\n",
    "        yield result"
   ]
  },
  {
   "cell_type": "code",
   "execution_count": 6,
   "id": "8e2d4eb3",
   "metadata": {},
   "outputs": [],
   "source": [
    "def calc_stats_from_string(text, win_size=1):\n",
    "    stats = defaultdict(lambda: 0)\n",
    "    \n",
    "    for sym in window(text, win_size):\n",
    "        #print(sym)\n",
    "        sym = ''.join(sym)\n",
    "        stats[sym.lower()] += 1        \n",
    "    n = sum(stats.values())\n",
    "    return stats"
   ]
  },
  {
   "cell_type": "code",
   "execution_count": 7,
   "id": "8c12a09a",
   "metadata": {},
   "outputs": [],
   "source": [
    "war_peace_rus = calc_stats_from_string(cleaner_war_peace)"
   ]
  },
  {
   "cell_type": "code",
   "execution_count": 8,
   "id": "fd38d1ae",
   "metadata": {},
   "outputs": [],
   "source": [
    "alpha = [chr(sym) for sym in range(ord('а'), ord('я') + 1)]\n",
    "alpha.append(\" \")\n",
    "shuff = alpha.copy()\n",
    "np.random.shuffle(shuff)"
   ]
  },
  {
   "cell_type": "code",
   "execution_count": 9,
   "id": "fc69d971",
   "metadata": {},
   "outputs": [],
   "source": [
    "transposition_enc = dict(zip(alpha, shuff))"
   ]
  },
  {
   "cell_type": "code",
   "execution_count": 10,
   "id": "d68791d1",
   "metadata": {},
   "outputs": [
    {
     "data": {
      "text/plain": [
       "{'а': 'д',\n",
       " 'б': 'о',\n",
       " 'в': 'ф',\n",
       " 'г': 'ш',\n",
       " 'д': 'н',\n",
       " 'е': 'г',\n",
       " 'ж': 'з',\n",
       " 'з': 'ы',\n",
       " 'и': 'р',\n",
       " 'й': 'ъ',\n",
       " 'к': 'я',\n",
       " 'л': 'ч',\n",
       " 'м': 'л',\n",
       " 'н': 'с',\n",
       " 'о': ' ',\n",
       " 'п': 'к',\n",
       " 'р': 'э',\n",
       " 'с': 'м',\n",
       " 'т': 'у',\n",
       " 'у': 'в',\n",
       " 'ф': 'б',\n",
       " 'х': 'ц',\n",
       " 'ц': 'й',\n",
       " 'ч': 'т',\n",
       " 'ш': 'е',\n",
       " 'щ': 'щ',\n",
       " 'ъ': 'п',\n",
       " 'ы': 'и',\n",
       " 'ь': 'ю',\n",
       " 'э': 'а',\n",
       " 'ю': 'ь',\n",
       " 'я': 'х',\n",
       " ' ': 'ж'}"
      ]
     },
     "execution_count": 10,
     "metadata": {},
     "output_type": "execute_result"
    }
   ],
   "source": [
    "transposition_enc"
   ]
  },
  {
   "cell_type": "code",
   "execution_count": 11,
   "id": "069d8e9a",
   "metadata": {},
   "outputs": [],
   "source": [
    "def encrypt_text(text, transposition):\n",
    "    enc_text = \"\"\n",
    "    for sym in itertools.chain.from_iterable(text):\n",
    "        \n",
    "        if sym.lower() in transposition.keys():\n",
    "            enc_text += transposition[sym.lower()]\n",
    "        else:\n",
    "            enc_text += sym\n",
    "    return enc_text    "
   ]
  },
  {
   "cell_type": "code",
   "execution_count": 12,
   "id": "349a4403",
   "metadata": {},
   "outputs": [],
   "source": [
    "cleaner_text = clean_text_from_file(\"text.txt\", has_cyrillic)\n",
    "enc_text = encrypt_text(cleaner_text, transposition_enc)"
   ]
  },
  {
   "cell_type": "code",
   "execution_count": 13,
   "id": "80c7a3f7",
   "metadata": {},
   "outputs": [
    {
     "data": {
      "text/plain": [
       "'так не переставая говорили об алексее александровиче осуждая его и смеясь над ним между тем как он заступив дорогу пойманному им члену государственного совета и ни на минуту не прекращая своего изложения чтобы не упустить его по пунктам излагал ему финансовый проект почти в одно и то же время как жена ушла от алексея александровича с ним случилось и самое горькое для служащего человека событие прекращение восходящего служебного движения прекращение это совершилось и все ясно видели это но сам алексей александрович не сознавал еще того что карьера его кончена столкновение ли со стремовым несчастье ли с женой или просто то что алексей александрович дошел до предела который ему был предназначен но для всех в нынешнем году стало очевидно что служебное поприще его кончено он еще занимал важное место он был членом многих комиссий и комитетов но он был человеком который весь вышел и от которого ничего более не ждут что бы он ни говорил что бы ни предлагал его слушали так как будто то что он предлагает давно уже известно и есть то самое что не нужно но алексей александрович не чувствовал этого и напротив того будучи устранен от прямого участия в правительственной деятельности яснее чем прежде видел теперь недостатки и ошибки в деятельности других и считал своим долгом указывать на средства к исправлению их вскоре после своей разлуки с женой он начал писать свою первую записку о новом суде из бесчисленного ряда никому не нужных записок по всем отраслям управления которые было суждено написать'"
      ]
     },
     "execution_count": 13,
     "metadata": {},
     "output_type": "execute_result"
    }
   ],
   "source": [
    "cleaner_text"
   ]
  },
  {
   "cell_type": "code",
   "execution_count": 14,
   "id": "9055b2d4",
   "metadata": {},
   "outputs": [
    {
     "data": {
      "text/plain": [
       "'удяжсгжкгэгмудфдхжш ф эрчрж ождчгямггждчгямдснэ фртгж мвзндхжгш жржмлгхмюжсднжсрлжлгзнвжуглжядяж сжыдмувкрфжн э швжк ълдсс лвжрлжтчгсвжш мвндэмуфгсс ш жм фгуджржсржсджлрсвувжсгжкэгяэдщдхжмф гш жрыч згсрхжту оижсгжвквмуруюжгш жк жквсяудлжрычдшдчжглвжбрсдсм фиъжкэ гяужк туржфж нс жржу жзгжфэглхжядяжзгсджвечдж уждчгямгхждчгямдснэ фртджмжсрлжмчвтрч мюжржмдл гжш эюя гжнчхжмчвздщгш жтгч фгяджм оиургжкэгяэдщгсргжф мц нхщгш жмчвзгос ш жнфрзгсрхжкэгяэдщгсргжау жм фгэерч мюжржфмгжхмс жфрнгчржау жс жмдлждчгямгъждчгямдснэ фртжсгжм ысдфдчжгщгжу ш жту жядэюгэджгш жя стгсджму чяс фгсргжчржм жмуэгл филжсгмтдмуюгжчржмжзгс ъжрчржкэ му жу жту ждчгямгъждчгямдснэ фртжн егчжн жкэгнгчджя у эиъжглвжоичжкэгнсдысдтгсжс жнчхжфмгцжфжсисгесглжш нвжмудч ж тгфрнс жту жмчвзгос гжк кэрщгжгш жя стгс ж сжгщгжыдсрлдчжфдзс гжлгму ж сжоичжтчгс лжлс шрцжя лрммръжржя лругу фжс ж сжоичжтгч фгя лжя у эиъжфгмюжфиегчжрж ужя у э ш жсртгш жо чггжсгжзнвужту жоиж сжсржш ф эрчжту жоижсржкэгнчдшдчжгш жмчведчржудяжядяжовну жу жту ж сжкэгнчдшдгужндфс жвзгжрыфгмус жржгмуюжу жмдл гжту жсгжсвзс жс ждчгямгъждчгямдснэ фртжсгжтвфмуф фдчжау ш жржсдкэ урфжу ш жовнвтржвмуэдсгсж ужкэхл ш жвтдмурхжфжкэдфругчюмуфгсс ъжнгхугчюс муржхмсггжтглжкэгзнгжфрнгчжугкгэюжсгн мудуяржрж ерояржфжнгхугчюс муржнэвшрцжржмтрудчжмф рлжн чш лжвядыифдуюжсджмэгнмуфджяжрмкэдфчгсрьжрцжфмя эгжк мчгжмф гъжэдычвяржмжзгс ъж сжсдтдчжкрмдуюжмф ьжкгэфвьжыдкрмявж жс ф лжмвнгжрыжогмтрмчгсс ш жэхнджсря лвжсгжсвзсицжыдкрм яжк жфмглж уэдмчхлжвкэдфчгсрхжя у эигжоич жмвзнгс жсдкрмдую'"
      ]
     },
     "execution_count": 14,
     "metadata": {},
     "output_type": "execute_result"
    }
   ],
   "source": [
    "enc_text"
   ]
  },
  {
   "cell_type": "code",
   "execution_count": 15,
   "id": "3fd77b3b",
   "metadata": {},
   "outputs": [],
   "source": [
    "def decrypt_text(enc_text, text_for_stat, stats_in_peace, win_size=1):\n",
    "    stats_enc_text = calc_stats_from_string(text_for_stat, win_size)\n",
    "    stats_enc_text = dict(sorted(stats_enc_text.items(), key=lambda item: item[1], reverse=True))\n",
    "    stats = dict(sorted(stats_in_peace.items(), key=lambda item: item[1], reverse=True))\n",
    "    transposition_table = dict(zip(stats_enc_text.keys(), stats.keys()))\n",
    "    dec_text = \"\"\n",
    "    for sym in enc_text:\n",
    "        if sym in transposition_table.keys():\n",
    "            dec_text += transposition_table[sym]\n",
    "        else:\n",
    "            dec_text += sym\n",
    "    return dec_text, transposition_table"
   ]
  },
  {
   "cell_type": "code",
   "execution_count": 16,
   "id": "c86fb169",
   "metadata": {},
   "outputs": [],
   "source": [
    "def count_right_sym(enc_table, dec_table):\n",
    "    count_right = 0\n",
    "    for k, v in enc_table.items():\n",
    "        if v in dec_table.keys():\n",
    "            if dec_table[v] == k:\n",
    "                count_right+=1\n",
    "    return count_right"
   ]
  },
  {
   "cell_type": "code",
   "execution_count": 17,
   "id": "a183f338",
   "metadata": {},
   "outputs": [],
   "source": [
    "dec_text, key_table = decrypt_text(enc_text, enc_text, war_peace_rus)"
   ]
  },
  {
   "cell_type": "code",
   "execution_count": 18,
   "id": "a7ad04f9",
   "metadata": {},
   "outputs": [
    {
     "data": {
      "text/plain": [
       "'сик еа паратсивиь говорнлн об илактаа илактиемровняа отдымиь аго н туаьтч еим ену уаымд сау кик ое йитсдпнв морогд пожуиееоуд ну ялаед готдмиртсваееого товаси н ен еи унедсд еа пракришиь твоаго нйлоыаень ясобз еа дпдтснсч аго по пдексиу нйлигил ауд щнеиетовзж проакс поясн в омео н со ыа врауь кик ыаеи дхли ос илактаь илактиемровняи т ену тлдянлотч н тиуоа горчкоа мль тлдыишаго яаловаки тобзсна пракришаена вотюомьшаго тлдыабеого мвныаень пракришаена цсо товархнлотч н вта ьтео внмалн цсо ео тиу илактаж илактиемровня еа тойеивил аша сого ясо кирчари аго коеяаеи тсолкеоваена лн то тсрауовзу еатяитсча лн т ыаеож нлн протсо со ясо илактаж илактиемровня мохал мо прамали косорзж ауд бзл прамеийеияае ео мль втаю в езеахеау гомд тсило ояавнмео ясо тлдыабеоа попрнша аго коеяаео ое аша йиенуил виыеоа уатсо ое бзл ялаеоу уеогню коунттнж н коунсасов ео ое бзл яаловакоу косорзж ватч взхал н ос косорого еняаго болаа еа ымдс ясо бз ое ен говорнл ясо бз ен прамлигил аго тлдхилн сик кик бдмсо со ясо ое прамлигиас мивео дыа нйватсео н атсч со тиуоа ясо еа едыео ео илактаж илактиемровня еа ядвтсвовил цсого н еипроснв сого бдмдян дтсриеае ос прьуого дяитснь в привнсалчтсваееож маьсалчеотсн ьтеаа яау праыма внмал сапарч еамотсискн н охнбкн в маьсалчеотсн мрдгню н тянсил твону молгоу дкийзвисч еи трамтсви к нтпривлаенэ ню вткора потла твоаж рийлдкн т ыаеож ое еияил пнтисч твоэ парвдэ йипнткд о еовоу тдма нй батянтлаееого рьми енкоуд еа едыезю йипнток по втау осритльу дпривлаень косорза бзло тдымаео еипнтисч'"
      ]
     },
     "execution_count": 18,
     "metadata": {},
     "output_type": "execute_result"
    }
   ],
   "source": [
    "dec_text"
   ]
  },
  {
   "cell_type": "code",
   "execution_count": 19,
   "id": "0fe330b6",
   "metadata": {},
   "outputs": [
    {
     "data": {
      "text/plain": [
       "9"
      ]
     },
     "execution_count": 19,
     "metadata": {},
     "output_type": "execute_result"
    }
   ],
   "source": [
    "count_right_sym(transposition_enc, key_table)"
   ]
  },
  {
   "cell_type": "code",
   "execution_count": 20,
   "id": "d2c80b79",
   "metadata": {},
   "outputs": [
    {
     "data": {
      "text/plain": [
       "[Text(0.5, 0, 'буква'),\n",
       " Text(0, 0.5, 'сколько раз встретилась буква'),\n",
       " Text(0.5, 1.0, 'Статистика \"text\"')]"
      ]
     },
     "execution_count": 20,
     "metadata": {},
     "output_type": "execute_result"
    },
    {
     "data": {
      "image/png": "[encoded data removed]",
      "text/plain": [
       "<Figure size 1800x1200 with 1 Axes>"
      ]
     },
     "metadata": {},
     "output_type": "display_data"
    }
   ],
   "source": [
    "stats_org_text = calc_stats_from_string(cleaner_text)\n",
    "stats_org_text = dict(sorted(stats_org_text.items(), key=lambda item: item[1], reverse=True))\n",
    "stats_df = pd.DataFrame(stats_org_text.items())\n",
    "ax = sns.barplot(x=0, y=1, data=stats_df)\n",
    "ax.set(xlabel = 'буква', ylabel='сколько раз встретилась буква', title='Статистика \"text\"')"
   ]
  },
  {
   "cell_type": "code",
   "execution_count": 21,
   "id": "1088dfa9",
   "metadata": {},
   "outputs": [
    {
     "data": {
      "text/plain": [
       "[Text(0.5, 0, 'буква'),\n",
       " Text(0, 0.5, 'сколько раз встретилась буква'),\n",
       " Text(0.5, 1.0, 'Статистика \"Войны и мир\"')]"
      ]
     },
     "execution_count": 21,
     "metadata": {},
     "output_type": "execute_result"
    },
    {
     "data": {
      "image/png": "[encoded data removed]",
      "text/plain": [
       "<Figure size 1800x1200 with 1 Axes>"
      ]
     },
     "metadata": {},
     "output_type": "display_data"
    }
   ],
   "source": [
    "stats_war_text = calc_stats_from_string(cleaner_war_peace)\n",
    "stats_war_text = dict(sorted(stats_war_text.items(), key=lambda item: item[1], reverse=True))\n",
    "stats_df = pd.DataFrame(stats_org_text.items())\n",
    "ax = sns.barplot(x=0, y=1, data=stats_df)\n",
    "ax.set(xlabel = 'буква', ylabel='сколько раз встретилась буква', title='Статистика \"Войны и мир\"')"
   ]
  },
  {
   "cell_type": "markdown",
   "id": "f7abdfe5",
   "metadata": {},
   "source": [
    "# Биграммы"
   ]
  },
  {
   "cell_type": "code",
   "execution_count": 22,
   "id": "13fad344",
   "metadata": {},
   "outputs": [],
   "source": [
    "war_peace_rus_bigram = calc_stats_from_string(cleaner_war_peace, 2)\n",
    "war_peace_rus_bigram = dict(sorted(war_peace_rus_bigram.items(), key=lambda item: item[1], reverse=False))"
   ]
  },
  {
   "cell_type": "code",
   "execution_count": 23,
   "id": "d4ae1273",
   "metadata": {},
   "outputs": [],
   "source": [
    "enc_text_bigram_stats = calc_stats_from_string(enc_text, 2)\n",
    "enc_text_bigram_stats = dict(sorted(enc_text_bigram_stats.items(), key=lambda item: item[1], reverse=False))"
   ]
  },
  {
   "cell_type": "code",
   "execution_count": 24,
   "id": "c38a2e46",
   "metadata": {},
   "outputs": [],
   "source": [
    "sub_table = list(war_peace_rus_bigram.keys())[::-1]"
   ]
  },
  {
   "cell_type": "code",
   "execution_count": 25,
   "id": "c30690de",
   "metadata": {},
   "outputs": [],
   "source": [
    "sub_table = sub_table[: len(enc_text_bigram_stats.keys())][::-1]"
   ]
  },
  {
   "cell_type": "code",
   "execution_count": 26,
   "id": "607a7941",
   "metadata": {},
   "outputs": [],
   "source": [
    "dec_text = len(enc_text) * [\"&\"]"
   ]
  },
  {
   "cell_type": "markdown",
   "id": "728179a7",
   "metadata": {},
   "source": [
    "Сначала декодируем самые редко встречающиеся пары символов, а потом их перетираем теми парами которые имеют наибольшую частоту"
   ]
  },
  {
   "cell_type": "code",
   "execution_count": 27,
   "id": "16c91742",
   "metadata": {},
   "outputs": [],
   "source": [
    "for i, bigram in enumerate(enc_text_bigram_stats.keys()):\n",
    "    j, k = 0, 1\n",
    "    for enc_bigram in window(enc_text, 2):\n",
    "        e_b = ''.join(enc_bigram)\n",
    "        if bigram == e_b:\n",
    "            dec_text[j] = sub_table[i][0]\n",
    "            dec_text[k] = sub_table[i][1]\n",
    "        j+=1\n",
    "        k+=1"
   ]
  },
  {
   "cell_type": "code",
   "execution_count": 28,
   "id": "93615b64",
   "metadata": {},
   "outputs": [
    {
     "data": {
      "text/plain": [
       "'те а и оий я еетро на чюо п жл итеи и  ителагсунасри  иогиерот о  е гсо за  аа оалилтионмсал с ь прнвя савд д уенотомеп г сто калос оон нидиечя е о с о  налт   а  а  бикмееоа и оонеоля ре ант о кры р оорко втьа и рибя   зот о оо ожялтеа крльс иатконслм ганаивтоо не томв  поь т о  п о ри ой крл с зр о бршл ь рл итеи ро ителагсунасе е а оае  звюыниз  е асои  нчекаи дыре  огаот о о тнане е кть  и оонеоло оои ониукрыот о   орер с о доср оортоонеоло оои т о  налтоюыниз  поти дн о оси т пт о  о  аал итеи во ителагсунасеа и  кжм е иатои  в о о о  сбеио бт о  аар о е  втв са оои о е о   й кнаяаа вечея уи о е мр  св ко пооня о  о о о  итеи во ителагсунасе дся радо оо и т л а вчлвоткоерьртоо ам ом р оа о дырпот мпоа йовуовал ниое   ио  риосд о о о   орер си омгояои т о  аар  о  потои н нот ипотх си ивя о  перьраос  сали снкмл атн ьов  п атнже ваа о  перьрао тнанеаал а вчлвполезпояя р  п рл а вуе о  орт о рэсти  и иив ко о рьь па  п на чюрао о рьа  поо альс иат о   зш и пме л с ерди о  о о о  птоо альсви  дбы о ори креля  о  птя з  о  асои о о  и  ог о  о  итеи во ителагсунасеа и оадя ана иат в о  а  го р д  в о рдивв пря оло оь ртооесе о рчея  рпотоолосж тйя е о сводлож тй ся  пднови оиатоо тии оси раметитза ваня еис п п сшус по длож тй ся  пд еикм  е вст ие анчалдст налрасоьет за  е й ая е л  к голыс оои кмпоокайи ониси  анмвоолоазс е мр  свь па  ч итонла зе анитоитцеи ниан уоьо  санае дии крервевнкс о с о зып а окатоа и  огоймониан к тоо отсаь ролк ралрголыс оорл а вчли рьыо  оги  о   анла у'"
      ]
     },
     "execution_count": 28,
     "metadata": {},
     "output_type": "execute_result"
    }
   ],
   "source": [
    "''.join(dec_text)"
   ]
  },
  {
   "cell_type": "markdown",
   "id": "3f0feaed",
   "metadata": {},
   "source": [
    "Даже не считая метрику видно, что получилось хуже."
   ]
  },
  {
   "cell_type": "markdown",
   "id": "8256fed4",
   "metadata": {},
   "source": [
    "# MCMC"
   ]
  },
  {
   "cell_type": "markdown",
   "id": "6761b773",
   "metadata": {},
   "source": [
    "1. Меняем местами две случайные буквы в ключе расшифровки\n",
    "2. Оцениваем вероятность получить такой текст. У нас есть статистика, построенная на войне и мире. Из нее мы знаем вероятности встретить биграммы. Таким образом, мы можем посчитать likelihood декодированного текста как произведение вероятностей для всех биграмм в нем.\n",
    "3. Принимаем или отклоняем новый ключ шифрования (если новый likelihood больше, то принимаем, если меньше, то принимаем с вероятностью new_llh / old_llh)"
   ]
  },
  {
   "cell_type": "code",
   "execution_count": 29,
   "id": "074d3676",
   "metadata": {},
   "outputs": [],
   "source": [
    "ALPHA = [chr(sym) for sym in range(ord('а'), ord('я') + 1)]\n",
    "ALPHA.append(\" \")\n",
    "NAN = 1 / len(ALPHA) ** 2\n",
    "n_epoch = 20000"
   ]
  },
  {
   "cell_type": "code",
   "execution_count": 48,
   "id": "b32858a5",
   "metadata": {},
   "outputs": [],
   "source": [
    "def loglikelihood(text, stat_org_text, win_size=2):\n",
    "        bigram_counts = calc_stats_from_string(text, win_size)\n",
    "        return np.sum([count * np.log(stat_org_text.get(bigram, NAN)) \n",
    "                       for bigram, count in bigram_counts.items()])"
   ]
  },
  {
   "cell_type": "code",
   "execution_count": 31,
   "id": "17a0a72d",
   "metadata": {},
   "outputs": [],
   "source": [
    "def exchange(text):\n",
    "    letters = np.random.choice(ALPHA, 2, replace=False)\n",
    "    for i in range(len(text)):\n",
    "        if text[i] == letters[0]:\n",
    "            text[i] = letters[1]\n",
    "        elif text[i] == letters[1]:\n",
    "            text[i] = letters[0]\n",
    "    return ''.join(text)"
   ]
  },
  {
   "cell_type": "code",
   "execution_count": 49,
   "id": "07436d00",
   "metadata": {},
   "outputs": [],
   "source": [
    "def decode(text, n_epoch, war_peace_rus_bigram, win_size=2):\n",
    "    best_decoded_text = copy(text)\n",
    "    cur_llh = best_llh = loglikelihood(text, war_peace_rus_bigram, win_size) \n",
    "    for iteration in tqdm(range(n_epoch)):\n",
    "        new_text = exchange(copy(list(text)))\n",
    "        new_llh = loglikelihood(new_text, war_peace_rus_bigram, win_size)\n",
    "        if new_llh > cur_llh or np.random.rand() < np.exp(new_llh - cur_llh):\n",
    "            text = new_text\n",
    "            cur_llh = new_llh\n",
    "            if cur_llh > best_llh:\n",
    "                best_llh = cur_llh\n",
    "                best_decoded_text = copy(text)\n",
    "                    \n",
    "        if iteration % 5000 == 0:\n",
    "            print(f'Значение логорифма правдаподобия: {best_llh}')\n",
    "            print(''.join(best_decoded_text))\n",
    "\n",
    "    return ''.join(best_decoded_text)"
   ]
  },
  {
   "cell_type": "code",
   "execution_count": 43,
   "id": "24ef9d16",
   "metadata": {},
   "outputs": [
    {
     "name": "stderr",
     "output_type": "stream",
     "text": [
      "  0%|          | 79/20000 [00:00<00:48, 408.87it/s]"
     ]
    },
    {
     "name": "stdout",
     "output_type": "stream",
     "text": [
      "Значение логорифма правдаподобия: 4053.0158794196677\n",
      "удяжсгжкгэгмудфдхжш ф эртрж ождтгямггждтгямдснэ фрчгж мвзндхжгш жржмлгхмюжсднжсрлжлгзнвжуглжядяж сжыдмувкрфжн э швжк ълдсс лвжрлжчтгсвжш мвндэмуфгсс ш жм фгуджржсржсджлрсвувжсгжкэгяэдщдхжмф гш жрыт згсрхжчу оижсгжвквмуруюжгш жк жквсяудлжрытдшдтжглвжбрсдсм фиъжкэ гяужк чуржфж нс жржу жзгжфэглхжядяжзгсджветдж уждтгямгхждтгямдснэ фрчджмжсрлжмтвчрт мюжржмдл гжш эюя гжнтхжмтвздщгш жчгт фгяджм оиургжкэгяэдщгсргжф мц нхщгш жмтвзгос ш жнфрзгсрхжкэгяэдщгсргжау жм фгэерт мюжржфмгжхмс жфрнгтржау жс жмдлждтгямгъждтгямдснэ фрчжсгжм ысдфдтжгщгжу ш жчу жядэюгэджгш жя счгсджму тяс фгсргжтржм жмуэгл филжсгмчдмуюгжтржмжзгс ъжртржкэ му жу жчу ждтгямгъждтгямдснэ фрчжн егтжн жкэгнгтджя у эиъжглвжоитжкэгнсдысдчгсжс жнтхжфмгцжфжсисгесглжш нвжмудт ж чгфрнс жчу жмтвзгос гжк кэрщгжгш жя счгс ж сжгщгжыдсрлдтжфдзс гжлгму ж сжоитжчтгс лжлс шрцжя лрммръжржя лругу фжс ж сжоитжчгт фгя лжя у эиъжфгмюжфиегтжрж ужя у э ш жсрчгш жо тггжсгжзнвужчу жоиж сжсржш ф эртжчу жоижсржкэгнтдшдтжгш жмтведтржудяжядяжовну жу жчу ж сжкэгнтдшдгужндфс жвзгжрыфгмус жржгмуюжу жмдл гжчу жсгжсвзс жс ждтгямгъждтгямдснэ фрчжсгжчвфмуф фдтжау ш жржсдкэ урфжу ш жовнвчржвмуэдсгсж ужкэхл ш жвчдмурхжфжкэдфругтюмуфгсс ъжнгхугтюс муржхмсггжчглжкэгзнгжфрнгтжугкгэюжсгн мудуяржрж ерояржфжнгхугтюс муржнэвшрцжржмчрудтжмф рлжн тш лжвядыифдуюжсджмэгнмуфджяжрмкэдфтгсрьжрцжфмя эгжк мтгжмф гъжэдытвяржмжзгс ъж сжсдчдтжкрмдуюжмф ьжкгэфвьжыдкрмявж жс ф лжмвнгжрыжогмчрмтгсс ш жэхнджсря лвжсгжсвзсицжыдкрм яжк жфмглж уэдмтхлжвкэдфтгсрхжя у эигжоит жмвзнгс жсдкрмдую\n"
     ]
    },
    {
     "name": "stderr",
     "output_type": "stream",
     "text": [
      " 25%|██▌       | 5064/20000 [00:10<00:30, 487.61it/s]"
     ]
    },
    {
     "name": "stdout",
     "output_type": "stream",
     "text": [
      "Значение логорифма правдаподобия: 11921.749897660755\n",
      "так не переставая говорили об алексее александровиче осуждая его и смеясь над ним между тем как он заступив дорогу пойманному им члену государственного совета и ни на минуту не прекращая своего изложения чтобы не упустить его по пунктам излагал ему финансовый проект почти в одно и то же время как жена ушла от алексея александровича с ним случилось и самое горькое для служащего человека событие прекращение восходящего служебного движения прекращение это совершилось и все ясно видели это но сам алексей александрович не сознавал еще того что карьера его кончена столкновение ли со стремовым несчастье ли с женой или просто то что алексей александрович дошел до предела который ему был предназначен но для всех в нынешнем году стало очевидно что служебное поприще его кончено он еще занимал важное место он был членом многих комиссий и комитетов но он был человеком который весь вышел и от которого ничего более не ждут что бы он ни говорил что бы ни предлагал его слушали так как будто то что он предлагает давно уже известно и есть то самое что не нужно но алексей александрович не чувствовал этого и напротив того будучи устранен от прямого участия в правительственной деятельности яснее чем прежде видел теперь недостатки и ошибки в деятельности других и считал своим долгом указывать на средства к исправлению их вскоре после своей разлуки с женой он начал писать свою первую записку о новом суде из бесчисленного ряда никому не нужных записок по всем отраслям управления которые было суждено написать\n"
     ]
    },
    {
     "name": "stderr",
     "output_type": "stream",
     "text": [
      " 50%|█████     | 10061/20000 [00:20<00:20, 488.84it/s]"
     ]
    },
    {
     "name": "stdout",
     "output_type": "stream",
     "text": [
      "Значение логорифма правдаподобия: 11921.749897660755\n",
      "так не переставая говорили об алексее александровиче осуждая его и смеясь над ним между тем как он заступив дорогу пойманному им члену государственного совета и ни на минуту не прекращая своего изложения чтобы не упустить его по пунктам излагал ему финансовый проект почти в одно и то же время как жена ушла от алексея александровича с ним случилось и самое горькое для служащего человека событие прекращение восходящего служебного движения прекращение это совершилось и все ясно видели это но сам алексей александрович не сознавал еще того что карьера его кончена столкновение ли со стремовым несчастье ли с женой или просто то что алексей александрович дошел до предела который ему был предназначен но для всех в нынешнем году стало очевидно что служебное поприще его кончено он еще занимал важное место он был членом многих комиссий и комитетов но он был человеком который весь вышел и от которого ничего более не ждут что бы он ни говорил что бы ни предлагал его слушали так как будто то что он предлагает давно уже известно и есть то самое что не нужно но алексей александрович не чувствовал этого и напротив того будучи устранен от прямого участия в правительственной деятельности яснее чем прежде видел теперь недостатки и ошибки в деятельности других и считал своим долгом указывать на средства к исправлению их вскоре после своей разлуки с женой он начал писать свою первую записку о новом суде из бесчисленного ряда никому не нужных записок по всем отраслям управления которые было суждено написать\n"
     ]
    },
    {
     "name": "stderr",
     "output_type": "stream",
     "text": [
      " 75%|███████▌  | 15080/20000 [00:30<00:10, 491.02it/s]"
     ]
    },
    {
     "name": "stdout",
     "output_type": "stream",
     "text": [
      "Значение логорифма правдаподобия: 11921.749897660755\n",
      "так не переставая говорили об алексее александровиче осуждая его и смеясь над ним между тем как он заступив дорогу пойманному им члену государственного совета и ни на минуту не прекращая своего изложения чтобы не упустить его по пунктам излагал ему финансовый проект почти в одно и то же время как жена ушла от алексея александровича с ним случилось и самое горькое для служащего человека событие прекращение восходящего служебного движения прекращение это совершилось и все ясно видели это но сам алексей александрович не сознавал еще того что карьера его кончена столкновение ли со стремовым несчастье ли с женой или просто то что алексей александрович дошел до предела который ему был предназначен но для всех в нынешнем году стало очевидно что служебное поприще его кончено он еще занимал важное место он был членом многих комиссий и комитетов но он был человеком который весь вышел и от которого ничего более не ждут что бы он ни говорил что бы ни предлагал его слушали так как будто то что он предлагает давно уже известно и есть то самое что не нужно но алексей александрович не чувствовал этого и напротив того будучи устранен от прямого участия в правительственной деятельности яснее чем прежде видел теперь недостатки и ошибки в деятельности других и считал своим долгом указывать на средства к исправлению их вскоре после своей разлуки с женой он начал писать свою первую записку о новом суде из бесчисленного ряда никому не нужных записок по всем отраслям управления которые было суждено написать\n"
     ]
    },
    {
     "name": "stderr",
     "output_type": "stream",
     "text": [
      "100%|██████████| 20000/20000 [00:40<00:00, 487.86it/s]\n"
     ]
    },
    {
     "data": {
      "text/plain": [
       "'так не переставая говорили об алексее александровиче осуждая его и смеясь над ним между тем как он заступив дорогу пойманному им члену государственного совета и ни на минуту не прекращая своего изложения чтобы не упустить его по пунктам излагал ему финансовый проект почти в одно и то же время как жена ушла от алексея александровича с ним случилось и самое горькое для служащего человека событие прекращение восходящего служебного движения прекращение это совершилось и все ясно видели это но сам алексей александрович не сознавал еще того что карьера его кончена столкновение ли со стремовым несчастье ли с женой или просто то что алексей александрович дошел до предела который ему был предназначен но для всех в нынешнем году стало очевидно что служебное поприще его кончено он еще занимал важное место он был членом многих комиссий и комитетов но он был человеком который весь вышел и от которого ничего более не ждут что бы он ни говорил что бы ни предлагал его слушали так как будто то что он предлагает давно уже известно и есть то самое что не нужно но алексей александрович не чувствовал этого и напротив того будучи устранен от прямого участия в правительственной деятельности яснее чем прежде видел теперь недостатки и ошибки в деятельности других и считал своим долгом указывать на средства к исправлению их вскоре после своей разлуки с женой он начал писать свою первую записку о новом суде из бесчисленного ряда никому не нужных записок по всем отраслям управления которые было суждено написать'"
      ]
     },
     "execution_count": 43,
     "metadata": {},
     "output_type": "execute_result"
    }
   ],
   "source": [
    "decode(enc_text, n_epoch, war_peace_rus_bigram)"
   ]
  },
  {
   "cell_type": "markdown",
   "id": "9172180b",
   "metadata": {},
   "source": [
    "# Расшифруйте сообщение"
   ]
  },
  {
   "cell_type": "code",
   "execution_count": 34,
   "id": "86f9a0df",
   "metadata": {},
   "outputs": [],
   "source": [
    "enc_message = \"←⇠⇒↟↹↷⇊↹↷↟↤↟↨←↹↝⇛⇯↳⇴⇒⇈↝⇊↾↹↟⇒↟↹⇷⇛⇞↨↟↹↝⇛⇯↳⇴⇒⇈↝⇊↾↹↨←⇌⇠↨↹⇙↹⇸↨⇛↙⇛↹⇠⇛⇛↲⇆←↝↟↞↹⇌⇛↨⇛⇯⇊↾↹⇒←↙⇌⇛↹⇷⇯⇛⇞↟↨⇴↨⇈↹⇠⇌⇛⇯←←↹↷⇠←↙⇛↹↷⇊↹↷⇠←↹⇠↤←⇒⇴⇒↟↹⇷⇯⇴↷↟⇒⇈↝⇛↹↟↹⇷⇛⇒⇙⇞↟↨←↹↳⇴⇌⇠↟↳⇴⇒⇈↝⇊↾↹↲⇴⇒⇒↹⇰⇴↹⇷⇛⇠⇒←↤↝←←↹⇞←↨↷←⇯↨⇛←↹⇰⇴↤⇴↝↟←↹⇌⇙⇯⇠⇴↹↘⇛↨↞↹⇌⇛↝←⇞↝⇛↹↞↹↝↟⇞←↙⇛↹↝←↹⇛↲←⇆⇴⇏\""
   ]
  },
  {
   "cell_type": "code",
   "execution_count": 35,
   "id": "27c75ef8",
   "metadata": {},
   "outputs": [],
   "source": [
    "dec_text, key_table = decrypt_text(enc_message, enc_message, war_peace_rus)"
   ]
  },
  {
   "cell_type": "code",
   "execution_count": 40,
   "id": "d4a7c36c",
   "metadata": {},
   "outputs": [
    {
     "data": {
      "text/plain": [
       "'олие рд реяесо навгтиундь еие памсе навгтиундь соклс з шсаыа лаабйонеч касавдь иоыка пваместсу лкавоо рлоыа рд рло ляоитие пвтреиуна е паизмесо гтклегтиундь бтии жт палиояноо мосровсао жтятнео кзвлт хасч каномна ч немоыа но абойтю'"
      ]
     },
     "execution_count": 40,
     "metadata": {},
     "output_type": "execute_result"
    }
   ],
   "source": [
    "dec_text"
   ]
  },
  {
   "cell_type": "code",
   "execution_count": 42,
   "id": "518fe0de",
   "metadata": {},
   "outputs": [
    {
     "name": "stderr",
     "output_type": "stream",
     "text": [
      "  1%|          | 352/50000 [00:00<00:26, 1841.66it/s]"
     ]
    },
    {
     "name": "stdout",
     "output_type": "stream",
     "text": [
      "Значение логорифма правдаподобия: 1408.432521976006\n",
      "олие рд реяесо навгтиундь еие памсе навгтиундь соклс з шсаыа лаабйонеч касавдь иоыка пваместсу лкавоо рлоыа рд рло ляоитие пвтреиуна е паизмесо гтклегтиундь бтии жт палиояноо мосровсао жтятнео кзвлт хасч каномна ч немоыа но абойтю\n"
     ]
    },
    {
     "name": "stderr",
     "output_type": "stream",
     "text": [
      " 11%|█         | 5289/50000 [00:02<00:20, 2227.15it/s]"
     ]
    },
    {
     "name": "stdout",
     "output_type": "stream",
     "text": [
      "Значение логорифма правдаподобия: 1705.6744108998985\n",
      "есра ил иачане кодятрукль ара гомна кодятрукль невсн ы знохо сообшекаю вонодль рехво гдомантну сводее исехо ил исе счертра гдтиаруко а горымане ятвсаятрукль бтрр эт госречкее мениедное этчткае выдст поню вокемко ю камехо ке обештц\n"
     ]
    },
    {
     "name": "stderr",
     "output_type": "stream",
     "text": [
      " 21%|██        | 10444/50000 [00:04<00:17, 2235.37it/s]"
     ]
    },
    {
     "name": "stdout",
     "output_type": "stream",
     "text": [
      "Значение логорифма правдаподобия: 1705.7659392613577\n",
      "есра ил иачане кодятрыкль ара гомна кодятрыкль невсн у знохо соопшекаю вонодль рехво гдомантны сводее исехо ил исе счертра гдтиарыко а горумане ятвсаятрыкль птрр эт госречкее мениедное этчткае вудст боню вокемко ю камехо ке опештц\n"
     ]
    },
    {
     "name": "stderr",
     "output_type": "stream",
     "text": [
      " 31%|███       | 15380/50000 [00:06<00:15, 2237.54it/s]"
     ]
    },
    {
     "name": "stdout",
     "output_type": "stream",
     "text": [
      "Значение логорифма правдаподобия: 1705.7659392613577\n",
      "есра ил иачане кодятрыкль ара гомна кодятрыкль невсн у знохо соопшекаю вонодль рехво гдомантны сводее исехо ил исе счертра гдтиарыко а горумане ятвсаятрыкль птрр эт госречкее мениедное этчткае вудст боню вокемко ю камехо ке опештц\n"
     ]
    },
    {
     "name": "stderr",
     "output_type": "stream",
     "text": [
      " 41%|████      | 20308/50000 [00:09<00:13, 2233.74it/s]"
     ]
    },
    {
     "name": "stdout",
     "output_type": "stream",
     "text": [
      "Значение логорифма правдаподобия: 1709.694855184359\n",
      "есра ил иакане домятрудль ара божна домятрудль невсн ы зного соочшедаю вономль регво бможантну свомее исего ил исе скертра бмтиарудо а борыжане ятвсаятрудль чтрр эт босрекдее жениемное этктдае вымст поню водеждо ю дажего де очештц\n"
     ]
    },
    {
     "name": "stderr",
     "output_type": "stream",
     "text": [
      " 50%|█████     | 25237/50000 [00:11<00:11, 2233.74it/s]"
     ]
    },
    {
     "name": "stdout",
     "output_type": "stream",
     "text": [
      "Значение логорифма правдаподобия: 1709.694855184359\n",
      "есра ил иакане домятрудль ара божна домятрудль невсн ы зного соочшедаю вономль регво бможантну свомее исего ил исе скертра бмтиарудо а борыжане ятвсаятрудль чтрр эт босрекдее жениемное этктдае вымст поню водеждо ю дажего де очештц\n"
     ]
    },
    {
     "name": "stderr",
     "output_type": "stream",
     "text": [
      " 61%|██████    | 30392/50000 [00:13<00:08, 2238.77it/s]"
     ]
    },
    {
     "name": "stdout",
     "output_type": "stream",
     "text": [
      "Значение логорифма правдаподобия: 1709.694855184359\n",
      "есра ил иакане домятрудль ара божна домятрудль невсн ы зного соочшедаю вономль регво бможантну свомее исего ил исе скертра бмтиарудо а борыжане ятвсаятрудль чтрр эт босрекдее жениемное этктдае вымст поню водеждо ю дажего де очештц\n"
     ]
    },
    {
     "name": "stderr",
     "output_type": "stream",
     "text": [
      " 71%|███████   | 35540/50000 [00:15<00:06, 2227.97it/s]"
     ]
    },
    {
     "name": "stdout",
     "output_type": "stream",
     "text": [
      "Значение логорифма правдаподобия: 1715.8509615221244\n",
      "еиса дв дамане корятськвы аса пожна корятськвы нелин у зного иоочшекаю лонорвы сегло прожантнь илорее диего дв дие иместса пртдасько а посужане ятлиаятськвы чтсс эт поисемкее жендерное этмткае лурит боню локежко ю кажего ке очештц\n"
     ]
    },
    {
     "name": "stderr",
     "output_type": "stream",
     "text": [
      " 80%|████████  | 40239/50000 [00:18<00:04, 2233.37it/s]"
     ]
    },
    {
     "name": "stdout",
     "output_type": "stream",
     "text": [
      "Значение логорифма правдаподобия: 1762.2163632492156\n",
      "есла дв дачане торшильтвы ала помна торшильтвы нексн у жного сообщетая конорвы легко проманинь скорее дсего дв дсе счелила придальто а полумане шиксашильтвы билл зи послечтее мендерное зичитае курси хоня котемто я тамего те обещиц\n"
     ]
    },
    {
     "name": "stderr",
     "output_type": "stream",
     "text": [
      " 91%|█████████ | 45386/50000 [00:20<00:02, 2232.18it/s]"
     ]
    },
    {
     "name": "stdout",
     "output_type": "stream",
     "text": [
      "Значение логорифма правдаподобия: 1769.2652023911255\n",
      "если дв дичине торшальтвы или помни торшальтвы нексн у жного сообщетия конорвы легко проминань скорее дсего дв дсе счелали прадильто и полумине шаксишальтвы балл за послечтее мендерное зачатие курса хоня котемто я тимего те обещаю\n"
     ]
    },
    {
     "name": "stderr",
     "output_type": "stream",
     "text": [
      "100%|██████████| 50000/50000 [00:22<00:00, 2228.61it/s]\n"
     ]
    },
    {
     "data": {
      "text/plain": [
       "'если вд вимите норжальнды или почти норжальнды текст у этого сообщения которды легко прочитать скорее всего вд все смелали правильно и получите жаксижальнды балл за послемнее четвертое замание курса хотя конечно я ничего не обещаш'"
      ]
     },
     "execution_count": 42,
     "metadata": {},
     "output_type": "execute_result"
    }
   ],
   "source": [
    "decode(dec_text, 50000, war_peace_rus_bigram)"
   ]
  },
  {
   "cell_type": "markdown",
   "id": "e989a046",
   "metadata": {},
   "source": [
    "Получился почти читаемый текст. В предыдущем примере получился нормальный текст, потому что зашифрованный текст был из распределения пера \"Тостого\", а это просто случайный текст."
   ]
  },
  {
   "cell_type": "markdown",
   "id": "6e4840f7",
   "metadata": {},
   "source": [
    "# N-граммы"
   ]
  },
  {
   "cell_type": "markdown",
   "id": "c9103826",
   "metadata": {},
   "source": [
    "## 3-граммы"
   ]
  },
  {
   "cell_type": "code",
   "execution_count": 44,
   "id": "345206f6",
   "metadata": {},
   "outputs": [],
   "source": [
    "war_peace_rus_threeram = calc_stats_from_string(cleaner_war_peace, 3)\n",
    "war_peace_rus_threeram = dict(sorted(war_peace_rus_threeram.items(), key=lambda item: item[1], reverse=False))\n",
    "\n",
    "enc_text_threeram_stats = calc_stats_from_string(enc_text, 3)\n",
    "enc_text_threeram_stats = dict(sorted(enc_text_threeram_stats.items(), key=lambda item: item[1], reverse=False))"
   ]
  },
  {
   "cell_type": "code",
   "execution_count": 55,
   "id": "fe1f81cf",
   "metadata": {},
   "outputs": [
    {
     "name": "stderr",
     "output_type": "stream",
     "text": [
      "  0%|          | 62/15000 [00:00<00:47, 317.55it/s]"
     ]
    },
    {
     "name": "stdout",
     "output_type": "stream",
     "text": [
      "Значение логорифма правдаподобия: -7017.317829324803\n",
      "удяжсгжкгэгмудфдхжш ф эрчрж ождчгямггждчгямдснэ фртгж мвзндхжгш жржмлгхмюжсднжсрлжлгзнвжуглжядяж сжыдмувкрфжн э швжк ълдсс лвжрлжтчгсвжш мвндэмуфгсс ш жм фгуджржсржсджлрсвувжсгжкэгяэдщдхжмф гш жрыч згсрхжту оижсгжвквмуруюжгш жк жквсяудлжрычдшдчжглвжбрсдсм фиъжкэ гяужк туржфж нс жржу жзгжфэглхжядяжзгсджвечдж уждчгямгхждчгямдснэ фртджмжсрлжмчвтрч мюжржмдл гжш эюя гжнчхжмчвздщгш жтгч фгяджм оиургжкэгяэдщгсргжф мц нхщгш жмчвзгос ш жнфрзгсрхжкэгяэдщгсргжау жм фгэерч мюжржфмгжхмс жфрнгчржау жс жмдлждчгямгъждчгямдснэ фртжсгжм ысдфдчжгщгжу ш жту жядэюгэджгш жя стгсджму чяс фгсргжчржм жмуэгл филжсгмтдмуюгжчржмжзгс ъжрчржкэ му жу жту ждчгямгъждчгямдснэ фртжн егчжн жкэгнгчджя у эиъжглвжоичжкэгнсдысдтгсжс жнчхжфмгцжфжсисгесглжш нвжмудч ж тгфрнс жту жмчвзгос гжк кэрщгжгш жя стгс ж сжгщгжыдсрлдчжфдзс гжлгму ж сжоичжтчгс лжлс шрцжя лрммръжржя лругу фжс ж сжоичжтгч фгя лжя у эиъжфгмюжфиегчжрж ужя у э ш жсртгш жо чггжсгжзнвужту жоиж сжсржш ф эрчжту жоижсржкэгнчдшдчжгш жмчведчржудяжядяжовну жу жту ж сжкэгнчдшдгужндфс жвзгжрыфгмус жржгмуюжу жмдл гжту жсгжсвзс жс ждчгямгъждчгямдснэ фртжсгжтвфмуф фдчжау ш жржсдкэ урфжу ш жовнвтржвмуэдсгсж ужкэхл ш жвтдмурхжфжкэдфругчюмуфгсс ъжнгхугчюс муржхмсггжтглжкэгзнгжфрнгчжугкгэюжсгн мудуяржрж ерояржфжнгхугчюс муржнэвшрцжржмтрудчжмф рлжн чш лжвядыифдуюжсджмэгнмуфджяжрмкэдфчгсрьжрцжфмя эгжк мчгжмф гъжэдычвяржмжзгс ъж сжсдтдчжкрмдуюжмф ьжкгэфвьжыдкрмявж жс ф лжмвнгжрыжогмтрмчгсс ш жэхнджсря лвжсгжсвзсицжыдкрм яжк жфмглж уэдмчхлжвкэдфчгсрхжя у эигжоич жмвзнгс жсдкрмдую\n"
     ]
    },
    {
     "name": "stderr",
     "output_type": "stream",
     "text": [
      " 34%|███▎      | 5044/15000 [00:13<00:27, 362.66it/s]"
     ]
    },
    {
     "name": "stdout",
     "output_type": "stream",
     "text": [
      "Значение логорифма правдаподобия: 8823.09448194375\n",
      "так не переставая говорили об алексее александровиче осуждая его и смеясь над ним между тем как он заступив дорогу пойманному им члену государственного совета и ни на минуту не прекращая своего изложения чтобы не упустить его по пунктам излагал ему финансовый проект почти в одно и то же время как жена ушла от алексея александровича с ним случилось и самое горькое для служащего человека событие прекращение восходящего служебного движения прекращение это совершилось и все ясно видели это но сам алексей александрович не сознавал еще того что карьера его кончена столкновение ли со стремовым несчастье ли с женой или просто то что алексей александрович дошел до предела который ему был предназначен но для всех в нынешнем году стало очевидно что служебное поприще его кончено он еще занимал важное место он был членом многих комиссий и комитетов но он был человеком который весь вышел и от которого ничего более не ждут что бы он ни говорил что бы ни предлагал его слушали так как будто то что он предлагает давно уже известно и есть то самое что не нужно но алексей александрович не чувствовал этого и напротив того будучи устранен от прямого участия в правительственной деятельности яснее чем прежде видел теперь недостатки и ошибки в деятельности других и считал своим долгом указывать на средства к исправлению их вскоре после своей разлуки с женой он начал писать свою первую записку о новом суде из бесчисленного ряда никому не нужных записок по всем отраслям управления которые было суждено написать\n"
     ]
    },
    {
     "name": "stderr",
     "output_type": "stream",
     "text": [
      " 67%|██████▋   | 10039/15000 [00:27<00:13, 362.58it/s]"
     ]
    },
    {
     "name": "stdout",
     "output_type": "stream",
     "text": [
      "Значение логорифма правдаподобия: 8823.09448194375\n",
      "так не переставая говорили об алексее александровиче осуждая его и смеясь над ним между тем как он заступив дорогу пойманному им члену государственного совета и ни на минуту не прекращая своего изложения чтобы не упустить его по пунктам излагал ему финансовый проект почти в одно и то же время как жена ушла от алексея александровича с ним случилось и самое горькое для служащего человека событие прекращение восходящего служебного движения прекращение это совершилось и все ясно видели это но сам алексей александрович не сознавал еще того что карьера его кончена столкновение ли со стремовым несчастье ли с женой или просто то что алексей александрович дошел до предела который ему был предназначен но для всех в нынешнем году стало очевидно что служебное поприще его кончено он еще занимал важное место он был членом многих комиссий и комитетов но он был человеком который весь вышел и от которого ничего более не ждут что бы он ни говорил что бы ни предлагал его слушали так как будто то что он предлагает давно уже известно и есть то самое что не нужно но алексей александрович не чувствовал этого и напротив того будучи устранен от прямого участия в правительственной деятельности яснее чем прежде видел теперь недостатки и ошибки в деятельности других и считал своим долгом указывать на средства к исправлению их вскоре после своей разлуки с женой он начал писать свою первую записку о новом суде из бесчисленного ряда никому не нужных записок по всем отраслям управления которые было суждено написать\n"
     ]
    },
    {
     "name": "stderr",
     "output_type": "stream",
     "text": [
      "100%|██████████| 15000/15000 [00:41<00:00, 363.16it/s]\n"
     ]
    },
    {
     "data": {
      "text/plain": [
       "'так не переставая говорили об алексее александровиче осуждая его и смеясь над ним между тем как он заступив дорогу пойманному им члену государственного совета и ни на минуту не прекращая своего изложения чтобы не упустить его по пунктам излагал ему финансовый проект почти в одно и то же время как жена ушла от алексея александровича с ним случилось и самое горькое для служащего человека событие прекращение восходящего служебного движения прекращение это совершилось и все ясно видели это но сам алексей александрович не сознавал еще того что карьера его кончена столкновение ли со стремовым несчастье ли с женой или просто то что алексей александрович дошел до предела который ему был предназначен но для всех в нынешнем году стало очевидно что служебное поприще его кончено он еще занимал важное место он был членом многих комиссий и комитетов но он был человеком который весь вышел и от которого ничего более не ждут что бы он ни говорил что бы ни предлагал его слушали так как будто то что он предлагает давно уже известно и есть то самое что не нужно но алексей александрович не чувствовал этого и напротив того будучи устранен от прямого участия в правительственной деятельности яснее чем прежде видел теперь недостатки и ошибки в деятельности других и считал своим долгом указывать на средства к исправлению их вскоре после своей разлуки с женой он начал писать свою первую записку о новом суде из бесчисленного ряда никому не нужных записок по всем отраслям управления которые было суждено написать'"
      ]
     },
     "execution_count": 55,
     "metadata": {},
     "output_type": "execute_result"
    }
   ],
   "source": [
    "decode(enc_text, 15000, war_peace_rus_threeram, 3)"
   ]
  },
  {
   "cell_type": "markdown",
   "id": "4148e1f3",
   "metadata": {},
   "source": [
    "## 4-граммы"
   ]
  },
  {
   "cell_type": "code",
   "execution_count": 53,
   "id": "28be2e1a",
   "metadata": {},
   "outputs": [],
   "source": [
    "war_peace_rus_fourram = calc_stats_from_string(cleaner_war_peace, 3)\n",
    "war_peace_rus_fourram = dict(sorted(war_peace_rus_fourram.items(), key=lambda item: item[1], reverse=False))\n",
    "\n",
    "enc_text_fourram_stats = calc_stats_from_string(enc_text, 3)\n",
    "enc_text_fourram_stats = dict(sorted(enc_text_fourram_stats.items(), key=lambda item: item[1], reverse=False))"
   ]
  },
  {
   "cell_type": "code",
   "execution_count": 56,
   "id": "1375f72b",
   "metadata": {},
   "outputs": [
    {
     "name": "stderr",
     "output_type": "stream",
     "text": [
      "  0%|          | 68/15000 [00:00<00:44, 338.41it/s]"
     ]
    },
    {
     "name": "stdout",
     "output_type": "stream",
     "text": [
      "Значение логорифма правдаподобия: -10524.487760014106\n",
      "удяжсгжкгэгмудфдхжш ф эрчрж ождчгямггждчгямдснэ фртгж мвзндхжгш жржмлгхмюжсднжсрлжлгзнвжуглжядяж сжыдмувкрфжн э швжк ълдсс лвжрлжтчгсвжш мвндэмуфгсс ш жм фгуджржсржсджлрсвувжсгжкэгяэдщдхжмф гш жрыч згсрхжту оижсгжвквмуруюжгш жк жквсяудлжрычдшдчжглвжбрсдсм фиъжкэ гяужк туржфж нс жржу жзгжфэглхжядяжзгсджвечдж уждчгямгхждчгямдснэ фртджмжсрлжмчвтрч мюжржмдл гжш эюя гжнчхжмчвздщгш жтгч фгяджм оиургжкэгяэдщгсргжф мц нхщгш жмчвзгос ш жнфрзгсрхжкэгяэдщгсргжау жм фгэерч мюжржфмгжхмс жфрнгчржау жс жмдлждчгямгъждчгямдснэ фртжсгжм ысдфдчжгщгжу ш жту жядэюгэджгш жя стгсджму чяс фгсргжчржм жмуэгл филжсгмтдмуюгжчржмжзгс ъжрчржкэ му жу жту ждчгямгъждчгямдснэ фртжн егчжн жкэгнгчджя у эиъжглвжоичжкэгнсдысдтгсжс жнчхжфмгцжфжсисгесглжш нвжмудч ж тгфрнс жту жмчвзгос гжк кэрщгжгш жя стгс ж сжгщгжыдсрлдчжфдзс гжлгму ж сжоичжтчгс лжлс шрцжя лрммръжржя лругу фжс ж сжоичжтгч фгя лжя у эиъжфгмюжфиегчжрж ужя у э ш жсртгш жо чггжсгжзнвужту жоиж сжсржш ф эрчжту жоижсржкэгнчдшдчжгш жмчведчржудяжядяжовну жу жту ж сжкэгнчдшдгужндфс жвзгжрыфгмус жржгмуюжу жмдл гжту жсгжсвзс жс ждчгямгъждчгямдснэ фртжсгжтвфмуф фдчжау ш жржсдкэ урфжу ш жовнвтржвмуэдсгсж ужкэхл ш жвтдмурхжфжкэдфругчюмуфгсс ъжнгхугчюс муржхмсггжтглжкэгзнгжфрнгчжугкгэюжсгн мудуяржрж ерояржфжнгхугчюс муржнэвшрцжржмтрудчжмф рлжн чш лжвядыифдуюжсджмэгнмуфджяжрмкэдфчгсрьжрцжфмя эгжк мчгжмф гъжэдычвяржмжзгс ъж сжсдтдчжкрмдуюжмф ьжкгэфвьжыдкрмявж жс ф лжмвнгжрыжогмтрмчгсс ш жэхнджсря лвжсгжсвзсицжыдкрм яжк жфмглж уэдмчхлжвкэдфчгсрхжя у эигжоич жмвзнгс жсдкрмдую\n"
     ]
    },
    {
     "name": "stderr",
     "output_type": "stream",
     "text": [
      " 34%|███▍      | 5072/15000 [00:14<00:29, 340.45it/s]"
     ]
    },
    {
     "name": "stdout",
     "output_type": "stream",
     "text": [
      "Значение логорифма правдаподобия: -10524.487760014106\n",
      "удяжсгжкгэгмудфдхжш ф эрчрж ождчгямггждчгямдснэ фртгж мвзндхжгш жржмлгхмюжсднжсрлжлгзнвжуглжядяж сжыдмувкрфжн э швжк ълдсс лвжрлжтчгсвжш мвндэмуфгсс ш жм фгуджржсржсджлрсвувжсгжкэгяэдщдхжмф гш жрыч згсрхжту оижсгжвквмуруюжгш жк жквсяудлжрычдшдчжглвжбрсдсм фиъжкэ гяужк туржфж нс жржу жзгжфэглхжядяжзгсджвечдж уждчгямгхждчгямдснэ фртджмжсрлжмчвтрч мюжржмдл гжш эюя гжнчхжмчвздщгш жтгч фгяджм оиургжкэгяэдщгсргжф мц нхщгш жмчвзгос ш жнфрзгсрхжкэгяэдщгсргжау жм фгэерч мюжржфмгжхмс жфрнгчржау жс жмдлждчгямгъждчгямдснэ фртжсгжм ысдфдчжгщгжу ш жту жядэюгэджгш жя стгсджму чяс фгсргжчржм жмуэгл филжсгмтдмуюгжчржмжзгс ъжрчржкэ му жу жту ждчгямгъждчгямдснэ фртжн егчжн жкэгнгчджя у эиъжглвжоичжкэгнсдысдтгсжс жнчхжфмгцжфжсисгесглжш нвжмудч ж тгфрнс жту жмчвзгос гжк кэрщгжгш жя стгс ж сжгщгжыдсрлдчжфдзс гжлгму ж сжоичжтчгс лжлс шрцжя лрммръжржя лругу фжс ж сжоичжтгч фгя лжя у эиъжфгмюжфиегчжрж ужя у э ш жсртгш жо чггжсгжзнвужту жоиж сжсржш ф эрчжту жоижсржкэгнчдшдчжгш жмчведчржудяжядяжовну жу жту ж сжкэгнчдшдгужндфс жвзгжрыфгмус жржгмуюжу жмдл гжту жсгжсвзс жс ждчгямгъждчгямдснэ фртжсгжтвфмуф фдчжау ш жржсдкэ урфжу ш жовнвтржвмуэдсгсж ужкэхл ш жвтдмурхжфжкэдфругчюмуфгсс ъжнгхугчюс муржхмсггжтглжкэгзнгжфрнгчжугкгэюжсгн мудуяржрж ерояржфжнгхугчюс муржнэвшрцжржмтрудчжмф рлжн чш лжвядыифдуюжсджмэгнмуфджяжрмкэдфчгсрьжрцжфмя эгжк мчгжмф гъжэдычвяржмжзгс ъж сжсдтдчжкрмдуюжмф ьжкгэфвьжыдкрмявж жс ф лжмвнгжрыжогмтрмчгсс ш жэхнджсря лвжсгжсвзсицжыдкрм яжк жфмглж уэдмчхлжвкэдфчгсрхжя у эигжоич жмвзнгс жсдкрмдую\n"
     ]
    },
    {
     "name": "stderr",
     "output_type": "stream",
     "text": [
      " 67%|██████▋   | 10068/15000 [00:29<00:14, 343.08it/s]"
     ]
    },
    {
     "name": "stdout",
     "output_type": "stream",
     "text": [
      "Значение логорифма правдаподобия: -10524.487760014106\n",
      "удяжсгжкгэгмудфдхжш ф эрчрж ождчгямггждчгямдснэ фртгж мвзндхжгш жржмлгхмюжсднжсрлжлгзнвжуглжядяж сжыдмувкрфжн э швжк ълдсс лвжрлжтчгсвжш мвндэмуфгсс ш жм фгуджржсржсджлрсвувжсгжкэгяэдщдхжмф гш жрыч згсрхжту оижсгжвквмуруюжгш жк жквсяудлжрычдшдчжглвжбрсдсм фиъжкэ гяужк туржфж нс жржу жзгжфэглхжядяжзгсджвечдж уждчгямгхждчгямдснэ фртджмжсрлжмчвтрч мюжржмдл гжш эюя гжнчхжмчвздщгш жтгч фгяджм оиургжкэгяэдщгсргжф мц нхщгш жмчвзгос ш жнфрзгсрхжкэгяэдщгсргжау жм фгэерч мюжржфмгжхмс жфрнгчржау жс жмдлждчгямгъждчгямдснэ фртжсгжм ысдфдчжгщгжу ш жту жядэюгэджгш жя стгсджму чяс фгсргжчржм жмуэгл филжсгмтдмуюгжчржмжзгс ъжрчржкэ му жу жту ждчгямгъждчгямдснэ фртжн егчжн жкэгнгчджя у эиъжглвжоичжкэгнсдысдтгсжс жнчхжфмгцжфжсисгесглжш нвжмудч ж тгфрнс жту жмчвзгос гжк кэрщгжгш жя стгс ж сжгщгжыдсрлдчжфдзс гжлгму ж сжоичжтчгс лжлс шрцжя лрммръжржя лругу фжс ж сжоичжтгч фгя лжя у эиъжфгмюжфиегчжрж ужя у э ш жсртгш жо чггжсгжзнвужту жоиж сжсржш ф эрчжту жоижсржкэгнчдшдчжгш жмчведчржудяжядяжовну жу жту ж сжкэгнчдшдгужндфс жвзгжрыфгмус жржгмуюжу жмдл гжту жсгжсвзс жс ждчгямгъждчгямдснэ фртжсгжтвфмуф фдчжау ш жржсдкэ урфжу ш жовнвтржвмуэдсгсж ужкэхл ш жвтдмурхжфжкэдфругчюмуфгсс ъжнгхугчюс муржхмсггжтглжкэгзнгжфрнгчжугкгэюжсгн мудуяржрж ерояржфжнгхугчюс муржнэвшрцжржмтрудчжмф рлжн чш лжвядыифдуюжсджмэгнмуфджяжрмкэдфчгсрьжрцжфмя эгжк мчгжмф гъжэдычвяржмжзгс ъж сжсдтдчжкрмдуюжмф ьжкгэфвьжыдкрмявж жс ф лжмвнгжрыжогмтрмчгсс ш жэхнджсря лвжсгжсвзсицжыдкрм яжк жфмглж уэдмчхлжвкэдфчгсрхжя у эигжоич жмвзнгс жсдкрмдую\n"
     ]
    },
    {
     "name": "stderr",
     "output_type": "stream",
     "text": [
      "100%|██████████| 15000/15000 [00:43<00:00, 341.96it/s]\n"
     ]
    },
    {
     "data": {
      "text/plain": [
       "'удяжсгжкгэгмудфдхжш ф эрчрж ождчгямггждчгямдснэ фртгж мвзндхжгш жржмлгхмюжсднжсрлжлгзнвжуглжядяж сжыдмувкрфжн э швжк ълдсс лвжрлжтчгсвжш мвндэмуфгсс ш жм фгуджржсржсджлрсвувжсгжкэгяэдщдхжмф гш жрыч згсрхжту оижсгжвквмуруюжгш жк жквсяудлжрычдшдчжглвжбрсдсм фиъжкэ гяужк туржфж нс жржу жзгжфэглхжядяжзгсджвечдж уждчгямгхждчгямдснэ фртджмжсрлжмчвтрч мюжржмдл гжш эюя гжнчхжмчвздщгш жтгч фгяджм оиургжкэгяэдщгсргжф мц нхщгш жмчвзгос ш жнфрзгсрхжкэгяэдщгсргжау жм фгэерч мюжржфмгжхмс жфрнгчржау жс жмдлждчгямгъждчгямдснэ фртжсгжм ысдфдчжгщгжу ш жту жядэюгэджгш жя стгсджму чяс фгсргжчржм жмуэгл филжсгмтдмуюгжчржмжзгс ъжрчржкэ му жу жту ждчгямгъждчгямдснэ фртжн егчжн жкэгнгчджя у эиъжглвжоичжкэгнсдысдтгсжс жнчхжфмгцжфжсисгесглжш нвжмудч ж тгфрнс жту жмчвзгос гжк кэрщгжгш жя стгс ж сжгщгжыдсрлдчжфдзс гжлгму ж сжоичжтчгс лжлс шрцжя лрммръжржя лругу фжс ж сжоичжтгч фгя лжя у эиъжфгмюжфиегчжрж ужя у э ш жсртгш жо чггжсгжзнвужту жоиж сжсржш ф эрчжту жоижсржкэгнчдшдчжгш жмчведчржудяжядяжовну жу жту ж сжкэгнчдшдгужндфс жвзгжрыфгмус жржгмуюжу жмдл гжту жсгжсвзс жс ждчгямгъждчгямдснэ фртжсгжтвфмуф фдчжау ш жржсдкэ урфжу ш жовнвтржвмуэдсгсж ужкэхл ш жвтдмурхжфжкэдфругчюмуфгсс ъжнгхугчюс муржхмсггжтглжкэгзнгжфрнгчжугкгэюжсгн мудуяржрж ерояржфжнгхугчюс муржнэвшрцжржмтрудчжмф рлжн чш лжвядыифдуюжсджмэгнмуфджяжрмкэдфчгсрьжрцжфмя эгжк мчгжмф гъжэдычвяржмжзгс ъж сжсдтдчжкрмдуюжмф ьжкгэфвьжыдкрмявж жс ф лжмвнгжрыжогмтрмчгсс ш жэхнджсря лвжсгжсвзсицжыдкрм яжк жфмглж уэдмчхлжвкэдфчгсрхжя у эигжоич жмвзнгс жсдкрмдую'"
      ]
     },
     "execution_count": 56,
     "metadata": {},
     "output_type": "execute_result"
    }
   ],
   "source": [
    "decode(enc_text, 15000, war_peace_rus_threeram, 4)"
   ]
  },
  {
   "cell_type": "markdown",
   "id": "392c295a",
   "metadata": {},
   "source": [
    "## Выводы\n",
    "У меня появилась следующая интуиция: что при увелечении числа букв в одной \"грамме\" растёт этропия распределения \"грамм\" и следовательно MCMC становиться тяжелее сойтись в оптимум."
   ]
  },
  {
   "cell_type": "markdown",
   "id": "22294106",
   "metadata": {},
   "source": [
    "# Применения для этой модели\n",
    "Думаю, возможно применить MCMC когда у  объектов имеется структура или последовательность или модель и их необходимо анализировать, например ДНК или что нибудь из биоинформатики"
   ]
  },
  {
   "cell_type": "code",
   "execution_count": null,
   "id": "eec10f78",
   "metadata": {},
   "outputs": [],
   "source": []
  },
  {
   "cell_type": "code",
   "execution_count": null,
   "id": "690a8826",
   "metadata": {},
   "outputs": [],
   "source": []
  },
  {
   "cell_type": "code",
   "execution_count": null,
   "id": "13a62232",
   "metadata": {},
   "outputs": [],
   "source": []
  },
  {
   "cell_type": "code",
   "execution_count": null,
   "id": "42c328c2",
   "metadata": {},
   "outputs": [],
   "source": []
  },
  {
   "cell_type": "code",
   "execution_count": null,
   "id": "31b55c9f",
   "metadata": {},
   "outputs": [],
   "source": []
  },
  {
   "cell_type": "code",
   "execution_count": null,
   "id": "be09b1a6",
   "metadata": {},
   "outputs": [],
   "source": []
  }
 ],
 "metadata": {
  "kernelspec": {
   "display_name": "Python 3",
   "language": "python",
   "name": "python3"
  },
  "language_info": {
   "codemirror_mode": {
    "name": "ipython",
    "version": 3
   },
   "file_extension": ".py",
   "mimetype": "text/x-python",
   "name": "python",
   "nbconvert_exporter": "python",
   "pygments_lexer": "ipython3",
   "version": "3.8.8"
  }
 },
 "nbformat": 4,
 "nbformat_minor": 5
}
