{
  "cells": [
    {
      "cell_type": "code",
      "execution_count": 1,
      "metadata": {
        "id": "fd9567a6"
      },
      "outputs": [],
      "source": [
        "import matplotlib as mpl\n",
        "import matplotlib.pyplot as plt\n",
        "import seaborn as sns\n",
        "import json\n",
        "import numpy as np\n",
        "import pandas as pd\n",
        "\n",
        "import scipy as sp\n",
        "import scipy.stats as st\n",
        "from scipy.special import expit as sigmoid\n",
        "from scipy import stats\n",
        "\n",
        "from scipy import sparse\n",
        "from scipy.stats import multivariate_normal\n",
        "\n",
        "from sklearn.linear_model import LinearRegression, Ridge, LogisticRegression\n",
        "from copy import copy\n",
        "from IPython.display import Image\n",
        "import pickle\n",
        "from datetime import datetime, timedelta\n",
        "import json\n",
        "import gc\n",
        "import re\n",
        "from tqdm import tqdm\n",
        "from collections import defaultdict, Counter\n",
        "\n",
        "\n",
        "from sklearn.preprocessing import OneHotEncoder\n",
        "from sklearn.compose import ColumnTransformer\n",
        "from sklearn.compose import make_column_transformer\n",
        "from sklearn.pipeline import Pipeline\n",
        "\n",
        "sns.set_style(\"whitegrid\")\n",
        "sns.set_palette(\"colorblind\")\n",
        "palette = sns.color_palette()\n",
        "figsize = (15,8)\n",
        "legend_fontsize = 16\n",
        "\n",
        "from matplotlib import rc\n",
        "rc('font',**{'family':'sans-serif'})\n",
        "rc('figure', **{'dpi': 300})"
      ],
      "id": "fd9567a6"
    },
    {
      "cell_type": "code",
      "execution_count": 2,
      "metadata": {
        "colab": {
          "base_uri": "https://localhost:8080/"
        },
        "id": "iQ3Y11njHNEI",
        "outputId": "16c54ab9-ec7e-4a75-b6bf-c48a182d8df2"
      },
      "outputs": [
        {
          "output_type": "stream",
          "name": "stdout",
          "text": [
            "--2022-04-21 16:08:30--  https://www.dropbox.com/s/s4qj0fpsn378m2i/chgk.zip\n",
            "Resolving www.dropbox.com (www.dropbox.com)... 162.125.81.18, 2620:100:6030:18::a27d:5012\n",
            "Connecting to www.dropbox.com (www.dropbox.com)|162.125.81.18|:443... connected.\n",
            "HTTP request sent, awaiting response... 301 Moved Permanently\n",
            "Location: /s/raw/s4qj0fpsn378m2i/chgk.zip [following]\n",
            "--2022-04-21 16:08:30--  https://www.dropbox.com/s/raw/s4qj0fpsn378m2i/chgk.zip\n",
            "Reusing existing connection to www.dropbox.com:443.\n",
            "HTTP request sent, awaiting response... 302 Found\n",
            "Location: https://uc23e24b4fc10a0e479ec45644ad.dl.dropboxusercontent.com/cd/0/inline/Bj1Fp0_7CyNnIxZWrXCs6oiTTRmqKZkn3ayF39kA3UYd30cwIg8ookfrEBn6op_UlNYXoUu-qMqSiCNRMc3lic4poKNrHIxGO9T3WTzi0RBz3mHlBZpw8mduIYOHY-dO1_bYTyMMnC5fSz44OHnuJezplALRVB3V3nx0MSLC8Ijrxw/file# [following]\n",
            "--2022-04-21 16:08:31--  https://uc23e24b4fc10a0e479ec45644ad.dl.dropboxusercontent.com/cd/0/inline/Bj1Fp0_7CyNnIxZWrXCs6oiTTRmqKZkn3ayF39kA3UYd30cwIg8ookfrEBn6op_UlNYXoUu-qMqSiCNRMc3lic4poKNrHIxGO9T3WTzi0RBz3mHlBZpw8mduIYOHY-dO1_bYTyMMnC5fSz44OHnuJezplALRVB3V3nx0MSLC8Ijrxw/file\n",
            "Resolving uc23e24b4fc10a0e479ec45644ad.dl.dropboxusercontent.com (uc23e24b4fc10a0e479ec45644ad.dl.dropboxusercontent.com)... 162.125.7.15, 2620:100:6030:15::a27d:500f\n",
            "Connecting to uc23e24b4fc10a0e479ec45644ad.dl.dropboxusercontent.com (uc23e24b4fc10a0e479ec45644ad.dl.dropboxusercontent.com)|162.125.7.15|:443... connected.\n",
            "HTTP request sent, awaiting response... 302 Found\n",
            "Location: /cd/0/inline2/Bj2j6OScLUkgGFavgYr25rDO39hA82BNQmGNHwRfYkN8TaSWtfS8PXJm_-yKYvCmbDl02cxxrJGX-KLu5LS4ya7b2FcnASle9VMmSUN3kAlVI_c_wisyNB7z6GHiP_jMuEwFcqXO4qHkdpMkEuFQ-QQ9v346NAzXi3MK3hVyKnKSHN9lVID7Fnbkknmyjh415SY0qL9pas66zPgAKmn28L3US6aRwf5x163-22c0aPSO_nrJXV8dHVTazTTw3d_uJZllNzLcNs4Tes_FjP2XIh4nlQDJSjOIWQ5xsiDsZx-Rb2tGcM8uwBSy8jTobaZn0FPcKpp6FII4nqZk7qiIi1HZEtCsHIvl3FebXmoAl3oZSdIE1AnD5HEd9eIMU2K3kpaIQc9Bo9vU_4KoV7IWSLgufL7qlUdQxuFqV4XoP3o5pg/file [following]\n",
            "--2022-04-21 16:08:32--  https://uc23e24b4fc10a0e479ec45644ad.dl.dropboxusercontent.com/cd/0/inline2/Bj2j6OScLUkgGFavgYr25rDO39hA82BNQmGNHwRfYkN8TaSWtfS8PXJm_-yKYvCmbDl02cxxrJGX-KLu5LS4ya7b2FcnASle9VMmSUN3kAlVI_c_wisyNB7z6GHiP_jMuEwFcqXO4qHkdpMkEuFQ-QQ9v346NAzXi3MK3hVyKnKSHN9lVID7Fnbkknmyjh415SY0qL9pas66zPgAKmn28L3US6aRwf5x163-22c0aPSO_nrJXV8dHVTazTTw3d_uJZllNzLcNs4Tes_FjP2XIh4nlQDJSjOIWQ5xsiDsZx-Rb2tGcM8uwBSy8jTobaZn0FPcKpp6FII4nqZk7qiIi1HZEtCsHIvl3FebXmoAl3oZSdIE1AnD5HEd9eIMU2K3kpaIQc9Bo9vU_4KoV7IWSLgufL7qlUdQxuFqV4XoP3o5pg/file\n",
            "Reusing existing connection to uc23e24b4fc10a0e479ec45644ad.dl.dropboxusercontent.com:443.\n",
            "HTTP request sent, awaiting response... 200 OK\n",
            "Length: 176605878 (168M) [application/zip]\n",
            "Saving to: ‘chgk.zip’\n",
            "\n",
            "chgk.zip            100%[===================>] 168.42M  19.5MB/s    in 9.6s    \n",
            "\n",
            "2022-04-21 16:08:43 (17.6 MB/s) - ‘chgk.zip’ saved [176605878/176605878]\n",
            "\n",
            "Archive:  chgk.zip\n",
            "  inflating: chgk/players.pkl        \n",
            "  inflating: chgk/results.pkl        \n",
            "  inflating: chgk/tournaments.pkl    \n"
          ]
        }
      ],
      "source": [
        "!wget https://www.dropbox.com/s/s4qj0fpsn378m2i/chgk.zip \n",
        "!unzip chgk.zip  -d chgk"
      ],
      "id": "iQ3Y11njHNEI"
    },
    {
      "cell_type": "markdown",
      "metadata": {
        "id": "27ba8cec"
      },
      "source": [
        "# 1. Прочитайте и проанализируйте данные, выберите турниры, в которых есть данные о составах команд и повопросных результатах"
      ],
      "id": "27ba8cec"
    },
    {
      "cell_type": "code",
      "execution_count": 2,
      "metadata": {
        "id": "niQq7MYeUJKI"
      },
      "outputs": [],
      "source": [
        "results = pickle.load(open(\"chgk/results.pkl\", \"rb\"))"
      ],
      "id": "niQq7MYeUJKI"
    },
    {
      "cell_type": "code",
      "execution_count": 25,
      "metadata": {
        "id": "rL8rYtFZVDNQ"
      },
      "outputs": [],
      "source": [
        "players_df = pd.DataFrame(pickle.load(open(\"chgk/players.pkl\", \"rb\"))).transpose()"
      ],
      "id": "rL8rYtFZVDNQ"
    },
    {
      "cell_type": "code",
      "execution_count": 26,
      "metadata": {
        "id": "ed5fd861"
      },
      "outputs": [],
      "source": [
        "tournaments_df = pd.DataFrame(pickle.load(open(\"chgk/tournaments.pkl\", \"rb\"))).transpose()\n",
        "tournaments_df.dateStart = pd.to_datetime(tournaments_df.dateStart)"
      ],
      "id": "ed5fd861"
    },
    {
      "cell_type": "code",
      "execution_count": 27,
      "metadata": {
        "colab": {
          "base_uri": "https://localhost:8080/",
          "height": 206
        },
        "id": "fa2c7869",
        "outputId": "940d3541-e760-40f8-80dc-7dfc2003301b"
      },
      "outputs": [
        {
          "output_type": "execute_result",
          "data": {
            "text/plain": [
              "  id                                name                  dateStart  \\\n",
              "1  1            Чемпионат Южного Кавказа  2003-07-25 00:00:00+04:00   \n",
              "2  2                         Летние зори  2003-08-09 00:00:00+04:00   \n",
              "3  3                    Турнир в Ижевске  2003-11-22 00:00:00+03:00   \n",
              "4  4  Чемпионат Украины. Переходной этап  2003-10-11 00:00:00+04:00   \n",
              "5  5                 Бостонское чаепитие  2003-10-10 00:00:00+04:00   \n",
              "\n",
              "                     dateEnd                          type      season  \\\n",
              "1  2003-07-27T00:00:00+04:00  {'id': 2, 'name': 'Обычный'}  /seasons/1   \n",
              "2  2003-08-09T00:00:00+04:00  {'id': 2, 'name': 'Обычный'}  /seasons/1   \n",
              "3  2003-11-24T00:00:00+03:00  {'id': 2, 'name': 'Обычный'}  /seasons/2   \n",
              "4  2003-10-12T00:00:00+04:00  {'id': 2, 'name': 'Обычный'}  /seasons/2   \n",
              "5  2003-10-13T00:00:00+04:00  {'id': 2, 'name': 'Обычный'}  /seasons/2   \n",
              "\n",
              "  orgcommittee synchData questionQty  \n",
              "1           []      None        None  \n",
              "2           []      None        None  \n",
              "3           []      None        None  \n",
              "4           []      None        None  \n",
              "5           []      None        None  "
            ],
            "text/html": [
              "\n",
              "  <div id=\"df-ae0d62ea-ede7-4e84-a5f5-c352e35e302a\">\n",
              "    <div class=\"colab-df-container\">\n",
              "      <div>\n",
              "<style scoped>\n",
              "    .dataframe tbody tr th:only-of-type {\n",
              "        vertical-align: middle;\n",
              "    }\n",
              "\n",
              "    .dataframe tbody tr th {\n",
              "        vertical-align: top;\n",
              "    }\n",
              "\n",
              "    .dataframe thead th {\n",
              "        text-align: right;\n",
              "    }\n",
              "</style>\n",
              "<table border=\"1\" class=\"dataframe\">\n",
              "  <thead>\n",
              "    <tr style=\"text-align: right;\">\n",
              "      <th></th>\n",
              "      <th>id</th>\n",
              "      <th>name</th>\n",
              "      <th>dateStart</th>\n",
              "      <th>dateEnd</th>\n",
              "      <th>type</th>\n",
              "      <th>season</th>\n",
              "      <th>orgcommittee</th>\n",
              "      <th>synchData</th>\n",
              "      <th>questionQty</th>\n",
              "    </tr>\n",
              "  </thead>\n",
              "  <tbody>\n",
              "    <tr>\n",
              "      <th>1</th>\n",
              "      <td>1</td>\n",
              "      <td>Чемпионат Южного Кавказа</td>\n",
              "      <td>2003-07-25 00:00:00+04:00</td>\n",
              "      <td>2003-07-27T00:00:00+04:00</td>\n",
              "      <td>{'id': 2, 'name': 'Обычный'}</td>\n",
              "      <td>/seasons/1</td>\n",
              "      <td>[]</td>\n",
              "      <td>None</td>\n",
              "      <td>None</td>\n",
              "    </tr>\n",
              "    <tr>\n",
              "      <th>2</th>\n",
              "      <td>2</td>\n",
              "      <td>Летние зори</td>\n",
              "      <td>2003-08-09 00:00:00+04:00</td>\n",
              "      <td>2003-08-09T00:00:00+04:00</td>\n",
              "      <td>{'id': 2, 'name': 'Обычный'}</td>\n",
              "      <td>/seasons/1</td>\n",
              "      <td>[]</td>\n",
              "      <td>None</td>\n",
              "      <td>None</td>\n",
              "    </tr>\n",
              "    <tr>\n",
              "      <th>3</th>\n",
              "      <td>3</td>\n",
              "      <td>Турнир в Ижевске</td>\n",
              "      <td>2003-11-22 00:00:00+03:00</td>\n",
              "      <td>2003-11-24T00:00:00+03:00</td>\n",
              "      <td>{'id': 2, 'name': 'Обычный'}</td>\n",
              "      <td>/seasons/2</td>\n",
              "      <td>[]</td>\n",
              "      <td>None</td>\n",
              "      <td>None</td>\n",
              "    </tr>\n",
              "    <tr>\n",
              "      <th>4</th>\n",
              "      <td>4</td>\n",
              "      <td>Чемпионат Украины. Переходной этап</td>\n",
              "      <td>2003-10-11 00:00:00+04:00</td>\n",
              "      <td>2003-10-12T00:00:00+04:00</td>\n",
              "      <td>{'id': 2, 'name': 'Обычный'}</td>\n",
              "      <td>/seasons/2</td>\n",
              "      <td>[]</td>\n",
              "      <td>None</td>\n",
              "      <td>None</td>\n",
              "    </tr>\n",
              "    <tr>\n",
              "      <th>5</th>\n",
              "      <td>5</td>\n",
              "      <td>Бостонское чаепитие</td>\n",
              "      <td>2003-10-10 00:00:00+04:00</td>\n",
              "      <td>2003-10-13T00:00:00+04:00</td>\n",
              "      <td>{'id': 2, 'name': 'Обычный'}</td>\n",
              "      <td>/seasons/2</td>\n",
              "      <td>[]</td>\n",
              "      <td>None</td>\n",
              "      <td>None</td>\n",
              "    </tr>\n",
              "  </tbody>\n",
              "</table>\n",
              "</div>\n",
              "      <button class=\"colab-df-convert\" onclick=\"convertToInteractive('df-ae0d62ea-ede7-4e84-a5f5-c352e35e302a')\"\n",
              "              title=\"Convert this dataframe to an interactive table.\"\n",
              "              style=\"display:none;\">\n",
              "        \n",
              "  <svg xmlns=\"http://www.w3.org/2000/svg\" height=\"24px\"viewBox=\"0 0 24 24\"\n",
              "       width=\"24px\">\n",
              "    <path d=\"M0 0h24v24H0V0z\" fill=\"none\"/>\n",
              "    <path d=\"M18.56 5.44l.94 2.06.94-2.06 2.06-.94-2.06-.94-.94-2.06-.94 2.06-2.06.94zm-11 1L8.5 8.5l.94-2.06 2.06-.94-2.06-.94L8.5 2.5l-.94 2.06-2.06.94zm10 10l.94 2.06.94-2.06 2.06-.94-2.06-.94-.94-2.06-.94 2.06-2.06.94z\"/><path d=\"M17.41 7.96l-1.37-1.37c-.4-.4-.92-.59-1.43-.59-.52 0-1.04.2-1.43.59L10.3 9.45l-7.72 7.72c-.78.78-.78 2.05 0 2.83L4 21.41c.39.39.9.59 1.41.59.51 0 1.02-.2 1.41-.59l7.78-7.78 2.81-2.81c.8-.78.8-2.07 0-2.86zM5.41 20L4 18.59l7.72-7.72 1.47 1.35L5.41 20z\"/>\n",
              "  </svg>\n",
              "      </button>\n",
              "      \n",
              "  <style>\n",
              "    .colab-df-container {\n",
              "      display:flex;\n",
              "      flex-wrap:wrap;\n",
              "      gap: 12px;\n",
              "    }\n",
              "\n",
              "    .colab-df-convert {\n",
              "      background-color: #E8F0FE;\n",
              "      border: none;\n",
              "      border-radius: 50%;\n",
              "      cursor: pointer;\n",
              "      display: none;\n",
              "      fill: #1967D2;\n",
              "      height: 32px;\n",
              "      padding: 0 0 0 0;\n",
              "      width: 32px;\n",
              "    }\n",
              "\n",
              "    .colab-df-convert:hover {\n",
              "      background-color: #E2EBFA;\n",
              "      box-shadow: 0px 1px 2px rgba(60, 64, 67, 0.3), 0px 1px 3px 1px rgba(60, 64, 67, 0.15);\n",
              "      fill: #174EA6;\n",
              "    }\n",
              "\n",
              "    [theme=dark] .colab-df-convert {\n",
              "      background-color: #3B4455;\n",
              "      fill: #D2E3FC;\n",
              "    }\n",
              "\n",
              "    [theme=dark] .colab-df-convert:hover {\n",
              "      background-color: #434B5C;\n",
              "      box-shadow: 0px 1px 3px 1px rgba(0, 0, 0, 0.15);\n",
              "      filter: drop-shadow(0px 1px 2px rgba(0, 0, 0, 0.3));\n",
              "      fill: #FFFFFF;\n",
              "    }\n",
              "  </style>\n",
              "\n",
              "      <script>\n",
              "        const buttonEl =\n",
              "          document.querySelector('#df-ae0d62ea-ede7-4e84-a5f5-c352e35e302a button.colab-df-convert');\n",
              "        buttonEl.style.display =\n",
              "          google.colab.kernel.accessAllowed ? 'block' : 'none';\n",
              "\n",
              "        async function convertToInteractive(key) {\n",
              "          const element = document.querySelector('#df-ae0d62ea-ede7-4e84-a5f5-c352e35e302a');\n",
              "          const dataTable =\n",
              "            await google.colab.kernel.invokeFunction('convertToInteractive',\n",
              "                                                     [key], {});\n",
              "          if (!dataTable) return;\n",
              "\n",
              "          const docLinkHtml = 'Like what you see? Visit the ' +\n",
              "            '<a target=\"_blank\" href=https://colab.research.google.com/notebooks/data_table.ipynb>data table notebook</a>'\n",
              "            + ' to learn more about interactive tables.';\n",
              "          element.innerHTML = '';\n",
              "          dataTable['output_type'] = 'display_data';\n",
              "          await google.colab.output.renderOutput(dataTable, element);\n",
              "          const docLink = document.createElement('div');\n",
              "          docLink.innerHTML = docLinkHtml;\n",
              "          element.appendChild(docLink);\n",
              "        }\n",
              "      </script>\n",
              "    </div>\n",
              "  </div>\n",
              "  "
            ]
          },
          "metadata": {},
          "execution_count": 27
        }
      ],
      "source": [
        "tournaments_df.head()"
      ],
      "id": "fa2c7869"
    },
    {
      "cell_type": "code",
      "execution_count": 28,
      "metadata": {
        "colab": {
          "base_uri": "https://localhost:8080/",
          "height": 206
        },
        "id": "65542860",
        "outputId": "b71c23f0-b039-46f9-bac9-a1167c942e91"
      },
      "outputs": [
        {
          "output_type": "execute_result",
          "data": {
            "text/plain": [
              "    id     name  patronymic    surname\n",
              "1    1  Алексей        None   Абабилов\n",
              "10  10    Игорь                 Абалов\n",
              "11  11  Наталья     Юрьевна  Абалымова\n",
              "12  12    Артур  Евгеньевич    Абальян\n",
              "13  13     Эрик  Евгеньевич    Абальян"
            ],
            "text/html": [
              "\n",
              "  <div id=\"df-b1ba40fa-c336-4c02-b092-97481d120e77\">\n",
              "    <div class=\"colab-df-container\">\n",
              "      <div>\n",
              "<style scoped>\n",
              "    .dataframe tbody tr th:only-of-type {\n",
              "        vertical-align: middle;\n",
              "    }\n",
              "\n",
              "    .dataframe tbody tr th {\n",
              "        vertical-align: top;\n",
              "    }\n",
              "\n",
              "    .dataframe thead th {\n",
              "        text-align: right;\n",
              "    }\n",
              "</style>\n",
              "<table border=\"1\" class=\"dataframe\">\n",
              "  <thead>\n",
              "    <tr style=\"text-align: right;\">\n",
              "      <th></th>\n",
              "      <th>id</th>\n",
              "      <th>name</th>\n",
              "      <th>patronymic</th>\n",
              "      <th>surname</th>\n",
              "    </tr>\n",
              "  </thead>\n",
              "  <tbody>\n",
              "    <tr>\n",
              "      <th>1</th>\n",
              "      <td>1</td>\n",
              "      <td>Алексей</td>\n",
              "      <td>None</td>\n",
              "      <td>Абабилов</td>\n",
              "    </tr>\n",
              "    <tr>\n",
              "      <th>10</th>\n",
              "      <td>10</td>\n",
              "      <td>Игорь</td>\n",
              "      <td></td>\n",
              "      <td>Абалов</td>\n",
              "    </tr>\n",
              "    <tr>\n",
              "      <th>11</th>\n",
              "      <td>11</td>\n",
              "      <td>Наталья</td>\n",
              "      <td>Юрьевна</td>\n",
              "      <td>Абалымова</td>\n",
              "    </tr>\n",
              "    <tr>\n",
              "      <th>12</th>\n",
              "      <td>12</td>\n",
              "      <td>Артур</td>\n",
              "      <td>Евгеньевич</td>\n",
              "      <td>Абальян</td>\n",
              "    </tr>\n",
              "    <tr>\n",
              "      <th>13</th>\n",
              "      <td>13</td>\n",
              "      <td>Эрик</td>\n",
              "      <td>Евгеньевич</td>\n",
              "      <td>Абальян</td>\n",
              "    </tr>\n",
              "  </tbody>\n",
              "</table>\n",
              "</div>\n",
              "      <button class=\"colab-df-convert\" onclick=\"convertToInteractive('df-b1ba40fa-c336-4c02-b092-97481d120e77')\"\n",
              "              title=\"Convert this dataframe to an interactive table.\"\n",
              "              style=\"display:none;\">\n",
              "        \n",
              "  <svg xmlns=\"http://www.w3.org/2000/svg\" height=\"24px\"viewBox=\"0 0 24 24\"\n",
              "       width=\"24px\">\n",
              "    <path d=\"M0 0h24v24H0V0z\" fill=\"none\"/>\n",
              "    <path d=\"M18.56 5.44l.94 2.06.94-2.06 2.06-.94-2.06-.94-.94-2.06-.94 2.06-2.06.94zm-11 1L8.5 8.5l.94-2.06 2.06-.94-2.06-.94L8.5 2.5l-.94 2.06-2.06.94zm10 10l.94 2.06.94-2.06 2.06-.94-2.06-.94-.94-2.06-.94 2.06-2.06.94z\"/><path d=\"M17.41 7.96l-1.37-1.37c-.4-.4-.92-.59-1.43-.59-.52 0-1.04.2-1.43.59L10.3 9.45l-7.72 7.72c-.78.78-.78 2.05 0 2.83L4 21.41c.39.39.9.59 1.41.59.51 0 1.02-.2 1.41-.59l7.78-7.78 2.81-2.81c.8-.78.8-2.07 0-2.86zM5.41 20L4 18.59l7.72-7.72 1.47 1.35L5.41 20z\"/>\n",
              "  </svg>\n",
              "      </button>\n",
              "      \n",
              "  <style>\n",
              "    .colab-df-container {\n",
              "      display:flex;\n",
              "      flex-wrap:wrap;\n",
              "      gap: 12px;\n",
              "    }\n",
              "\n",
              "    .colab-df-convert {\n",
              "      background-color: #E8F0FE;\n",
              "      border: none;\n",
              "      border-radius: 50%;\n",
              "      cursor: pointer;\n",
              "      display: none;\n",
              "      fill: #1967D2;\n",
              "      height: 32px;\n",
              "      padding: 0 0 0 0;\n",
              "      width: 32px;\n",
              "    }\n",
              "\n",
              "    .colab-df-convert:hover {\n",
              "      background-color: #E2EBFA;\n",
              "      box-shadow: 0px 1px 2px rgba(60, 64, 67, 0.3), 0px 1px 3px 1px rgba(60, 64, 67, 0.15);\n",
              "      fill: #174EA6;\n",
              "    }\n",
              "\n",
              "    [theme=dark] .colab-df-convert {\n",
              "      background-color: #3B4455;\n",
              "      fill: #D2E3FC;\n",
              "    }\n",
              "\n",
              "    [theme=dark] .colab-df-convert:hover {\n",
              "      background-color: #434B5C;\n",
              "      box-shadow: 0px 1px 3px 1px rgba(0, 0, 0, 0.15);\n",
              "      filter: drop-shadow(0px 1px 2px rgba(0, 0, 0, 0.3));\n",
              "      fill: #FFFFFF;\n",
              "    }\n",
              "  </style>\n",
              "\n",
              "      <script>\n",
              "        const buttonEl =\n",
              "          document.querySelector('#df-b1ba40fa-c336-4c02-b092-97481d120e77 button.colab-df-convert');\n",
              "        buttonEl.style.display =\n",
              "          google.colab.kernel.accessAllowed ? 'block' : 'none';\n",
              "\n",
              "        async function convertToInteractive(key) {\n",
              "          const element = document.querySelector('#df-b1ba40fa-c336-4c02-b092-97481d120e77');\n",
              "          const dataTable =\n",
              "            await google.colab.kernel.invokeFunction('convertToInteractive',\n",
              "                                                     [key], {});\n",
              "          if (!dataTable) return;\n",
              "\n",
              "          const docLinkHtml = 'Like what you see? Visit the ' +\n",
              "            '<a target=\"_blank\" href=https://colab.research.google.com/notebooks/data_table.ipynb>data table notebook</a>'\n",
              "            + ' to learn more about interactive tables.';\n",
              "          element.innerHTML = '';\n",
              "          dataTable['output_type'] = 'display_data';\n",
              "          await google.colab.output.renderOutput(dataTable, element);\n",
              "          const docLink = document.createElement('div');\n",
              "          docLink.innerHTML = docLinkHtml;\n",
              "          element.appendChild(docLink);\n",
              "        }\n",
              "      </script>\n",
              "    </div>\n",
              "  </div>\n",
              "  "
            ]
          },
          "metadata": {},
          "execution_count": 28
        }
      ],
      "source": [
        "players_df.head()"
      ],
      "id": "65542860"
    },
    {
      "cell_type": "code",
      "execution_count": 8,
      "metadata": {
        "id": "47ee6d02"
      },
      "outputs": [],
      "source": [
        "train_start_date = pd.to_datetime(\"2019/01/01 00:00:00\", utc=True)\n",
        "train_end_date = pd.to_datetime(\"2019/12/31 23:59:59\", utc=True)\n",
        "train_tournaments_index = tournaments_df[tournaments_df.dateStart.between(train_start_date, train_end_date)].id\n",
        "train = []\n",
        "tour_question_dict = {}\n",
        "\n",
        "for tour_id in train_tournaments_index:\n",
        "    tournament = results.get(tour_id, -1)\n",
        "    if tournament == -1:\n",
        "        continue\n",
        "    for team in tournament:\n",
        "        mask = team.get(\"mask\", \"\")\n",
        "        if not mask or re.sub(\"[0-1]+\", \"\", mask):\n",
        "            continue\n",
        "                  \n",
        "        team_id = int(team[\"team\"][\"id\"])\n",
        "        \n",
        "        for member in team[\"teamMembers\"]:\n",
        "            player_id = member['player']['id']\n",
        "            for quest_idx, answ in enumerate([int(i) for i in mask]):\n",
        "                train.append([tour_id, team_id, player_id, str(tour_id) + \"_\" + str(quest_idx), int(answ)])\n",
        "    \n",
        "\n",
        "df_train = pd.DataFrame(train)\n",
        "df_train.columns = ['tournament_id', 'team_id', 'player_id', 'question_id', 'answer']\n"
      ],
      "id": "47ee6d02"
    },
    {
      "cell_type": "code",
      "execution_count": 9,
      "metadata": {
        "id": "IZkY9_EILVp4"
      },
      "outputs": [],
      "source": [
        "df_train.to_csv(\"train.csv\", index=False)"
      ],
      "id": "IZkY9_EILVp4"
    },
    {
      "cell_type": "code",
      "execution_count": 10,
      "metadata": {
        "colab": {
          "base_uri": "https://localhost:8080/",
          "height": 206
        },
        "id": "d12f39f7",
        "outputId": "42eb5e91-6b12-4643-c1bd-a7ead4c6ac60"
      },
      "outputs": [
        {
          "output_type": "execute_result",
          "data": {
            "text/plain": [
              "   tournament_id  team_id  player_id question_id  answer\n",
              "0           4772    45556       6212      4772_0       1\n",
              "1           4772    45556       6212      4772_1       1\n",
              "2           4772    45556       6212      4772_2       1\n",
              "3           4772    45556       6212      4772_3       1\n",
              "4           4772    45556       6212      4772_4       1"
            ],
            "text/html": [
              "\n",
              "  <div id=\"df-ab9fc122-d76a-435a-9e9f-4dcd3ee1b8ad\">\n",
              "    <div class=\"colab-df-container\">\n",
              "      <div>\n",
              "<style scoped>\n",
              "    .dataframe tbody tr th:only-of-type {\n",
              "        vertical-align: middle;\n",
              "    }\n",
              "\n",
              "    .dataframe tbody tr th {\n",
              "        vertical-align: top;\n",
              "    }\n",
              "\n",
              "    .dataframe thead th {\n",
              "        text-align: right;\n",
              "    }\n",
              "</style>\n",
              "<table border=\"1\" class=\"dataframe\">\n",
              "  <thead>\n",
              "    <tr style=\"text-align: right;\">\n",
              "      <th></th>\n",
              "      <th>tournament_id</th>\n",
              "      <th>team_id</th>\n",
              "      <th>player_id</th>\n",
              "      <th>question_id</th>\n",
              "      <th>answer</th>\n",
              "    </tr>\n",
              "  </thead>\n",
              "  <tbody>\n",
              "    <tr>\n",
              "      <th>0</th>\n",
              "      <td>4772</td>\n",
              "      <td>45556</td>\n",
              "      <td>6212</td>\n",
              "      <td>4772_0</td>\n",
              "      <td>1</td>\n",
              "    </tr>\n",
              "    <tr>\n",
              "      <th>1</th>\n",
              "      <td>4772</td>\n",
              "      <td>45556</td>\n",
              "      <td>6212</td>\n",
              "      <td>4772_1</td>\n",
              "      <td>1</td>\n",
              "    </tr>\n",
              "    <tr>\n",
              "      <th>2</th>\n",
              "      <td>4772</td>\n",
              "      <td>45556</td>\n",
              "      <td>6212</td>\n",
              "      <td>4772_2</td>\n",
              "      <td>1</td>\n",
              "    </tr>\n",
              "    <tr>\n",
              "      <th>3</th>\n",
              "      <td>4772</td>\n",
              "      <td>45556</td>\n",
              "      <td>6212</td>\n",
              "      <td>4772_3</td>\n",
              "      <td>1</td>\n",
              "    </tr>\n",
              "    <tr>\n",
              "      <th>4</th>\n",
              "      <td>4772</td>\n",
              "      <td>45556</td>\n",
              "      <td>6212</td>\n",
              "      <td>4772_4</td>\n",
              "      <td>1</td>\n",
              "    </tr>\n",
              "  </tbody>\n",
              "</table>\n",
              "</div>\n",
              "      <button class=\"colab-df-convert\" onclick=\"convertToInteractive('df-ab9fc122-d76a-435a-9e9f-4dcd3ee1b8ad')\"\n",
              "              title=\"Convert this dataframe to an interactive table.\"\n",
              "              style=\"display:none;\">\n",
              "        \n",
              "  <svg xmlns=\"http://www.w3.org/2000/svg\" height=\"24px\"viewBox=\"0 0 24 24\"\n",
              "       width=\"24px\">\n",
              "    <path d=\"M0 0h24v24H0V0z\" fill=\"none\"/>\n",
              "    <path d=\"M18.56 5.44l.94 2.06.94-2.06 2.06-.94-2.06-.94-.94-2.06-.94 2.06-2.06.94zm-11 1L8.5 8.5l.94-2.06 2.06-.94-2.06-.94L8.5 2.5l-.94 2.06-2.06.94zm10 10l.94 2.06.94-2.06 2.06-.94-2.06-.94-.94-2.06-.94 2.06-2.06.94z\"/><path d=\"M17.41 7.96l-1.37-1.37c-.4-.4-.92-.59-1.43-.59-.52 0-1.04.2-1.43.59L10.3 9.45l-7.72 7.72c-.78.78-.78 2.05 0 2.83L4 21.41c.39.39.9.59 1.41.59.51 0 1.02-.2 1.41-.59l7.78-7.78 2.81-2.81c.8-.78.8-2.07 0-2.86zM5.41 20L4 18.59l7.72-7.72 1.47 1.35L5.41 20z\"/>\n",
              "  </svg>\n",
              "      </button>\n",
              "      \n",
              "  <style>\n",
              "    .colab-df-container {\n",
              "      display:flex;\n",
              "      flex-wrap:wrap;\n",
              "      gap: 12px;\n",
              "    }\n",
              "\n",
              "    .colab-df-convert {\n",
              "      background-color: #E8F0FE;\n",
              "      border: none;\n",
              "      border-radius: 50%;\n",
              "      cursor: pointer;\n",
              "      display: none;\n",
              "      fill: #1967D2;\n",
              "      height: 32px;\n",
              "      padding: 0 0 0 0;\n",
              "      width: 32px;\n",
              "    }\n",
              "\n",
              "    .colab-df-convert:hover {\n",
              "      background-color: #E2EBFA;\n",
              "      box-shadow: 0px 1px 2px rgba(60, 64, 67, 0.3), 0px 1px 3px 1px rgba(60, 64, 67, 0.15);\n",
              "      fill: #174EA6;\n",
              "    }\n",
              "\n",
              "    [theme=dark] .colab-df-convert {\n",
              "      background-color: #3B4455;\n",
              "      fill: #D2E3FC;\n",
              "    }\n",
              "\n",
              "    [theme=dark] .colab-df-convert:hover {\n",
              "      background-color: #434B5C;\n",
              "      box-shadow: 0px 1px 3px 1px rgba(0, 0, 0, 0.15);\n",
              "      filter: drop-shadow(0px 1px 2px rgba(0, 0, 0, 0.3));\n",
              "      fill: #FFFFFF;\n",
              "    }\n",
              "  </style>\n",
              "\n",
              "      <script>\n",
              "        const buttonEl =\n",
              "          document.querySelector('#df-ab9fc122-d76a-435a-9e9f-4dcd3ee1b8ad button.colab-df-convert');\n",
              "        buttonEl.style.display =\n",
              "          google.colab.kernel.accessAllowed ? 'block' : 'none';\n",
              "\n",
              "        async function convertToInteractive(key) {\n",
              "          const element = document.querySelector('#df-ab9fc122-d76a-435a-9e9f-4dcd3ee1b8ad');\n",
              "          const dataTable =\n",
              "            await google.colab.kernel.invokeFunction('convertToInteractive',\n",
              "                                                     [key], {});\n",
              "          if (!dataTable) return;\n",
              "\n",
              "          const docLinkHtml = 'Like what you see? Visit the ' +\n",
              "            '<a target=\"_blank\" href=https://colab.research.google.com/notebooks/data_table.ipynb>data table notebook</a>'\n",
              "            + ' to learn more about interactive tables.';\n",
              "          element.innerHTML = '';\n",
              "          dataTable['output_type'] = 'display_data';\n",
              "          await google.colab.output.renderOutput(dataTable, element);\n",
              "          const docLink = document.createElement('div');\n",
              "          docLink.innerHTML = docLinkHtml;\n",
              "          element.appendChild(docLink);\n",
              "        }\n",
              "      </script>\n",
              "    </div>\n",
              "  </div>\n",
              "  "
            ]
          },
          "metadata": {},
          "execution_count": 10
        }
      ],
      "source": [
        "df_train.head()"
      ],
      "id": "d12f39f7"
    },
    {
      "cell_type": "code",
      "execution_count": 11,
      "metadata": {
        "id": "12f556ed"
      },
      "outputs": [],
      "source": [
        "test_start_date = pd.to_datetime(\"2020/01/01 00:00:00\", utc=True)\n",
        "test_end_date = pd.to_datetime(\"2020/12/31 23:59:59\", utc=True)\n",
        "test_tournaments_index = tournaments_df[tournaments_df.dateStart.between(test_start_date, test_end_date)].id\n",
        "test = []\n",
        "#test_position = []\n",
        "for tour_id in test_tournaments_index:\n",
        "    tournament = results.get(tour_id, -1)\n",
        "    if tournament == -1:\n",
        "        continue\n",
        "    \n",
        "    for team in tournament:\n",
        "        mask = team.get(\"mask\", \"\")\n",
        "        if not mask or re.sub(\"[0-1]+\", \"\", mask):\n",
        "            continue\n",
        "        team_id = int(team[\"team\"][\"id\"])\n",
        "        for member in team[\"teamMembers\"]:\n",
        "            player_id = member['player']['id']\n",
        "            for quest_idx, answ in enumerate([int(i) for i in mask]):\n",
        "                test.append([tour_id, team_id, player_id, str(tour_id) + \"_\" + str(quest_idx), int(answ)])\n",
        "    \n",
        "\n",
        "    "
      ],
      "id": "12f556ed"
    },
    {
      "cell_type": "code",
      "execution_count": 13,
      "metadata": {
        "id": "b64f765b"
      },
      "outputs": [],
      "source": [
        "df_test = pd.DataFrame(test)\n",
        "df_test.columns = ['tournament_id', 'team_id', 'player_id', 'question_id', 'answer']"
      ],
      "id": "b64f765b"
    },
    {
      "cell_type": "code",
      "execution_count": 14,
      "metadata": {
        "id": "vQD1_4zeLp1n"
      },
      "outputs": [],
      "source": [
        "df_test.to_csv(\"test.csv\", index=False)"
      ],
      "id": "vQD1_4zeLp1n"
    },
    {
      "cell_type": "code",
      "execution_count": 15,
      "metadata": {
        "id": "4bb4e131",
        "colab": {
          "base_uri": "https://localhost:8080/",
          "height": 206
        },
        "outputId": "835e069f-d7d6-4c0c-faab-fe32e42ad67f"
      },
      "outputs": [
        {
          "output_type": "execute_result",
          "data": {
            "text/plain": [
              "   tournament_id  team_id  player_id question_id  answer\n",
              "0           5414    66120      18490      5414_0       1\n",
              "1           5414    66120      18490      5414_1       1\n",
              "2           5414    66120      18490      5414_2       1\n",
              "3           5414    66120      18490      5414_3       1\n",
              "4           5414    66120      18490      5414_4       1"
            ],
            "text/html": [
              "\n",
              "  <div id=\"df-86edf904-800a-40f8-81f0-f8aeeec62abd\">\n",
              "    <div class=\"colab-df-container\">\n",
              "      <div>\n",
              "<style scoped>\n",
              "    .dataframe tbody tr th:only-of-type {\n",
              "        vertical-align: middle;\n",
              "    }\n",
              "\n",
              "    .dataframe tbody tr th {\n",
              "        vertical-align: top;\n",
              "    }\n",
              "\n",
              "    .dataframe thead th {\n",
              "        text-align: right;\n",
              "    }\n",
              "</style>\n",
              "<table border=\"1\" class=\"dataframe\">\n",
              "  <thead>\n",
              "    <tr style=\"text-align: right;\">\n",
              "      <th></th>\n",
              "      <th>tournament_id</th>\n",
              "      <th>team_id</th>\n",
              "      <th>player_id</th>\n",
              "      <th>question_id</th>\n",
              "      <th>answer</th>\n",
              "    </tr>\n",
              "  </thead>\n",
              "  <tbody>\n",
              "    <tr>\n",
              "      <th>0</th>\n",
              "      <td>5414</td>\n",
              "      <td>66120</td>\n",
              "      <td>18490</td>\n",
              "      <td>5414_0</td>\n",
              "      <td>1</td>\n",
              "    </tr>\n",
              "    <tr>\n",
              "      <th>1</th>\n",
              "      <td>5414</td>\n",
              "      <td>66120</td>\n",
              "      <td>18490</td>\n",
              "      <td>5414_1</td>\n",
              "      <td>1</td>\n",
              "    </tr>\n",
              "    <tr>\n",
              "      <th>2</th>\n",
              "      <td>5414</td>\n",
              "      <td>66120</td>\n",
              "      <td>18490</td>\n",
              "      <td>5414_2</td>\n",
              "      <td>1</td>\n",
              "    </tr>\n",
              "    <tr>\n",
              "      <th>3</th>\n",
              "      <td>5414</td>\n",
              "      <td>66120</td>\n",
              "      <td>18490</td>\n",
              "      <td>5414_3</td>\n",
              "      <td>1</td>\n",
              "    </tr>\n",
              "    <tr>\n",
              "      <th>4</th>\n",
              "      <td>5414</td>\n",
              "      <td>66120</td>\n",
              "      <td>18490</td>\n",
              "      <td>5414_4</td>\n",
              "      <td>1</td>\n",
              "    </tr>\n",
              "  </tbody>\n",
              "</table>\n",
              "</div>\n",
              "      <button class=\"colab-df-convert\" onclick=\"convertToInteractive('df-86edf904-800a-40f8-81f0-f8aeeec62abd')\"\n",
              "              title=\"Convert this dataframe to an interactive table.\"\n",
              "              style=\"display:none;\">\n",
              "        \n",
              "  <svg xmlns=\"http://www.w3.org/2000/svg\" height=\"24px\"viewBox=\"0 0 24 24\"\n",
              "       width=\"24px\">\n",
              "    <path d=\"M0 0h24v24H0V0z\" fill=\"none\"/>\n",
              "    <path d=\"M18.56 5.44l.94 2.06.94-2.06 2.06-.94-2.06-.94-.94-2.06-.94 2.06-2.06.94zm-11 1L8.5 8.5l.94-2.06 2.06-.94-2.06-.94L8.5 2.5l-.94 2.06-2.06.94zm10 10l.94 2.06.94-2.06 2.06-.94-2.06-.94-.94-2.06-.94 2.06-2.06.94z\"/><path d=\"M17.41 7.96l-1.37-1.37c-.4-.4-.92-.59-1.43-.59-.52 0-1.04.2-1.43.59L10.3 9.45l-7.72 7.72c-.78.78-.78 2.05 0 2.83L4 21.41c.39.39.9.59 1.41.59.51 0 1.02-.2 1.41-.59l7.78-7.78 2.81-2.81c.8-.78.8-2.07 0-2.86zM5.41 20L4 18.59l7.72-7.72 1.47 1.35L5.41 20z\"/>\n",
              "  </svg>\n",
              "      </button>\n",
              "      \n",
              "  <style>\n",
              "    .colab-df-container {\n",
              "      display:flex;\n",
              "      flex-wrap:wrap;\n",
              "      gap: 12px;\n",
              "    }\n",
              "\n",
              "    .colab-df-convert {\n",
              "      background-color: #E8F0FE;\n",
              "      border: none;\n",
              "      border-radius: 50%;\n",
              "      cursor: pointer;\n",
              "      display: none;\n",
              "      fill: #1967D2;\n",
              "      height: 32px;\n",
              "      padding: 0 0 0 0;\n",
              "      width: 32px;\n",
              "    }\n",
              "\n",
              "    .colab-df-convert:hover {\n",
              "      background-color: #E2EBFA;\n",
              "      box-shadow: 0px 1px 2px rgba(60, 64, 67, 0.3), 0px 1px 3px 1px rgba(60, 64, 67, 0.15);\n",
              "      fill: #174EA6;\n",
              "    }\n",
              "\n",
              "    [theme=dark] .colab-df-convert {\n",
              "      background-color: #3B4455;\n",
              "      fill: #D2E3FC;\n",
              "    }\n",
              "\n",
              "    [theme=dark] .colab-df-convert:hover {\n",
              "      background-color: #434B5C;\n",
              "      box-shadow: 0px 1px 3px 1px rgba(0, 0, 0, 0.15);\n",
              "      filter: drop-shadow(0px 1px 2px rgba(0, 0, 0, 0.3));\n",
              "      fill: #FFFFFF;\n",
              "    }\n",
              "  </style>\n",
              "\n",
              "      <script>\n",
              "        const buttonEl =\n",
              "          document.querySelector('#df-86edf904-800a-40f8-81f0-f8aeeec62abd button.colab-df-convert');\n",
              "        buttonEl.style.display =\n",
              "          google.colab.kernel.accessAllowed ? 'block' : 'none';\n",
              "\n",
              "        async function convertToInteractive(key) {\n",
              "          const element = document.querySelector('#df-86edf904-800a-40f8-81f0-f8aeeec62abd');\n",
              "          const dataTable =\n",
              "            await google.colab.kernel.invokeFunction('convertToInteractive',\n",
              "                                                     [key], {});\n",
              "          if (!dataTable) return;\n",
              "\n",
              "          const docLinkHtml = 'Like what you see? Visit the ' +\n",
              "            '<a target=\"_blank\" href=https://colab.research.google.com/notebooks/data_table.ipynb>data table notebook</a>'\n",
              "            + ' to learn more about interactive tables.';\n",
              "          element.innerHTML = '';\n",
              "          dataTable['output_type'] = 'display_data';\n",
              "          await google.colab.output.renderOutput(dataTable, element);\n",
              "          const docLink = document.createElement('div');\n",
              "          docLink.innerHTML = docLinkHtml;\n",
              "          element.appendChild(docLink);\n",
              "        }\n",
              "      </script>\n",
              "    </div>\n",
              "  </div>\n",
              "  "
            ]
          },
          "metadata": {},
          "execution_count": 15
        }
      ],
      "source": [
        "df_test.head()"
      ],
      "id": "4bb4e131"
    },
    {
      "cell_type": "markdown",
      "metadata": {
        "id": "9b4aef7d"
      },
      "source": [
        "# Baseline model"
      ],
      "id": "9b4aef7d"
    },
    {
      "cell_type": "code",
      "execution_count": 3,
      "metadata": {
        "id": "5f219ff3"
      },
      "outputs": [],
      "source": [
        "one_hot = ColumnTransformer(\n",
        "    transformers=[\n",
        "            ('OneHot', OneHotEncoder(), ['tournament_id', 'player_id'])\n",
        "    ],\n",
        "        remainder='drop',\n",
        "        sparse_threshold=1\n",
        "    )\n",
        "pipe = Pipeline(\n",
        "        verbose=True,\n",
        "        steps=[\n",
        "            ('one_hot', one_hot),\n",
        "            ('logreg', LogisticRegression(solver='liblinear', max_iter=100))\n",
        "        ]\n",
        "    )\n",
        "pipe.fit(df_train[['tournament_id', 'player_id']], df_train['answer'])"
      ],
      "id": "5f219ff3"
    },
    {
      "cell_type": "code",
      "execution_count": null,
      "metadata": {
        "colab": {
          "base_uri": "https://localhost:8080/"
        },
        "id": "f106230e",
        "outputId": "9db699e1-f789-4987-a2f2-ea5fd0da3350"
      },
      "outputs": [
        {
          "name": "stderr",
          "output_type": "stream",
          "text": [
            "/usr/local/lib/python3.7/dist-packages/sklearn/utils/deprecation.py:87: FutureWarning: Function get_feature_names is deprecated; get_feature_names is deprecated in 1.0 and will be removed in 1.2. Please use get_feature_names_out instead.\n",
            "  warnings.warn(msg, category=FutureWarning)\n"
          ]
        }
      ],
      "source": [
        "player_features_start_pos = df_train.nunique()['tournament_id']\n",
        "player_features_names = pipe['one_hot'].get_feature_names()[player_features_start_pos:]\n",
        "player_ids = [int(name[11:]) for name in player_features_names]\n",
        "    "
      ],
      "id": "f106230e"
    },
    {
      "cell_type": "code",
      "execution_count": null,
      "metadata": {
        "id": "c18cedbd"
      },
      "outputs": [],
      "source": [
        "player_weights = pipe['logreg'].coef_[0][player_features_start_pos:]"
      ],
      "id": "c18cedbd"
    },
    {
      "cell_type": "code",
      "execution_count": null,
      "metadata": {
        "id": "884f4ac6"
      },
      "outputs": [],
      "source": [
        "map_id_to_weight = dict(zip(player_ids, player_weights))"
      ],
      "id": "884f4ac6"
    },
    {
      "cell_type": "code",
      "execution_count": null,
      "metadata": {
        "id": "ce75c9e5"
      },
      "outputs": [],
      "source": [
        "map_id_to_weight = dict(sorted(map_id_to_weight.items(), key=lambda item: item[1], reverse=True))"
      ],
      "id": "ce75c9e5"
    },
    {
      "cell_type": "code",
      "execution_count": null,
      "metadata": {
        "id": "49973f51"
      },
      "outputs": [],
      "source": [
        "i = 0\n",
        "top_100 = []\n",
        "for player_id, score in map_id_to_weight.items():\n",
        "    if i >= 100:\n",
        "        break\n",
        "    player = players_df[players_df.id == player_id]\n",
        "    player_name = player.name.values[0] + \" \" + player.patronymic.values[0] + \" \" + player.surname.values[0]\n",
        "    top_100.append([player_name, score])\n",
        "    i += 1"
      ],
      "id": "49973f51"
    },
    {
      "cell_type": "code",
      "execution_count": null,
      "metadata": {
        "id": "74d3b355"
      },
      "outputs": [],
      "source": [
        "df_top_100 = pd.DataFrame(top_100)\n",
        "df_top_100.columns = ['player', 'score']"
      ],
      "id": "74d3b355"
    },
    {
      "cell_type": "code",
      "execution_count": null,
      "metadata": {
        "colab": {
          "base_uri": "https://localhost:8080/"
        },
        "id": "925a7dc8",
        "outputId": "39221bf7-ac73-4299-86f6-8ff9644725c8"
      },
      "outputs": [
        {
          "name": "stdout",
          "output_type": "stream",
          "text": [
            "                                player     score\n",
            "0              Максим Михайлович Руссо  3.054470\n",
            "1       Александра Владимировна Брутер  2.958484\n",
            "2              Иван Николаевич Семушин  2.930479\n",
            "3         Павел Константинович Щербина  2.920203\n",
            "4        Михаил Владимирович Савченков  2.838343\n",
            "5             Артём Сергеевич Сорожкин  2.816262\n",
            "6            Сергей Леонидович Спешков  2.813738\n",
            "7            Михаил Ильич Левандовский  2.737340\n",
            "8            Сергей Игоревич Николенко  2.719096\n",
            "9          Антон Владимирович Саксонов  2.718981\n",
            "10          Ирина Сергеевна Прокофьева  2.700075\n",
            "11   Станислав Григорьевич Мереминский  2.689753\n",
            "12          Александр Витальевич Либер  2.667300\n",
            "13         Наталья Евгеньевна Горелова  2.658258\n",
            "14      Александр Владимирович Мосягин  2.654457\n",
            "15              Илья Сергеевич Новиков  2.641404\n",
            "16             Сусанна Марковна Бровер  2.629812\n",
            "17              Игорь Викторович Мокин  2.627556\n",
            "18          Алексей Владимирович Гилёв  2.625659\n",
            "19              Мария Алексеевна Юнгер  2.622652\n",
            "20    Евгений Александрович Пашковский  2.613336\n",
            "21       Дмитрий Александрович Карякин  2.605800\n",
            "22     Николай Александрович Коврижных  2.600993\n",
            "23            Антон Анатольевич Чернин  2.600011\n",
            "24            Евгений Павлович Спектор  2.592265\n",
            "25       Мария Владимировна Кленницкая  2.589451\n",
            "26              Юрий Яковлевич Выменец  2.586090\n",
            "27           Дмитрий Сергеевич Кудинов  2.580944\n",
            "28              Михаил Сергеевич Царёв  2.578426\n",
            "29          Николай Валерьевич Крапиль  2.575591\n",
            "30        Наталья Алексеевна Кудряшова  2.570656\n",
            "31          Михаил Андреевич Новосёлов  2.565891\n",
            "32      Андрей Вячеславович Островский  2.564012\n",
            "33        Юлия Сергеевна Архангельская  2.556726\n",
            "34         Александр Ефимович Мартынов  2.550581\n",
            "35           Дмитрий Николаевич Петров  2.546882\n",
            "36         Александр Валерьевич Марков  2.544171\n",
            "37           Евгений Михайлович Перпер  2.528875\n",
            "38      Владимир Владимирович Степанов  2.526227\n",
            "39     Алексей Алексеевич Богословский  2.513273\n",
            "40        Елизавета Сергеевна Овдеенко  2.512383\n",
            "41            Евгений Васильевич Дёмин  2.511318\n",
            "42           Максим Игоревич Пилипенко  2.511187\n",
            "43       Иделия Мукадясовна Айзятулова  2.507687\n",
            "44               Ким Гагикович Галачян  2.503884\n",
            "45              Павел Михайлович Ершов  2.503010\n",
            "46         Татьяна Евгеньевна Фёдорова  2.502667\n",
            "47           Наиль Евгеньевич Фарукшин  2.500786\n",
            "48           Михаил Леонидович Матвеев  2.500443\n",
            "49            Максим Оскарович Поташев  2.498832\n",
            "50          Инна Валентиновна Семёнова  2.492874\n",
            "51         Светлана Сергеевна Иванцова  2.490513\n",
            "52  Александр Геннадьевич Коробейников  2.486959\n",
            "53         Кристина Олеговна Кораблина  2.486248\n",
            "54        Александр Маркович Тобенгауз  2.483682\n",
            "55          Светлана Борисовна Бомешко  2.480342\n",
            "56             Борис Яковлевич Моносов  2.480203\n",
            "57          Игорь Станиславович Калгин  2.480067\n",
            "58                     Полина  Усыскин  2.473769\n",
            "59           Мария Алексеевна Летюхина  2.472329\n",
            "60            Кирилл Игоревич Михайлов  2.472290\n",
            "61            Николай Георгиевич Рябых  2.462191\n",
            "62      Артём Александрович Митрофанов  2.462184\n",
            "63            Иван Викторович Ермолаев  2.461877\n",
            "64         Иван Александрович Эйхгольц  2.461600\n",
            "65         Эльвира Борисовна Верзунова  2.461258\n",
            "66            Алексей Алексеевич Генус  2.461258\n",
            "67       Алексей Валерьевич Белоглазов  2.460246\n",
            "68             Иван Николаевич Ефремов  2.458827\n",
            "69        Ирина Николаевна Колесникова  2.457092\n",
            "70        Тимур Рустемович Кафиатуллин  2.456590\n",
            "71       Сергей Владимирович Коновалов  2.455415\n",
            "72    Александр Александрович Фингеров  2.452094\n",
            "73          Михаил Михайлович Сафронов  2.445124\n",
            "74         Денис Андреевич Галиакберов  2.441149\n",
            "75            Дмитрий Сергеевич Ожигов  2.439450\n",
            "76  Александр Александрович Людикайнен  2.438522\n",
            "77          Эльман Эльдар оглы Талыбов  2.437543\n",
            "78       Александра Сергеевна Киланова  2.437173\n",
            "79         Наталья Александровна Комар  2.436058\n",
            "80            Михаил Дмитриевич Фрадис  2.435024\n",
            "81          Евгений Адольфович Миротин  2.427040\n",
            "82       Алексей Владимирович Шередега  2.425311\n",
            "83          Анна Григорьевна Резникова  2.424907\n",
            "84            Ольга Игоревна Дубинская  2.423649\n",
            "85          Виталий Валерьевич Кунашко  2.423415\n",
            "86         Егор Дмитриевич Господчиков  2.419326\n",
            "87     Мария Владимировна Подрядчикова  2.416730\n",
            "88          Игорь Вячеславович Тюнькин  2.414335\n",
            "89            Мария Львовна Рубинштейн  2.405353\n",
            "90             Лев Григорьевич Кертман  2.399828\n",
            "91         Антон Александрович Буторин  2.391920\n",
            "92             Сергей Викторович Филин  2.389591\n",
            "93          Руслан Гафурович Хаиткулов  2.387315\n",
            "94          Анна Михайловна Карпелевич  2.378832\n",
            "95              Вадим Игоревич Яковлев  2.378254\n",
            "96          Валентин Наумович Исраэлит  2.374660\n",
            "97            Михаил Леонидович Малкин  2.374407\n",
            "98           Дмитрий Вадимович Великов  2.372733\n",
            "99        Анастасия Борисовна Калинина  2.371040\n"
          ]
        }
      ],
      "source": [
        "print(df_top_100.to_string())"
      ],
      "id": "925a7dc8"
    },
    {
      "cell_type": "markdown",
      "metadata": {
        "id": "62eae594"
      },
      "source": [
        "# 3 Качество рейтинг системы"
      ],
      "id": "62eae594"
    },
    {
      "cell_type": "code",
      "execution_count": null,
      "metadata": {
        "id": "5721fa30"
      },
      "outputs": [],
      "source": [
        "def get_prediction(tournament, player_to_weight, orginal_position_dict):\n",
        "    predict_weight_dict = defaultdict(lambda : 0)\n",
        "    avg_weight = np.mean([v for v in player_to_weight.values()])\n",
        "    for idx, team in enumerate(tournament):\n",
        "        weight = 0\n",
        "        for player_info in team['teamMembers']:\n",
        "            p_id = player_info['player']['id']\n",
        "            try:\n",
        "                weight += player_to_weight[p_id]\n",
        "            except:\n",
        "                weight += avg_weight\n",
        "        predict_weight_dict[team[\"team\"][\"id\"]] = weight\n",
        "    predict_weight_dict = dict(sorted(predict_weight_dict.items(), key=lambda item: item[1], reverse=True))\n",
        "    predict_position_dict = dict(zip(predict_weight_dict.keys(), range(1, len(predict_weight_dict) + 1)))\n",
        "    return [predict_position_dict[team_id] for team_id in orginal_position_dict.keys()]"
      ],
      "id": "5721fa30"
    },
    {
      "cell_type": "code",
      "execution_count": null,
      "metadata": {
        "id": "7b7b3c1d"
      },
      "outputs": [],
      "source": [
        "kendalltau_corr = []\n",
        "spearmanr_corr = []\n",
        "\n",
        "for tour_id in df_test.tournament_id.unique():\n",
        "    tournament = results.get(tour_id, -1)\n",
        "    if tournament == -1:\n",
        "        continue\n",
        "    \n",
        "    original_position = [team['position'] for team in tournament]\n",
        "    teams = [team[\"team\"][\"id\"] for team in tournament]\n",
        "    orginal_position_dict = dict(zip(teams, original_position))\n",
        "    prediction_position = get_prediction(tournament, map_id_to_weight, orginal_position_dict)\n",
        "\n",
        "\n",
        "    kendalltau_corr.append(stats.kendalltau(original_position, prediction_position).correlation)\n",
        "    spearmanr_corr.append(stats.spearmanr(original_position, prediction_position).correlation)\n",
        "\n"
      ],
      "id": "7b7b3c1d"
    },
    {
      "cell_type": "code",
      "execution_count": null,
      "metadata": {
        "colab": {
          "base_uri": "https://localhost:8080/"
        },
        "id": "0387b64f",
        "outputId": "26109d0f-70e9-411d-9a2c-6dd249d95796"
      },
      "outputs": [
        {
          "data": {
            "text/plain": [
              "(0.6240627636166091, 0.7783323072495774)"
            ]
          },
          "execution_count": 51,
          "metadata": {},
          "output_type": "execute_result"
        }
      ],
      "source": [
        "np.mean(kendalltau_corr), np.mean(spearmanr_corr)"
      ],
      "id": "0387b64f"
    },
    {
      "cell_type": "markdown",
      "metadata": {
        "id": "aaf3a9f5"
      },
      "source": [
        "# 4 EM"
      ],
      "id": "aaf3a9f5"
    },
    {
      "cell_type": "markdown",
      "source": [
        "В качестве целевой переменной будет вероятность дать правильный ответ на вопрос, а в качестве признаков будут закодированные id-игрока и id-вопроса"
      ],
      "metadata": {
        "id": "jsEg3TztIzq3"
      },
      "id": "jsEg3TztIzq3"
    },
    {
      "cell_type": "code",
      "execution_count": 3,
      "metadata": {
        "id": "9Ubb5fZ8R7Rn"
      },
      "outputs": [],
      "source": [
        "def get_prediction(tournament, player_to_weight, orginal_position_dict):\n",
        "    predict_weight_dict = defaultdict(lambda : 0)\n",
        "    avg_weight = np.mean([v for v in player_to_weight.values()])\n",
        "    for idx, team in enumerate(tournament):\n",
        "        weight = 0\n",
        "        for player_info in team['teamMembers']:\n",
        "            p_id = player_info['player']['id']\n",
        "            try:\n",
        "                weight += player_to_weight[p_id]\n",
        "            except:\n",
        "                weight += avg_weight\n",
        "        predict_weight_dict[team[\"team\"][\"id\"]] = weight\n",
        "    predict_weight_dict = dict(sorted(predict_weight_dict.items(), key=lambda item: item[1], reverse=True))\n",
        "    predict_position_dict = dict(zip(predict_weight_dict.keys(), range(1, len(predict_weight_dict) + 1)))\n",
        "    return [predict_position_dict[team_id] for team_id in orginal_position_dict.keys()]\n",
        "\n",
        "def calc_metric(df_test, results, map_id_to_weight):\n",
        "    kendalltau_corr = []\n",
        "    spearmanr_corr = []\n",
        "\n",
        "    for tour_id in df_test.tournament_id.unique():\n",
        "        tournament = results.get(tour_id, -1)\n",
        "        if tournament == -1:\n",
        "            continue\n",
        "        \n",
        "        original_position = [team['position'] for team in tournament]\n",
        "        teams = [team[\"team\"][\"id\"] for team in tournament]\n",
        "        orginal_position_dict = dict(zip(teams, original_position))\n",
        "        prediction_position = get_prediction(tournament, map_id_to_weight, orginal_position_dict)\n",
        "\n",
        "\n",
        "        kendalltau_corr.append(stats.kendalltau(original_position, prediction_position).correlation)\n",
        "        spearmanr_corr.append(stats.spearmanr(original_position, prediction_position).correlation)\n",
        "    return np.mean(kendalltau_corr), np.mean(spearmanr_corr)\n",
        "\n",
        "\n"
      ],
      "id": "9Ubb5fZ8R7Rn"
    },
    {
      "cell_type": "code",
      "execution_count": 4,
      "metadata": {
        "id": "1Q2PLCoHMC6J"
      },
      "outputs": [],
      "source": [
        "df_train = pd.read_csv(\"train.csv\")\n",
        "df_test = pd.read_csv(\"test.csv\")"
      ],
      "id": "1Q2PLCoHMC6J"
    },
    {
      "cell_type": "code",
      "execution_count": 5,
      "metadata": {
        "id": "a2Uwzgly62Jo"
      },
      "outputs": [],
      "source": [
        "def sigmoid(x):\n",
        "    return 1. / (1. + np.exp(-x))"
      ],
      "id": "a2Uwzgly62Jo"
    },
    {
      "cell_type": "markdown",
      "metadata": {
        "id": "df90f50a"
      },
      "source": [
        "## M step"
      ],
      "id": "df90f50a"
    },
    {
      "cell_type": "code",
      "execution_count": 6,
      "metadata": {
        "id": "1c862132"
      },
      "outputs": [],
      "source": [
        "one_hot = ColumnTransformer(\n",
        "    transformers=[('OneHot', OneHotEncoder(), ['player_id', 'question_id'])],\n",
        "    remainder='drop',\n",
        "    sparse_threshold=1\n",
        ")\n",
        "\n",
        "\n",
        "def m_step(X, y):\n",
        "    pipe = Pipeline(\n",
        "    verbose=True,\n",
        "    steps=[\n",
        "        ('one_hot', one_hot),\n",
        "        ('linreg', Ridge(alpha=0.3))\n",
        "    ]\n",
        ")\n",
        "    pipe.fit(X, y)\n",
        "    return pipe"
      ],
      "id": "1c862132"
    },
    {
      "cell_type": "markdown",
      "metadata": {
        "id": "1280e5d8"
      },
      "source": [
        "## E step"
      ],
      "id": "1280e5d8"
    },
    {
      "cell_type": "code",
      "execution_count": 7,
      "metadata": {
        "id": "mw5z6O8ryLmL"
      },
      "outputs": [],
      "source": [
        "label_zero_idx = df_train['answer'] == 0"
      ],
      "id": "mw5z6O8ryLmL"
    },
    {
      "cell_type": "code",
      "execution_count": 8,
      "metadata": {
        "id": "L7upivPM_3TV"
      },
      "outputs": [],
      "source": [
        "label_one_idx = df_train['answer'] == 1"
      ],
      "id": "L7upivPM_3TV"
    },
    {
      "cell_type": "code",
      "execution_count": 9,
      "metadata": {
        "id": "kjzTqamLj3yw"
      },
      "outputs": [],
      "source": [
        "def e_step(df, label_zero_idx, label_one_idx, map_id_to_prob):\n",
        "    df['new_answer'] = df.player_id\n",
        "    e_step_denom = df.loc[label_one_idx].groupby(['tournament_id', 'team_id'])['new_answer']\n",
        "    e_step_denom = e_step_denom.transform(lambda x : 1 - np.prod(1 - np.array([map_id_to_prob[player] for player in set(x.values)])))\n",
        "    df['prob'] = df.player_id\n",
        "    df.prob = df.prob.transform(lambda x: map_id_to_prob[x])\n",
        "    df.prob = df.prob[label_one_idx] / e_step_denom\n",
        "    df.prob[label_zero_idx] = 0\n",
        "    return df.prob\n",
        "\n"
      ],
      "id": "kjzTqamLj3yw"
    },
    {
      "cell_type": "markdown",
      "metadata": {
        "id": "6c52cad1"
      },
      "source": [
        "## EM"
      ],
      "id": "6c52cad1"
    },
    {
      "cell_type": "code",
      "execution_count": 10,
      "metadata": {
        "colab": {
          "base_uri": "https://localhost:8080/"
        },
        "id": "46028b74",
        "outputId": "f15f47e2-44b6-4e79-d959-255a9f0fd1ed"
      },
      "outputs": [
        {
          "output_type": "stream",
          "name": "stdout",
          "text": [
            "Start epoch 1\n",
            "[Pipeline] ........... (step 1 of 2) Processing one_hot, total=  11.5s\n",
            "[Pipeline] ............ (step 2 of 2) Processing linreg, total=  19.8s\n"
          ]
        },
        {
          "output_type": "stream",
          "name": "stderr",
          "text": [
            "/usr/local/lib/python3.7/dist-packages/sklearn/utils/deprecation.py:87: FutureWarning: Function get_feature_names is deprecated; get_feature_names is deprecated in 1.0 and will be removed in 1.2. Please use get_feature_names_out instead.\n",
            "  warnings.warn(msg, category=FutureWarning)\n"
          ]
        },
        {
          "output_type": "stream",
          "name": "stdout",
          "text": [
            "Calc metric by test, kendalltau is 0.6189657572223856 spearmanr is 0.7744189106548343\n"
          ]
        },
        {
          "output_type": "stream",
          "name": "stderr",
          "text": [
            "/usr/local/lib/python3.7/dist-packages/ipykernel_launcher.py:8: SettingWithCopyWarning: \n",
            "A value is trying to be set on a copy of a slice from a DataFrame\n",
            "\n",
            "See the caveats in the documentation: https://pandas.pydata.org/pandas-docs/stable/user_guide/indexing.html#returning-a-view-versus-a-copy\n",
            "  \n"
          ]
        },
        {
          "output_type": "stream",
          "name": "stdout",
          "text": [
            "Start epoch 2\n",
            "[Pipeline] ........... (step 1 of 2) Processing one_hot, total=   7.6s\n",
            "[Pipeline] ............ (step 2 of 2) Processing linreg, total=  22.9s\n"
          ]
        },
        {
          "output_type": "stream",
          "name": "stderr",
          "text": [
            "/usr/local/lib/python3.7/dist-packages/sklearn/utils/deprecation.py:87: FutureWarning: Function get_feature_names is deprecated; get_feature_names is deprecated in 1.0 and will be removed in 1.2. Please use get_feature_names_out instead.\n",
            "  warnings.warn(msg, category=FutureWarning)\n"
          ]
        },
        {
          "output_type": "stream",
          "name": "stdout",
          "text": [
            "Calc metric by test, kendalltau is 0.6187369631819902 spearmanr is 0.7748440632590713\n"
          ]
        },
        {
          "output_type": "stream",
          "name": "stderr",
          "text": [
            "/usr/local/lib/python3.7/dist-packages/ipykernel_launcher.py:8: SettingWithCopyWarning: \n",
            "A value is trying to be set on a copy of a slice from a DataFrame\n",
            "\n",
            "See the caveats in the documentation: https://pandas.pydata.org/pandas-docs/stable/user_guide/indexing.html#returning-a-view-versus-a-copy\n",
            "  \n"
          ]
        },
        {
          "output_type": "stream",
          "name": "stdout",
          "text": [
            "Start epoch 3\n",
            "[Pipeline] ........... (step 1 of 2) Processing one_hot, total=   7.5s\n",
            "[Pipeline] ............ (step 2 of 2) Processing linreg, total=  19.9s\n"
          ]
        },
        {
          "output_type": "stream",
          "name": "stderr",
          "text": [
            "/usr/local/lib/python3.7/dist-packages/sklearn/utils/deprecation.py:87: FutureWarning: Function get_feature_names is deprecated; get_feature_names is deprecated in 1.0 and will be removed in 1.2. Please use get_feature_names_out instead.\n",
            "  warnings.warn(msg, category=FutureWarning)\n"
          ]
        },
        {
          "output_type": "stream",
          "name": "stdout",
          "text": [
            "Calc metric by test, kendalltau is 0.6203695386825699 spearmanr is 0.7760644288382623\n"
          ]
        },
        {
          "output_type": "stream",
          "name": "stderr",
          "text": [
            "/usr/local/lib/python3.7/dist-packages/ipykernel_launcher.py:8: SettingWithCopyWarning: \n",
            "A value is trying to be set on a copy of a slice from a DataFrame\n",
            "\n",
            "See the caveats in the documentation: https://pandas.pydata.org/pandas-docs/stable/user_guide/indexing.html#returning-a-view-versus-a-copy\n",
            "  \n"
          ]
        },
        {
          "output_type": "stream",
          "name": "stdout",
          "text": [
            "Start epoch 4\n",
            "[Pipeline] ........... (step 1 of 2) Processing one_hot, total=   7.5s\n",
            "[Pipeline] ............ (step 2 of 2) Processing linreg, total=  20.4s\n"
          ]
        },
        {
          "output_type": "stream",
          "name": "stderr",
          "text": [
            "/usr/local/lib/python3.7/dist-packages/sklearn/utils/deprecation.py:87: FutureWarning: Function get_feature_names is deprecated; get_feature_names is deprecated in 1.0 and will be removed in 1.2. Please use get_feature_names_out instead.\n",
            "  warnings.warn(msg, category=FutureWarning)\n"
          ]
        },
        {
          "output_type": "stream",
          "name": "stdout",
          "text": [
            "Calc metric by test, kendalltau is 0.6199194598874822 spearmanr is 0.7760691000144592\n"
          ]
        },
        {
          "output_type": "stream",
          "name": "stderr",
          "text": [
            "/usr/local/lib/python3.7/dist-packages/ipykernel_launcher.py:8: SettingWithCopyWarning: \n",
            "A value is trying to be set on a copy of a slice from a DataFrame\n",
            "\n",
            "See the caveats in the documentation: https://pandas.pydata.org/pandas-docs/stable/user_guide/indexing.html#returning-a-view-versus-a-copy\n",
            "  \n"
          ]
        },
        {
          "output_type": "stream",
          "name": "stdout",
          "text": [
            "Start epoch 5\n",
            "[Pipeline] ........... (step 1 of 2) Processing one_hot, total=   7.5s\n",
            "[Pipeline] ............ (step 2 of 2) Processing linreg, total=  20.0s\n"
          ]
        },
        {
          "output_type": "stream",
          "name": "stderr",
          "text": [
            "/usr/local/lib/python3.7/dist-packages/sklearn/utils/deprecation.py:87: FutureWarning: Function get_feature_names is deprecated; get_feature_names is deprecated in 1.0 and will be removed in 1.2. Please use get_feature_names_out instead.\n",
            "  warnings.warn(msg, category=FutureWarning)\n"
          ]
        },
        {
          "output_type": "stream",
          "name": "stdout",
          "text": [
            "Calc metric by test, kendalltau is 0.6209864893695481 spearmanr is 0.7767837486071401\n"
          ]
        },
        {
          "output_type": "stream",
          "name": "stderr",
          "text": [
            "/usr/local/lib/python3.7/dist-packages/ipykernel_launcher.py:8: SettingWithCopyWarning: \n",
            "A value is trying to be set on a copy of a slice from a DataFrame\n",
            "\n",
            "See the caveats in the documentation: https://pandas.pydata.org/pandas-docs/stable/user_guide/indexing.html#returning-a-view-versus-a-copy\n",
            "  \n"
          ]
        },
        {
          "output_type": "stream",
          "name": "stdout",
          "text": [
            "Start epoch 6\n",
            "[Pipeline] ........... (step 1 of 2) Processing one_hot, total=   7.5s\n",
            "[Pipeline] ............ (step 2 of 2) Processing linreg, total=  19.9s\n"
          ]
        },
        {
          "output_type": "stream",
          "name": "stderr",
          "text": [
            "/usr/local/lib/python3.7/dist-packages/sklearn/utils/deprecation.py:87: FutureWarning: Function get_feature_names is deprecated; get_feature_names is deprecated in 1.0 and will be removed in 1.2. Please use get_feature_names_out instead.\n",
            "  warnings.warn(msg, category=FutureWarning)\n"
          ]
        },
        {
          "output_type": "stream",
          "name": "stdout",
          "text": [
            "Calc metric by test, kendalltau is 0.6209913881728449 spearmanr is 0.7767901688941379\n"
          ]
        },
        {
          "output_type": "stream",
          "name": "stderr",
          "text": [
            "/usr/local/lib/python3.7/dist-packages/ipykernel_launcher.py:8: SettingWithCopyWarning: \n",
            "A value is trying to be set on a copy of a slice from a DataFrame\n",
            "\n",
            "See the caveats in the documentation: https://pandas.pydata.org/pandas-docs/stable/user_guide/indexing.html#returning-a-view-versus-a-copy\n",
            "  \n"
          ]
        },
        {
          "output_type": "stream",
          "name": "stdout",
          "text": [
            "Start epoch 7\n",
            "[Pipeline] ........... (step 1 of 2) Processing one_hot, total=   7.5s\n",
            "[Pipeline] ............ (step 2 of 2) Processing linreg, total=  19.9s\n"
          ]
        },
        {
          "output_type": "stream",
          "name": "stderr",
          "text": [
            "/usr/local/lib/python3.7/dist-packages/sklearn/utils/deprecation.py:87: FutureWarning: Function get_feature_names is deprecated; get_feature_names is deprecated in 1.0 and will be removed in 1.2. Please use get_feature_names_out instead.\n",
            "  warnings.warn(msg, category=FutureWarning)\n"
          ]
        },
        {
          "output_type": "stream",
          "name": "stdout",
          "text": [
            "Calc metric by test, kendalltau is 0.6199278589636681 spearmanr is 0.7760876325555688\n"
          ]
        },
        {
          "output_type": "stream",
          "name": "stderr",
          "text": [
            "/usr/local/lib/python3.7/dist-packages/ipykernel_launcher.py:8: SettingWithCopyWarning: \n",
            "A value is trying to be set on a copy of a slice from a DataFrame\n",
            "\n",
            "See the caveats in the documentation: https://pandas.pydata.org/pandas-docs/stable/user_guide/indexing.html#returning-a-view-versus-a-copy\n",
            "  \n"
          ]
        },
        {
          "output_type": "stream",
          "name": "stdout",
          "text": [
            "Start epoch 8\n",
            "[Pipeline] ........... (step 1 of 2) Processing one_hot, total=   7.6s\n",
            "[Pipeline] ............ (step 2 of 2) Processing linreg, total=  19.5s\n"
          ]
        },
        {
          "output_type": "stream",
          "name": "stderr",
          "text": [
            "/usr/local/lib/python3.7/dist-packages/sklearn/utils/deprecation.py:87: FutureWarning: Function get_feature_names is deprecated; get_feature_names is deprecated in 1.0 and will be removed in 1.2. Please use get_feature_names_out instead.\n",
            "  warnings.warn(msg, category=FutureWarning)\n"
          ]
        },
        {
          "output_type": "stream",
          "name": "stdout",
          "text": [
            "Calc metric by test, kendalltau is 0.6209908392040169 spearmanr is 0.7767897923450774\n"
          ]
        },
        {
          "output_type": "stream",
          "name": "stderr",
          "text": [
            "/usr/local/lib/python3.7/dist-packages/ipykernel_launcher.py:8: SettingWithCopyWarning: \n",
            "A value is trying to be set on a copy of a slice from a DataFrame\n",
            "\n",
            "See the caveats in the documentation: https://pandas.pydata.org/pandas-docs/stable/user_guide/indexing.html#returning-a-view-versus-a-copy\n",
            "  \n"
          ]
        },
        {
          "output_type": "stream",
          "name": "stdout",
          "text": [
            "Start epoch 9\n",
            "[Pipeline] ........... (step 1 of 2) Processing one_hot, total=   7.5s\n",
            "[Pipeline] ............ (step 2 of 2) Processing linreg, total=  19.4s\n"
          ]
        },
        {
          "output_type": "stream",
          "name": "stderr",
          "text": [
            "/usr/local/lib/python3.7/dist-packages/sklearn/utils/deprecation.py:87: FutureWarning: Function get_feature_names is deprecated; get_feature_names is deprecated in 1.0 and will be removed in 1.2. Please use get_feature_names_out instead.\n",
            "  warnings.warn(msg, category=FutureWarning)\n"
          ]
        },
        {
          "output_type": "stream",
          "name": "stdout",
          "text": [
            "Calc metric by test, kendalltau is 0.620990774820981 spearmanr is 0.7767897114682126\n"
          ]
        },
        {
          "output_type": "stream",
          "name": "stderr",
          "text": [
            "/usr/local/lib/python3.7/dist-packages/ipykernel_launcher.py:8: SettingWithCopyWarning: \n",
            "A value is trying to be set on a copy of a slice from a DataFrame\n",
            "\n",
            "See the caveats in the documentation: https://pandas.pydata.org/pandas-docs/stable/user_guide/indexing.html#returning-a-view-versus-a-copy\n",
            "  \n"
          ]
        },
        {
          "output_type": "stream",
          "name": "stdout",
          "text": [
            "Start epoch 10\n",
            "[Pipeline] ........... (step 1 of 2) Processing one_hot, total=   7.6s\n",
            "[Pipeline] ............ (step 2 of 2) Processing linreg, total=  20.0s\n"
          ]
        },
        {
          "output_type": "stream",
          "name": "stderr",
          "text": [
            "/usr/local/lib/python3.7/dist-packages/sklearn/utils/deprecation.py:87: FutureWarning: Function get_feature_names is deprecated; get_feature_names is deprecated in 1.0 and will be removed in 1.2. Please use get_feature_names_out instead.\n",
            "  warnings.warn(msg, category=FutureWarning)\n"
          ]
        },
        {
          "output_type": "stream",
          "name": "stdout",
          "text": [
            "Calc metric by test, kendalltau is 0.620989968690886 spearmanr is 0.7767893910402196\n"
          ]
        },
        {
          "output_type": "stream",
          "name": "stderr",
          "text": [
            "/usr/local/lib/python3.7/dist-packages/ipykernel_launcher.py:8: SettingWithCopyWarning: \n",
            "A value is trying to be set on a copy of a slice from a DataFrame\n",
            "\n",
            "See the caveats in the documentation: https://pandas.pydata.org/pandas-docs/stable/user_guide/indexing.html#returning-a-view-versus-a-copy\n",
            "  \n"
          ]
        }
      ],
      "source": [
        "\n",
        "n_epoch = 10\n",
        "test_kend_collection = []\n",
        "test_spear_collection = []\n",
        "y = df_train.answer\n",
        "\n",
        "for i in range(n_epoch):\n",
        "\n",
        "    print(f\"Start epoch {i + 1}\")\n",
        "\n",
        "    pipe = m_step(df_train[['player_id', 'question_id']], y)\n",
        "\n",
        "    player_len = df_train.nunique()['player_id']\n",
        "    player_features_names = pipe['one_hot'].get_feature_names()[ :player_len]\n",
        "    player_ids = [int(name[11:]) for name in player_features_names]\n",
        "    player_weights = pipe['linreg'].coef_[ :player_len]\n",
        "    map_id_to_weight = dict(zip(player_ids, player_weights))\n",
        "    map_id_to_prob = dict(zip(player_ids, sigmoid(player_weights)))\n",
        "    map_id_to_weight = dict(sorted(map_id_to_weight.items(), key=lambda item: item[1], reverse=True))\n",
        "\n",
        "    kend_corr, spear_corr = calc_metric(df_test, results, map_id_to_weight)\n",
        "    test_kend_collection.append(kend_corr)\n",
        "    test_spear_collection.append(spear_corr)\n",
        "    print(f\"Calc metric by test, kendalltau is {kend_corr} spearmanr is {spear_corr}\")\n",
        "\n",
        "\n",
        "    y = e_step(df_train, label_zero_idx, label_one_idx, map_id_to_prob)"
      ],
      "id": "46028b74"
    },
    {
      "cell_type": "code",
      "execution_count": 11,
      "metadata": {
        "id": "AqafyMjhiEgL",
        "colab": {
          "base_uri": "https://localhost:8080/",
          "height": 483
        },
        "outputId": "b689879d-2e3c-4d77-940a-751c10dbfbe0"
      },
      "outputs": [
        {
          "output_type": "display_data",
          "data": {
            "text/plain": [
              "<Figure size 1080x576 with 1 Axes>"
            ],
            "image/png": "[encoded data removed]"
          },
          "metadata": {
            "needs_background": "light"
          }
        }
      ],
      "source": [
        "fig = plt.figure(figsize=figsize)\n",
        "ax = fig.add_subplot(111)\n",
        "ax.plot(range(1, n_epoch + 1), test_kend_collection, linewidth=1, label=\"корреляция Кендалла на тестовой выборке\", color=\"black\")\n",
        "\n",
        "ax.legend(loc=\"upper center\", fontsize=legend_fontsize)\n",
        "\n",
        "plt.show()"
      ],
      "id": "AqafyMjhiEgL"
    },
    {
      "cell_type": "code",
      "source": [
        "fig = plt.figure(figsize=figsize)\n",
        "ax = fig.add_subplot(111)\n",
        "ax.plot(range(1, n_epoch + 1), test_spear_collection, linewidth=1, label=\"корреляция Спирмена на тестовой выборке\", color=\"black\")\n",
        "\n",
        "ax.legend(loc=\"upper center\", fontsize=legend_fontsize)\n",
        "\n",
        "plt.show()"
      ],
      "metadata": {
        "colab": {
          "base_uri": "https://localhost:8080/",
          "height": 483
        },
        "id": "IQm-UPCH9X5o",
        "outputId": "02486b3d-2b82-428b-f132-b2df7a1a13aa"
      },
      "id": "IQm-UPCH9X5o",
      "execution_count": 12,
      "outputs": [
        {
          "output_type": "display_data",
          "data": {
            "text/plain": [
              "<Figure size 1080x576 with 1 Axes>"
            ],
            "image/png": "[encoded data removed]"
          },
          "metadata": {
            "needs_background": "light"
          }
        }
      ]
    },
    {
      "cell_type": "markdown",
      "source": [
        "Из графиков видно, что корреляции потихоньку растут"
      ],
      "metadata": {
        "id": "qx7ILdX4IqcF"
      },
      "id": "qx7ILdX4IqcF"
    },
    {
      "cell_type": "markdown",
      "source": [
        "# 5 Рейтинг вопросов"
      ],
      "metadata": {
        "id": "kNAwvqg-AjFD"
      },
      "id": "kNAwvqg-AjFD"
    },
    {
      "cell_type": "code",
      "source": [
        "player_len = df_train.nunique()['player_id']\n",
        "questions_features_names = pipe['one_hot'].get_feature_names()[player_len: ]"
      ],
      "metadata": {
        "colab": {
          "base_uri": "https://localhost:8080/"
        },
        "id": "SdrM053_A4EO",
        "outputId": "ce2a96c8-538a-4281-99f5-096cb9a0fa5f"
      },
      "id": "SdrM053_A4EO",
      "execution_count": 13,
      "outputs": [
        {
          "output_type": "stream",
          "name": "stderr",
          "text": [
            "/usr/local/lib/python3.7/dist-packages/sklearn/utils/deprecation.py:87: FutureWarning: Function get_feature_names is deprecated; get_feature_names is deprecated in 1.0 and will be removed in 1.2. Please use get_feature_names_out instead.\n",
            "  warnings.warn(msg, category=FutureWarning)\n"
          ]
        }
      ]
    },
    {
      "cell_type": "code",
      "source": [
        "question_ids = [name.split('_')[-2] + \" \" + name.split('_')[-1] for name in questions_features_names]\n",
        "question_weights = pipe['linreg'].coef_[player_len: ]\n",
        "map_id_to_weight = dict(zip(question_ids, question_weights))"
      ],
      "metadata": {
        "id": "ZK_doFxE9mm-"
      },
      "id": "ZK_doFxE9mm-",
      "execution_count": 30,
      "outputs": []
    },
    {
      "cell_type": "code",
      "source": [
        "map_tour_weight = defaultdict(lambda: 0)\n",
        "for key, weight in map_id_to_weight.items():\n",
        "  tour_id, _ = map(int, key.split())\n",
        "  map_tour_weight[tour_id] += weight\n",
        "map_tour_weight = dict(sorted(map_tour_weight.items(), key=lambda item: item[1], reverse=True))\n",
        "list_sorted_tour = list(zip(map_tour_weight.keys(), map_tour_weight.values()))\n",
        "top_10_hard_tour = list_sorted_tour[: 10]\n",
        "top_10_easy_tour = list_sorted_tour[-10: ]\n"
      ],
      "metadata": {
        "id": "IOp7keazEpt-"
      },
      "id": "IOp7keazEpt-",
      "execution_count": 39,
      "outputs": []
    },
    {
      "cell_type": "code",
      "source": [
        "top_10_easy_tour"
      ],
      "metadata": {
        "colab": {
          "base_uri": "https://localhost:8080/"
        },
        "id": "hpBGpzSVG0oN",
        "outputId": "d94dd2b0-5ae6-4e96-d12f-9bde9833713a"
      },
      "id": "hpBGpzSVG0oN",
      "execution_count": 40,
      "outputs": [
        {
          "output_type": "execute_result",
          "data": {
            "text/plain": [
              "[(5903, -6.943784324224534),\n",
              " (5368, -7.164220374323566),\n",
              " (5451, -7.349525570368073),\n",
              " (5795, -8.129471510037629),\n",
              " (5928, -9.530103529699991),\n",
              " (5864, -10.590838768388776),\n",
              " (6085, -11.62963887614168),\n",
              " (5465, -13.963386443311837),\n",
              " (6150, -22.121521312859258),\n",
              " (6149, -54.35582188906111)]"
            ]
          },
          "metadata": {},
          "execution_count": 40
        }
      ]
    },
    {
      "cell_type": "code",
      "source": [
        "top_10_hard_tour"
      ],
      "metadata": {
        "colab": {
          "base_uri": "https://localhost:8080/"
        },
        "id": "-by5O5CzGy3A",
        "outputId": "14a7c17d-9c05-4bde-b40b-d8b0399fabb7"
      },
      "id": "-by5O5CzGy3A",
      "execution_count": 35,
      "outputs": [
        {
          "output_type": "execute_result",
          "data": {
            "text/plain": [
              "[(6254, 44.09549255890255),\n",
              " (6249, 42.95091299868013),\n",
              " (5827, 26.258403822982586),\n",
              " (5592, 13.557401995737457),\n",
              " (6008, 12.409159914963393),\n",
              " (5660, 11.500601209244664),\n",
              " (5791, 8.80760045212226),\n",
              " (5457, 8.725246850853411),\n",
              " (5488, 8.666375996299026),\n",
              " (5635, 8.47035530486486)]"
            ]
          },
          "metadata": {},
          "execution_count": 35
        }
      ]
    },
    {
      "cell_type": "markdown",
      "source": [
        "## 10 Сложных турниров"
      ],
      "metadata": {
        "id": "DTOUtBwzH_ri"
      },
      "id": "DTOUtBwzH_ri"
    },
    {
      "cell_type": "code",
      "source": [
        "tour_string = \"\"\n",
        "for tour_id, _ in top_10_hard_tour:\n",
        "  tour_string += (tournaments_df[tournaments_df.id == tour_id].name.values[0] + \"\\n\")\n",
        "print(tour_string)"
      ],
      "metadata": {
        "colab": {
          "base_uri": "https://localhost:8080/"
        },
        "id": "zjYNtw8xDCuS",
        "outputId": "4c9b07b9-9dc2-4485-dbf2-df30a738ee46"
      },
      "id": "zjYNtw8xDCuS",
      "execution_count": 47,
      "outputs": [
        {
          "output_type": "stream",
          "name": "stdout",
          "text": [
            "Школьная лига\n",
            "Школьный синхрон-lite. Сезон 3\n",
            "Шестой киевский марафон. Асинхрон\n",
            "Студенческая лига ЧТ\n",
            "Малый кубок Физтеха\n",
            "Первая лига ЧТ\n",
            "Кубок княгини Ольги среди школьников\n",
            "Студенческий чемпионат Калининградской области\n",
            "Чемпионат Беларуси среди школьников\n",
            "Открытый кубок Дальнего Востока (школьный зачёт)\n",
            "\n"
          ]
        }
      ]
    },
    {
      "cell_type": "markdown",
      "source": [
        "## 10 Простых турниров"
      ],
      "metadata": {
        "id": "0AG8GTmKH7CL"
      },
      "id": "0AG8GTmKH7CL"
    },
    {
      "cell_type": "code",
      "source": [
        "tour_string = \"\"\n",
        "for tour_id, _ in top_10_easy_tour:\n",
        "  tour_string += (tournaments_df[tournaments_df.id == tour_id].name.values[0] + \"\\n\")\n",
        "print(tour_string)"
      ],
      "metadata": {
        "colab": {
          "base_uri": "https://localhost:8080/"
        },
        "id": "arDqhohMHhDG",
        "outputId": "b20e9035-9a12-4579-d196-4aaba69b88ad"
      },
      "id": "arDqhohMHhDG",
      "execution_count": 48,
      "outputs": [
        {
          "output_type": "stream",
          "name": "stdout",
          "text": [
            "Беловежская Зима\n",
            "AU\n",
            "Весна в ЛЭТИ\n",
            "Кубок Москвы\n",
            "Угрюмый Ёрш\n",
            "Гран-при Славянки. Общий зачет\n",
            "Серия Гран-при. Общий зачёт\n",
            "Чемпионат России\n",
            "Чемпионат Санкт-Петербурга. Высшая лига\n",
            "Чемпионат Санкт-Петербурга. Первая лига\n",
            "\n"
          ]
        }
      ]
    },
    {
      "cell_type": "markdown",
      "source": [
        "Я думаю так получилось, потому что, модель не учитывает, что на турниры для школьников приходят более слабые игроки, у которых меньше вероятность дать правильный ответ, в следствии чего получается на турнире отвечают на меньшее количество вопросов."
      ],
      "metadata": {
        "id": "_jTQXjL2IGLJ"
      },
      "id": "_jTQXjL2IGLJ"
    },
    {
      "cell_type": "code",
      "source": [
        ""
      ],
      "metadata": {
        "id": "X7fP9pddHpFD"
      },
      "id": "X7fP9pddHpFD",
      "execution_count": null,
      "outputs": []
    }
  ],
  "metadata": {
    "colab": {
      "collapsed_sections": [],
      "name": "hw2.ipynb",
      "provenance": []
    },
    "kernelspec": {
      "display_name": "Python 3",
      "language": "python",
      "name": "python3"
    },
    "language_info": {
      "codemirror_mode": {
        "name": "ipython",
        "version": 3
      },
      "file_extension": ".py",
      "mimetype": "text/x-python",
      "name": "python",
      "nbconvert_exporter": "python",
      "pygments_lexer": "ipython3",
      "version": "3.8.8"
    }
  },
  "nbformat": 4,
  "nbformat_minor": 5
}