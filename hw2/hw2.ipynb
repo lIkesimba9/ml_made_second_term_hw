{
 "cells": [
  {
   "cell_type": "code",
   "execution_count": 1,
   "id": "fd9567a6",
   "metadata": {},
   "outputs": [],
   "source": [
    "import matplotlib as mpl\n",
    "import matplotlib.pyplot as plt\n",
    "import seaborn as sns\n",
    "import json\n",
    "import numpy as np\n",
    "import pandas as pd\n",
    "\n",
    "import scipy as sp\n",
    "import scipy.stats as st\n",
    "from scipy.special import expit as sigmoid\n",
    "import scipy.stats as sts\n",
    "from scipy import sparse\n",
    "from scipy.stats import multivariate_normal\n",
    "\n",
    "from sklearn.linear_model import LogisticRegression\n",
    "from copy import copy\n",
    "from IPython.display import Image\n",
    "import pickle\n",
    "from datetime import datetime, timedelta\n",
    "import json\n",
    "import gc\n",
    "import re\n",
    "from tqdm import tqdm\n",
    "from collections import defaultdict, Counter\n",
    "\n",
    "\n",
    "sns.set_style(\"whitegrid\")\n",
    "sns.set_palette(\"colorblind\")\n",
    "palette = sns.color_palette()\n",
    "figsize = (15,8)\n",
    "legend_fontsize = 16\n",
    "\n",
    "from matplotlib import rc\n",
    "rc('font',**{'family':'sans-serif'})\n",
    "rc('figure', **{'dpi': 300})"
   ]
  },
  {
   "cell_type": "markdown",
   "id": "27ba8cec",
   "metadata": {},
   "source": [
    "# 1. Прочитайте и проанализируйте данные, выберите турниры, в которых есть данные о составах команд и повопросных результатах"
   ]
  },
  {
   "cell_type": "code",
   "execution_count": 2,
   "id": "ed5fd861",
   "metadata": {},
   "outputs": [],
   "source": [
    "results = pickle.load(open(\"chgk/results.pkl\", \"rb\"))\n",
    "tournaments_df = pd.DataFrame(pickle.load(open(\"chgk/tournaments.pkl\", \"rb\"))).transpose()\n",
    "tournaments_df.dateStart = pd.to_datetime(tournaments_df.dateStart)\n",
    "players_df = pd.DataFrame(pickle.load(open(\"chgk/players.pkl\", \"rb\"))).transpose()"
   ]
  },
  {
   "cell_type": "code",
   "execution_count": 3,
   "id": "fa2c7869",
   "metadata": {},
   "outputs": [
    {
     "data": {
      "text/html": [
       "<div>\n",
       "<style scoped>\n",
       "    .dataframe tbody tr th:only-of-type {\n",
       "        vertical-align: middle;\n",
       "    }\n",
       "\n",
       "    .dataframe tbody tr th {\n",
       "        vertical-align: top;\n",
       "    }\n",
       "\n",
       "    .dataframe thead th {\n",
       "        text-align: right;\n",
       "    }\n",
       "</style>\n",
       "<table border=\"1\" class=\"dataframe\">\n",
       "  <thead>\n",
       "    <tr style=\"text-align: right;\">\n",
       "      <th></th>\n",
       "      <th>id</th>\n",
       "      <th>name</th>\n",
       "      <th>dateStart</th>\n",
       "      <th>dateEnd</th>\n",
       "      <th>type</th>\n",
       "      <th>season</th>\n",
       "      <th>orgcommittee</th>\n",
       "      <th>synchData</th>\n",
       "      <th>questionQty</th>\n",
       "    </tr>\n",
       "  </thead>\n",
       "  <tbody>\n",
       "    <tr>\n",
       "      <th>1</th>\n",
       "      <td>1</td>\n",
       "      <td>Чемпионат Южного Кавказа</td>\n",
       "      <td>2003-07-25 00:00:00+04:00</td>\n",
       "      <td>2003-07-27T00:00:00+04:00</td>\n",
       "      <td>{'id': 2, 'name': 'Обычный'}</td>\n",
       "      <td>/seasons/1</td>\n",
       "      <td>[]</td>\n",
       "      <td>None</td>\n",
       "      <td>None</td>\n",
       "    </tr>\n",
       "    <tr>\n",
       "      <th>2</th>\n",
       "      <td>2</td>\n",
       "      <td>Летние зори</td>\n",
       "      <td>2003-08-09 00:00:00+04:00</td>\n",
       "      <td>2003-08-09T00:00:00+04:00</td>\n",
       "      <td>{'id': 2, 'name': 'Обычный'}</td>\n",
       "      <td>/seasons/1</td>\n",
       "      <td>[]</td>\n",
       "      <td>None</td>\n",
       "      <td>None</td>\n",
       "    </tr>\n",
       "    <tr>\n",
       "      <th>3</th>\n",
       "      <td>3</td>\n",
       "      <td>Турнир в Ижевске</td>\n",
       "      <td>2003-11-22 00:00:00+03:00</td>\n",
       "      <td>2003-11-24T00:00:00+03:00</td>\n",
       "      <td>{'id': 2, 'name': 'Обычный'}</td>\n",
       "      <td>/seasons/2</td>\n",
       "      <td>[]</td>\n",
       "      <td>None</td>\n",
       "      <td>None</td>\n",
       "    </tr>\n",
       "    <tr>\n",
       "      <th>4</th>\n",
       "      <td>4</td>\n",
       "      <td>Чемпионат Украины. Переходной этап</td>\n",
       "      <td>2003-10-11 00:00:00+04:00</td>\n",
       "      <td>2003-10-12T00:00:00+04:00</td>\n",
       "      <td>{'id': 2, 'name': 'Обычный'}</td>\n",
       "      <td>/seasons/2</td>\n",
       "      <td>[]</td>\n",
       "      <td>None</td>\n",
       "      <td>None</td>\n",
       "    </tr>\n",
       "    <tr>\n",
       "      <th>5</th>\n",
       "      <td>5</td>\n",
       "      <td>Бостонское чаепитие</td>\n",
       "      <td>2003-10-10 00:00:00+04:00</td>\n",
       "      <td>2003-10-13T00:00:00+04:00</td>\n",
       "      <td>{'id': 2, 'name': 'Обычный'}</td>\n",
       "      <td>/seasons/2</td>\n",
       "      <td>[]</td>\n",
       "      <td>None</td>\n",
       "      <td>None</td>\n",
       "    </tr>\n",
       "  </tbody>\n",
       "</table>\n",
       "</div>"
      ],
      "text/plain": [
       "  id                                name                  dateStart  \\\n",
       "1  1            Чемпионат Южного Кавказа  2003-07-25 00:00:00+04:00   \n",
       "2  2                         Летние зори  2003-08-09 00:00:00+04:00   \n",
       "3  3                    Турнир в Ижевске  2003-11-22 00:00:00+03:00   \n",
       "4  4  Чемпионат Украины. Переходной этап  2003-10-11 00:00:00+04:00   \n",
       "5  5                 Бостонское чаепитие  2003-10-10 00:00:00+04:00   \n",
       "\n",
       "                     dateEnd                          type      season  \\\n",
       "1  2003-07-27T00:00:00+04:00  {'id': 2, 'name': 'Обычный'}  /seasons/1   \n",
       "2  2003-08-09T00:00:00+04:00  {'id': 2, 'name': 'Обычный'}  /seasons/1   \n",
       "3  2003-11-24T00:00:00+03:00  {'id': 2, 'name': 'Обычный'}  /seasons/2   \n",
       "4  2003-10-12T00:00:00+04:00  {'id': 2, 'name': 'Обычный'}  /seasons/2   \n",
       "5  2003-10-13T00:00:00+04:00  {'id': 2, 'name': 'Обычный'}  /seasons/2   \n",
       "\n",
       "  orgcommittee synchData questionQty  \n",
       "1           []      None        None  \n",
       "2           []      None        None  \n",
       "3           []      None        None  \n",
       "4           []      None        None  \n",
       "5           []      None        None  "
      ]
     },
     "execution_count": 3,
     "metadata": {},
     "output_type": "execute_result"
    }
   ],
   "source": [
    "tournaments_df.head()"
   ]
  },
  {
   "cell_type": "code",
   "execution_count": 4,
   "id": "65542860",
   "metadata": {},
   "outputs": [
    {
     "data": {
      "text/html": [
       "<div>\n",
       "<style scoped>\n",
       "    .dataframe tbody tr th:only-of-type {\n",
       "        vertical-align: middle;\n",
       "    }\n",
       "\n",
       "    .dataframe tbody tr th {\n",
       "        vertical-align: top;\n",
       "    }\n",
       "\n",
       "    .dataframe thead th {\n",
       "        text-align: right;\n",
       "    }\n",
       "</style>\n",
       "<table border=\"1\" class=\"dataframe\">\n",
       "  <thead>\n",
       "    <tr style=\"text-align: right;\">\n",
       "      <th></th>\n",
       "      <th>id</th>\n",
       "      <th>name</th>\n",
       "      <th>patronymic</th>\n",
       "      <th>surname</th>\n",
       "    </tr>\n",
       "  </thead>\n",
       "  <tbody>\n",
       "    <tr>\n",
       "      <th>1</th>\n",
       "      <td>1</td>\n",
       "      <td>Алексей</td>\n",
       "      <td>None</td>\n",
       "      <td>Абабилов</td>\n",
       "    </tr>\n",
       "    <tr>\n",
       "      <th>10</th>\n",
       "      <td>10</td>\n",
       "      <td>Игорь</td>\n",
       "      <td></td>\n",
       "      <td>Абалов</td>\n",
       "    </tr>\n",
       "    <tr>\n",
       "      <th>11</th>\n",
       "      <td>11</td>\n",
       "      <td>Наталья</td>\n",
       "      <td>Юрьевна</td>\n",
       "      <td>Абалымова</td>\n",
       "    </tr>\n",
       "    <tr>\n",
       "      <th>12</th>\n",
       "      <td>12</td>\n",
       "      <td>Артур</td>\n",
       "      <td>Евгеньевич</td>\n",
       "      <td>Абальян</td>\n",
       "    </tr>\n",
       "    <tr>\n",
       "      <th>13</th>\n",
       "      <td>13</td>\n",
       "      <td>Эрик</td>\n",
       "      <td>Евгеньевич</td>\n",
       "      <td>Абальян</td>\n",
       "    </tr>\n",
       "  </tbody>\n",
       "</table>\n",
       "</div>"
      ],
      "text/plain": [
       "    id     name  patronymic    surname\n",
       "1    1  Алексей        None   Абабилов\n",
       "10  10    Игорь                 Абалов\n",
       "11  11  Наталья     Юрьевна  Абалымова\n",
       "12  12    Артур  Евгеньевич    Абальян\n",
       "13  13     Эрик  Евгеньевич    Абальян"
      ]
     },
     "execution_count": 4,
     "metadata": {},
     "output_type": "execute_result"
    }
   ],
   "source": [
    "players_df.head()"
   ]
  },
  {
   "cell_type": "code",
   "execution_count": 5,
   "id": "47ee6d02",
   "metadata": {},
   "outputs": [],
   "source": [
    "train_start_date = pd.to_datetime(\"2019/01/01 00:00:00\", utc=True)\n",
    "train_end_date = pd.to_datetime(\"2019/12/31 23:59:59\", utc=True)\n",
    "train_tournaments_index = tournaments_df[tournaments_df.dateStart.between(train_start_date, train_end_date)].id\n",
    "train = []\n",
    "\n",
    "for tour_id in train_tournaments_index:\n",
    "    tournament = results.get(tour_id, -1)\n",
    "    if tournament == -1:\n",
    "        continue\n",
    "        \n",
    "    for team in tournament:\n",
    "        mask = team.get(\"mask\", \"\")\n",
    "        if not mask or re.sub(\"[0-1]+\", \"\", mask):\n",
    "            continue\n",
    "                  \n",
    "        team_id = int(team[\"team\"][\"id\"])\n",
    "        \n",
    "        for member in team[\"teamMembers\"]:\n",
    "            player_id = member['player']['id']\n",
    "            for quest_idx, answ in enumerate([int(i) for i in mask]):\n",
    "                train.append([tour_id, team_id, player_id, str(tour_id) + \"_\" + str(quest_idx), int(answ)])\n",
    "    \n",
    "\n",
    "df_train = pd.DataFrame(train)\n",
    "df_train.columns = ['tournament_id', 'team_id', 'player_id', 'question_id', 'answer']\n"
   ]
  },
  {
   "cell_type": "code",
   "execution_count": 6,
   "id": "d12f39f7",
   "metadata": {},
   "outputs": [
    {
     "data": {
      "text/html": [
       "<div>\n",
       "<style scoped>\n",
       "    .dataframe tbody tr th:only-of-type {\n",
       "        vertical-align: middle;\n",
       "    }\n",
       "\n",
       "    .dataframe tbody tr th {\n",
       "        vertical-align: top;\n",
       "    }\n",
       "\n",
       "    .dataframe thead th {\n",
       "        text-align: right;\n",
       "    }\n",
       "</style>\n",
       "<table border=\"1\" class=\"dataframe\">\n",
       "  <thead>\n",
       "    <tr style=\"text-align: right;\">\n",
       "      <th></th>\n",
       "      <th>tournament_id</th>\n",
       "      <th>team_id</th>\n",
       "      <th>player_id</th>\n",
       "      <th>question_id</th>\n",
       "      <th>answer</th>\n",
       "    </tr>\n",
       "  </thead>\n",
       "  <tbody>\n",
       "    <tr>\n",
       "      <th>0</th>\n",
       "      <td>4772</td>\n",
       "      <td>45556</td>\n",
       "      <td>6212</td>\n",
       "      <td>4772_0</td>\n",
       "      <td>1</td>\n",
       "    </tr>\n",
       "    <tr>\n",
       "      <th>1</th>\n",
       "      <td>4772</td>\n",
       "      <td>45556</td>\n",
       "      <td>6212</td>\n",
       "      <td>4772_1</td>\n",
       "      <td>1</td>\n",
       "    </tr>\n",
       "    <tr>\n",
       "      <th>2</th>\n",
       "      <td>4772</td>\n",
       "      <td>45556</td>\n",
       "      <td>6212</td>\n",
       "      <td>4772_2</td>\n",
       "      <td>1</td>\n",
       "    </tr>\n",
       "    <tr>\n",
       "      <th>3</th>\n",
       "      <td>4772</td>\n",
       "      <td>45556</td>\n",
       "      <td>6212</td>\n",
       "      <td>4772_3</td>\n",
       "      <td>1</td>\n",
       "    </tr>\n",
       "    <tr>\n",
       "      <th>4</th>\n",
       "      <td>4772</td>\n",
       "      <td>45556</td>\n",
       "      <td>6212</td>\n",
       "      <td>4772_4</td>\n",
       "      <td>1</td>\n",
       "    </tr>\n",
       "  </tbody>\n",
       "</table>\n",
       "</div>"
      ],
      "text/plain": [
       "   tournament_id  team_id  player_id question_id  answer\n",
       "0           4772    45556       6212      4772_0       1\n",
       "1           4772    45556       6212      4772_1       1\n",
       "2           4772    45556       6212      4772_2       1\n",
       "3           4772    45556       6212      4772_3       1\n",
       "4           4772    45556       6212      4772_4       1"
      ]
     },
     "execution_count": 6,
     "metadata": {},
     "output_type": "execute_result"
    }
   ],
   "source": [
    "df_train.head()"
   ]
  },
  {
   "cell_type": "code",
   "execution_count": 7,
   "id": "12f556ed",
   "metadata": {},
   "outputs": [],
   "source": [
    "test_start_date = pd.to_datetime(\"2020/01/01 00:00:00\", utc=True)\n",
    "test_end_date = pd.to_datetime(\"2020/12/31 23:59:59\", utc=True)\n",
    "test_tournaments_index = tournaments_df[tournaments_df.dateStart.between(test_start_date, test_end_date)].id\n",
    "test = []\n",
    "test_position = []\n",
    "for tour_id in test_tournaments_index:\n",
    "    tournament = results.get(tour_id, -1)\n",
    "    if tournament == -1:\n",
    "        continue\n",
    "    \n",
    "    for team in tournament:\n",
    "        mask = team.get(\"mask\", \"\")\n",
    "        if not mask or re.sub(\"[0-1]+\", \"\", mask):\n",
    "            continue\n",
    "        team_id = int(team[\"team\"][\"id\"])\n",
    "        test_position.append([tour_id, team_id, team[\"position\"]])\n",
    "        for member in team[\"teamMembers\"]:\n",
    "            player_id = member['player']['id']\n",
    "            for quest_idx, answ in enumerate([int(i) for i in mask]):\n",
    "                test.append([tour_id, team_id, player_id, str(tour_id) + \"_\" + str(quest_idx), int(answ)])\n",
    "    \n",
    "\n",
    "    "
   ]
  },
  {
   "cell_type": "code",
   "execution_count": 8,
   "id": "7355e8ed",
   "metadata": {},
   "outputs": [],
   "source": [
    "df_test_position = pd.DataFrame(test_position)\n",
    "df_test_position.columns = ['tournament_id', 'team_id', 'position']"
   ]
  },
  {
   "cell_type": "code",
   "execution_count": 9,
   "id": "3603a453",
   "metadata": {},
   "outputs": [
    {
     "data": {
      "text/html": [
       "<div>\n",
       "<style scoped>\n",
       "    .dataframe tbody tr th:only-of-type {\n",
       "        vertical-align: middle;\n",
       "    }\n",
       "\n",
       "    .dataframe tbody tr th {\n",
       "        vertical-align: top;\n",
       "    }\n",
       "\n",
       "    .dataframe thead th {\n",
       "        text-align: right;\n",
       "    }\n",
       "</style>\n",
       "<table border=\"1\" class=\"dataframe\">\n",
       "  <thead>\n",
       "    <tr style=\"text-align: right;\">\n",
       "      <th></th>\n",
       "      <th>tournament_id</th>\n",
       "      <th>team_id</th>\n",
       "      <th>position</th>\n",
       "    </tr>\n",
       "  </thead>\n",
       "  <tbody>\n",
       "    <tr>\n",
       "      <th>0</th>\n",
       "      <td>5414</td>\n",
       "      <td>66120</td>\n",
       "      <td>1.0</td>\n",
       "    </tr>\n",
       "    <tr>\n",
       "      <th>1</th>\n",
       "      <td>5414</td>\n",
       "      <td>312</td>\n",
       "      <td>2.5</td>\n",
       "    </tr>\n",
       "    <tr>\n",
       "      <th>2</th>\n",
       "      <td>5414</td>\n",
       "      <td>2</td>\n",
       "      <td>2.5</td>\n",
       "    </tr>\n",
       "    <tr>\n",
       "      <th>3</th>\n",
       "      <td>5414</td>\n",
       "      <td>72338</td>\n",
       "      <td>5.0</td>\n",
       "    </tr>\n",
       "    <tr>\n",
       "      <th>4</th>\n",
       "      <td>5414</td>\n",
       "      <td>4032</td>\n",
       "      <td>5.0</td>\n",
       "    </tr>\n",
       "  </tbody>\n",
       "</table>\n",
       "</div>"
      ],
      "text/plain": [
       "   tournament_id  team_id  position\n",
       "0           5414    66120       1.0\n",
       "1           5414      312       2.5\n",
       "2           5414        2       2.5\n",
       "3           5414    72338       5.0\n",
       "4           5414     4032       5.0"
      ]
     },
     "execution_count": 9,
     "metadata": {},
     "output_type": "execute_result"
    }
   ],
   "source": [
    "df_test_position.head()"
   ]
  },
  {
   "cell_type": "code",
   "execution_count": 10,
   "id": "b64f765b",
   "metadata": {},
   "outputs": [],
   "source": [
    "df_test = pd.DataFrame(test)\n",
    "df_test.columns = ['tournament_id', 'team_id', 'player_id', 'question_id', 'answer']"
   ]
  },
  {
   "cell_type": "code",
   "execution_count": 11,
   "id": "4bb4e131",
   "metadata": {},
   "outputs": [
    {
     "data": {
      "text/html": [
       "<div>\n",
       "<style scoped>\n",
       "    .dataframe tbody tr th:only-of-type {\n",
       "        vertical-align: middle;\n",
       "    }\n",
       "\n",
       "    .dataframe tbody tr th {\n",
       "        vertical-align: top;\n",
       "    }\n",
       "\n",
       "    .dataframe thead th {\n",
       "        text-align: right;\n",
       "    }\n",
       "</style>\n",
       "<table border=\"1\" class=\"dataframe\">\n",
       "  <thead>\n",
       "    <tr style=\"text-align: right;\">\n",
       "      <th></th>\n",
       "      <th>tournament_id</th>\n",
       "      <th>team_id</th>\n",
       "      <th>player_id</th>\n",
       "      <th>question_id</th>\n",
       "      <th>answer</th>\n",
       "    </tr>\n",
       "  </thead>\n",
       "  <tbody>\n",
       "    <tr>\n",
       "      <th>0</th>\n",
       "      <td>5414</td>\n",
       "      <td>66120</td>\n",
       "      <td>18490</td>\n",
       "      <td>5414_0</td>\n",
       "      <td>1</td>\n",
       "    </tr>\n",
       "    <tr>\n",
       "      <th>1</th>\n",
       "      <td>5414</td>\n",
       "      <td>66120</td>\n",
       "      <td>18490</td>\n",
       "      <td>5414_1</td>\n",
       "      <td>1</td>\n",
       "    </tr>\n",
       "    <tr>\n",
       "      <th>2</th>\n",
       "      <td>5414</td>\n",
       "      <td>66120</td>\n",
       "      <td>18490</td>\n",
       "      <td>5414_2</td>\n",
       "      <td>1</td>\n",
       "    </tr>\n",
       "    <tr>\n",
       "      <th>3</th>\n",
       "      <td>5414</td>\n",
       "      <td>66120</td>\n",
       "      <td>18490</td>\n",
       "      <td>5414_3</td>\n",
       "      <td>1</td>\n",
       "    </tr>\n",
       "    <tr>\n",
       "      <th>4</th>\n",
       "      <td>5414</td>\n",
       "      <td>66120</td>\n",
       "      <td>18490</td>\n",
       "      <td>5414_4</td>\n",
       "      <td>1</td>\n",
       "    </tr>\n",
       "  </tbody>\n",
       "</table>\n",
       "</div>"
      ],
      "text/plain": [
       "   tournament_id  team_id  player_id question_id  answer\n",
       "0           5414    66120      18490      5414_0       1\n",
       "1           5414    66120      18490      5414_1       1\n",
       "2           5414    66120      18490      5414_2       1\n",
       "3           5414    66120      18490      5414_3       1\n",
       "4           5414    66120      18490      5414_4       1"
      ]
     },
     "execution_count": 11,
     "metadata": {},
     "output_type": "execute_result"
    }
   ],
   "source": [
    "df_test.head()"
   ]
  },
  {
   "cell_type": "markdown",
   "id": "9b4aef7d",
   "metadata": {},
   "source": [
    "# Baseline model"
   ]
  },
  {
   "cell_type": "code",
   "execution_count": 12,
   "id": "89685d35",
   "metadata": {},
   "outputs": [],
   "source": [
    "from sklearn.linear_model import LogisticRegression\n",
    "from sklearn.preprocessing import OneHotEncoder\n",
    "from sklearn.compose import ColumnTransformer\n",
    "from sklearn.compose import make_column_transformer\n",
    "from sklearn.pipeline import Pipeline"
   ]
  },
  {
   "cell_type": "code",
   "execution_count": 13,
   "id": "5f219ff3",
   "metadata": {},
   "outputs": [
    {
     "name": "stdout",
     "output_type": "stream",
     "text": [
      "[Pipeline] ........... (step 1 of 2) Processing one_hot, total=   4.3s\n",
      "[Pipeline] ............ (step 2 of 2) Processing logreg, total= 5.1min\n"
     ]
    },
    {
     "data": {
      "text/plain": [
       "Pipeline(steps=[('one_hot',\n",
       "                 ColumnTransformer(sparse_threshold=1,\n",
       "                                   transformers=[('OneHot', OneHotEncoder(),\n",
       "                                                  ['tournament_id',\n",
       "                                                   'player_id'])])),\n",
       "                ('logreg', LogisticRegression(solver='liblinear'))],\n",
       "         verbose=True)"
      ]
     },
     "execution_count": 13,
     "metadata": {},
     "output_type": "execute_result"
    }
   ],
   "source": [
    "one_hot = ColumnTransformer(\n",
    "    transformers=[\n",
    "            ('OneHot', OneHotEncoder(), ['tournament_id', 'player_id'])\n",
    "    ],\n",
    "        remainder='drop',\n",
    "        sparse_threshold=1\n",
    "    )\n",
    "pipe = Pipeline(\n",
    "        verbose=True,\n",
    "        steps=[\n",
    "            ('one_hot', one_hot),\n",
    "            ('logreg', LogisticRegression(solver='liblinear', max_iter=100))\n",
    "        ]\n",
    "    )\n",
    "pipe.fit(df_train[['tournament_id', 'player_id']], df_train['answer'])"
   ]
  },
  {
   "cell_type": "code",
   "execution_count": 14,
   "id": "f106230e",
   "metadata": {},
   "outputs": [
    {
     "name": "stderr",
     "output_type": "stream",
     "text": [
      "/Users/simba9/opt/anaconda3/lib/python3.8/site-packages/sklearn/utils/deprecation.py:87: FutureWarning: Function get_feature_names is deprecated; get_feature_names is deprecated in 1.0 and will be removed in 1.2. Please use get_feature_names_out instead.\n",
      "  warnings.warn(msg, category=FutureWarning)\n"
     ]
    }
   ],
   "source": [
    "player_features_start_pos = df_train.nunique()['tournament_id']\n",
    "player_features_names = pipe['one_hot'].get_feature_names()[player_features_start_pos:]\n",
    "player_ids = [int(name[11:]) for name in player_features_names]\n",
    "    "
   ]
  },
  {
   "cell_type": "code",
   "execution_count": 15,
   "id": "c18cedbd",
   "metadata": {},
   "outputs": [],
   "source": [
    "player_weights = pipe['logreg'].coef_[0][player_features_start_pos:]"
   ]
  },
  {
   "cell_type": "code",
   "execution_count": 16,
   "id": "884f4ac6",
   "metadata": {},
   "outputs": [],
   "source": [
    "map_id_to_weight = dict(zip(player_ids, player_weights))"
   ]
  },
  {
   "cell_type": "code",
   "execution_count": 17,
   "id": "ce75c9e5",
   "metadata": {},
   "outputs": [],
   "source": [
    "map_id_to_weight = dict(sorted(map_id_to_weight.items(), key=lambda item: item[1], reverse=True))"
   ]
  },
  {
   "cell_type": "code",
   "execution_count": 18,
   "id": "49973f51",
   "metadata": {},
   "outputs": [],
   "source": [
    "i = 0\n",
    "top_100 = []\n",
    "for player_id, score in map_id_to_weight.items():\n",
    "    if i >= 100:\n",
    "        break\n",
    "    player = players_df[players_df.id == player_id]\n",
    "    player_name = player.name.values[0] + \" \" + player.patronymic.values[0] + \" \" + player.surname.values[0]\n",
    "    top_100.append([player_name, score])\n",
    "    i += 1"
   ]
  },
  {
   "cell_type": "code",
   "execution_count": 19,
   "id": "74d3b355",
   "metadata": {},
   "outputs": [],
   "source": [
    "df_top_100 = pd.DataFrame(top_100)\n",
    "df_top_100.columns = ['player', 'score']"
   ]
  },
  {
   "cell_type": "code",
   "execution_count": 20,
   "id": "925a7dc8",
   "metadata": {},
   "outputs": [
    {
     "name": "stdout",
     "output_type": "stream",
     "text": [
      "                                player     score\n",
      "0              Максим Михайлович Руссо  3.051347\n",
      "1       Александра Владимировна Брутер  2.960198\n",
      "2              Иван Николаевич Семушин  2.930721\n",
      "3         Павел Константинович Щербина  2.921337\n",
      "4        Михаил Владимирович Савченков  2.838481\n",
      "5             Артём Сергеевич Сорожкин  2.816663\n",
      "6            Сергей Леонидович Спешков  2.814304\n",
      "7            Михаил Ильич Левандовский  2.737535\n",
      "8            Сергей Игоревич Николенко  2.718894\n",
      "9          Антон Владимирович Саксонов  2.717776\n",
      "10          Ирина Сергеевна Прокофьева  2.701985\n",
      "11   Станислав Григорьевич Мереминский  2.690272\n",
      "12          Александр Витальевич Либер  2.667702\n",
      "13         Наталья Евгеньевна Горелова  2.658509\n",
      "14      Александр Владимирович Мосягин  2.653666\n",
      "15              Илья Сергеевич Новиков  2.641685\n",
      "16             Сусанна Марковна Бровер  2.631253\n",
      "17          Алексей Владимирович Гилёв  2.625826\n",
      "18              Игорь Викторович Мокин  2.625558\n",
      "19              Мария Алексеевна Юнгер  2.622341\n",
      "20    Евгений Александрович Пашковский  2.612586\n",
      "21       Дмитрий Александрович Карякин  2.602445\n",
      "22     Николай Александрович Коврижных  2.601649\n",
      "23            Антон Анатольевич Чернин  2.598405\n",
      "24            Евгений Павлович Спектор  2.593922\n",
      "25       Мария Владимировна Кленницкая  2.589441\n",
      "26              Юрий Яковлевич Выменец  2.586426\n",
      "27           Дмитрий Сергеевич Кудинов  2.585671\n",
      "28              Михаил Сергеевич Царёв  2.577964\n",
      "29          Николай Валерьевич Крапиль  2.576998\n",
      "30        Наталья Алексеевна Кудряшова  2.570713\n",
      "31          Михаил Андреевич Новосёлов  2.566572\n",
      "32      Андрей Вячеславович Островский  2.564344\n",
      "33        Юлия Сергеевна Архангельская  2.557845\n",
      "34         Александр Ефимович Мартынов  2.549935\n",
      "35         Александр Валерьевич Марков  2.544888\n",
      "36           Дмитрий Николаевич Петров  2.544237\n",
      "37           Евгений Михайлович Перпер  2.528434\n",
      "38      Владимир Владимирович Степанов  2.527695\n",
      "39           Максим Игоревич Пилипенко  2.515857\n",
      "40        Елизавета Сергеевна Овдеенко  2.515041\n",
      "41     Алексей Алексеевич Богословский  2.514273\n",
      "42            Евгений Васильевич Дёмин  2.511109\n",
      "43       Иделия Мукадясовна Айзятулова  2.508209\n",
      "44         Татьяна Евгеньевна Фёдорова  2.505978\n",
      "45               Ким Гагикович Галачян  2.504304\n",
      "46              Павел Михайлович Ершов  2.503272\n",
      "47           Наиль Евгеньевич Фарукшин  2.501100\n",
      "48           Михаил Леонидович Матвеев  2.500897\n",
      "49            Максим Оскарович Поташев  2.498502\n",
      "50          Инна Валентиновна Семёнова  2.493185\n",
      "51         Светлана Сергеевна Иванцова  2.489732\n",
      "52         Кристина Олеговна Кораблина  2.486815\n",
      "53  Александр Геннадьевич Коробейников  2.486244\n",
      "54        Александр Маркович Тобенгауз  2.483626\n",
      "55          Светлана Борисовна Бомешко  2.479780\n",
      "56          Игорь Станиславович Калгин  2.479528\n",
      "57             Борис Яковлевич Моносов  2.477326\n",
      "58                     Полина  Усыскин  2.474125\n",
      "59            Кирилл Игоревич Михайлов  2.473128\n",
      "60           Мария Алексеевна Летюхина  2.473062\n",
      "61      Артём Александрович Митрофанов  2.463219\n",
      "62            Иван Викторович Ермолаев  2.461562\n",
      "63       Алексей Валерьевич Белоглазов  2.460838\n",
      "64         Эльвира Борисовна Верзунова  2.460547\n",
      "65            Алексей Алексеевич Генус  2.460547\n",
      "66         Иван Александрович Эйхгольц  2.460339\n",
      "67             Иван Николаевич Ефремов  2.460327\n",
      "68            Николай Георгиевич Рябых  2.460173\n",
      "69        Ирина Николаевна Колесникова  2.458126\n",
      "70        Тимур Рустемович Кафиатуллин  2.457855\n",
      "71       Сергей Владимирович Коновалов  2.456232\n",
      "72    Александр Александрович Фингеров  2.452193\n",
      "73          Михаил Михайлович Сафронов  2.445395\n",
      "74         Денис Андреевич Галиакберов  2.441468\n",
      "75            Дмитрий Сергеевич Ожигов  2.440314\n",
      "76  Александр Александрович Людикайнен  2.440008\n",
      "77          Эльман Эльдар оглы Талыбов  2.437900\n",
      "78       Александра Сергеевна Киланова  2.437685\n",
      "79         Наталья Александровна Комар  2.436123\n",
      "80            Михаил Дмитриевич Фрадис  2.434366\n",
      "81          Евгений Адольфович Миротин  2.426935\n",
      "82          Анна Григорьевна Резникова  2.426668\n",
      "83       Алексей Владимирович Шередега  2.424891\n",
      "84            Ольга Игоревна Дубинская  2.424343\n",
      "85          Виталий Валерьевич Кунашко  2.423887\n",
      "86         Егор Дмитриевич Господчиков  2.419513\n",
      "87     Мария Владимировна Подрядчикова  2.417262\n",
      "88          Игорь Вячеславович Тюнькин  2.415474\n",
      "89            Мария Львовна Рубинштейн  2.406194\n",
      "90             Лев Григорьевич Кертман  2.398700\n",
      "91         Антон Александрович Буторин  2.393103\n",
      "92             Сергей Викторович Филин  2.389962\n",
      "93          Руслан Гафурович Хаиткулов  2.387434\n",
      "94              Вадим Игоревич Яковлев  2.378035\n",
      "95        Анастасия Борисовна Калинина  2.376328\n",
      "96          Валентин Наумович Исраэлит  2.374132\n",
      "97          Анна Михайловна Карпелевич  2.373915\n",
      "98           Дмитрий Вадимович Великов  2.373322\n",
      "99            Михаил Леонидович Малкин  2.372599\n"
     ]
    }
   ],
   "source": [
    "print(df_top_100.to_string())"
   ]
  },
  {
   "cell_type": "markdown",
   "id": "62eae594",
   "metadata": {},
   "source": [
    "# 3 Качество рейтинг системы"
   ]
  },
  {
   "cell_type": "code",
   "execution_count": 21,
   "id": "e6fd7dc3",
   "metadata": {},
   "outputs": [],
   "source": [
    "from scipy import stats"
   ]
  },
  {
   "cell_type": "code",
   "execution_count": 22,
   "id": "5721fa30",
   "metadata": {},
   "outputs": [],
   "source": [
    "def get_prediction(tournament, player_to_weight, orginal_position_dict):\n",
    "    predict_weight_dict = defaultdict(lambda : 0)\n",
    "    avg_weight = np.mean([v for v in player_to_weight.values()])\n",
    "    for idx, team in enumerate(tournament):\n",
    "        weight = 0\n",
    "        for player_info in team['teamMembers']:\n",
    "            p_id = player_info['player']['id']\n",
    "            try:\n",
    "                weight += player_to_weight[p_id]\n",
    "            except:\n",
    "                weight += avg_weight\n",
    "        predict_weight_dict[team[\"team\"][\"id\"]] = weight\n",
    "    predict_weight_dict = dict(sorted(predict_weight_dict.items(), key=lambda item: item[1], reverse=True))\n",
    "    predict_position_dict = dict(zip(predict_weight_dict.keys(), range(1, len(predict_weight_dict) + 1)))\n",
    "    return [predict_position_dict[team_id] for team_id in orginal_position_dict.keys()]"
   ]
  },
  {
   "cell_type": "code",
   "execution_count": 23,
   "id": "7b7b3c1d",
   "metadata": {},
   "outputs": [],
   "source": [
    "kendalltau_corr = []\n",
    "spearmanr_corr = []\n",
    "\n",
    "for tour_id in df_test.tournament_id.unique():\n",
    "    tournament = results.get(tour_id, -1)\n",
    "    if tournament == -1:\n",
    "        continue\n",
    "    \n",
    "    original_position = [team['position'] for team in tournament]\n",
    "    teams = [team[\"team\"][\"id\"] for team in tournament]\n",
    "    orginal_position_dict = dict(zip(teams, original_position))\n",
    "    prediction_position = get_prediction(tournament, map_id_to_weight, orginal_position_dict)\n",
    "\n",
    "\n",
    "    kendalltau_corr.append(stats.kendalltau(original_position, prediction_position).correlation)\n",
    "    spearmanr_corr.append(stats.spearmanr(original_position, prediction_position).correlation)\n",
    "\n"
   ]
  },
  {
   "cell_type": "code",
   "execution_count": 24,
   "id": "0387b64f",
   "metadata": {},
   "outputs": [
    {
     "data": {
      "text/plain": [
       "(0.6240738447088694, 0.7783292841670338)"
      ]
     },
     "execution_count": 24,
     "metadata": {},
     "output_type": "execute_result"
    }
   ],
   "source": [
    "np.mean(kendalltau_corr), np.mean(spearmanr_corr)"
   ]
  },
  {
   "cell_type": "markdown",
   "id": "aaf3a9f5",
   "metadata": {},
   "source": [
    "# 4 EM"
   ]
  },
  {
   "cell_type": "markdown",
   "id": "df90f50a",
   "metadata": {},
   "source": [
    "## M step"
   ]
  },
  {
   "cell_type": "code",
   "execution_count": 25,
   "id": "1c862132",
   "metadata": {},
   "outputs": [],
   "source": [
    "one_hot = ColumnTransformer(\n",
    "    transformers=[('OneHot', OneHotEncoder(), ['player_id', 'question_id'])],\n",
    "    remainder='drop',\n",
    "    sparse_threshold=1\n",
    ")\n",
    "\n",
    "pipe = Pipeline(\n",
    "    verbose=True,\n",
    "    steps=[\n",
    "        ('one_hot', one_hot),\n",
    "        ('logreg', LogisticRegression(solver='saga', max_iter=100))\n",
    "    ]\n",
    ")\n",
    "\n",
    "def m_step(model, X, y):\n",
    "    model.fit(X, y)\n",
    "    return model, model.predict(X)"
   ]
  },
  {
   "cell_type": "markdown",
   "id": "1280e5d8",
   "metadata": {},
   "source": [
    "## E step"
   ]
  },
  {
   "cell_type": "code",
   "execution_count": null,
   "id": "187d49dd",
   "metadata": {},
   "outputs": [],
   "source": [
    "def e_step(df, preds):\n",
    "    df['new_target'] = preds\n",
    "    label_zero_idx = df['target'] == 0\n",
    "    df.loc[label_zero_idx, 'new_target'] = 0\n",
    "    # изменяем только метки для вопросов, на которые команда ответила\n",
    "    # поскольку p(z_ij = 1 | team_ij = 0) = 0 в силу предположений\n",
    "    label_one_idx = df['target'] == 1\n",
    "    e_step_denom = df.loc[label_one_idx].groupby(['team_id', 'question_id'])['new_target']\n",
    "    e_step_denom = e_step_denom.transform(lambda x : 1 - np.prod(1 - x.values))\n",
    "    df.loc[label_one_idx, 'new_target'] = df.loc[label_one_idx, 'new_target'] / e_step_denom\n",
    "    new_y = df['new_target'].fillna(0)\n",
    "    return new_y\n",
    "\n"
   ]
  },
  {
   "cell_type": "code",
   "execution_count": null,
   "id": "002d6f98",
   "metadata": {},
   "outputs": [],
   "source": [
    "# z - вероятность ответить игроком на вопрос, команда ответила на вопрос если 20 процентов команды ответили правильно\n",
    "# сначала вероятность ответа на вопрос каждого игрока равна 50 процентам"
   ]
  },
  {
   "cell_type": "code",
   "execution_count": 26,
   "id": "7c917f1d",
   "metadata": {},
   "outputs": [],
   "source": [
    "z = []\n",
    "for player_id in df_train.player_id.unique():\n",
    "    z.append([player_id, 0.5])\n",
    "df_z = pd.DataFrame(z)\n",
    "df_z.columns = ['player_id', 'prob_get_right_answ']"
   ]
  },
  {
   "cell_type": "code",
   "execution_count": 42,
   "id": "99345a06",
   "metadata": {},
   "outputs": [
    {
     "ename": "KeyboardInterrupt",
     "evalue": "",
     "output_type": "error",
     "traceback": [
      "\u001b[0;31m---------------------------------------------------------------------------\u001b[0m",
      "\u001b[0;31mKeyboardInterrupt\u001b[0m                         Traceback (most recent call last)",
      "\u001b[0;32m<ipython-input-42-97051fb2764c>\u001b[0m in \u001b[0;36m<module>\u001b[0;34m\u001b[0m\n\u001b[1;32m      1\u001b[0m \u001b[0mdict_teams_by_tour_train\u001b[0m \u001b[0;34m=\u001b[0m \u001b[0;34m{\u001b[0m\u001b[0;34m}\u001b[0m\u001b[0;34m\u001b[0m\u001b[0;34m\u001b[0m\u001b[0m\n\u001b[1;32m      2\u001b[0m \u001b[0;32mfor\u001b[0m \u001b[0mtour_id\u001b[0m \u001b[0;32min\u001b[0m \u001b[0mdf_train\u001b[0m\u001b[0;34m.\u001b[0m\u001b[0mtournament_id\u001b[0m\u001b[0;34m:\u001b[0m\u001b[0;34m\u001b[0m\u001b[0;34m\u001b[0m\u001b[0m\n\u001b[0;32m----> 3\u001b[0;31m     \u001b[0mdict_teams_by_tour_train\u001b[0m\u001b[0;34m[\u001b[0m\u001b[0mtour_id\u001b[0m\u001b[0;34m]\u001b[0m \u001b[0;34m=\u001b[0m \u001b[0mdf_train\u001b[0m\u001b[0;34m[\u001b[0m\u001b[0mdf_train\u001b[0m\u001b[0;34m.\u001b[0m\u001b[0mtournament_id\u001b[0m \u001b[0;34m==\u001b[0m \u001b[0mtour_id\u001b[0m\u001b[0;34m]\u001b[0m\u001b[0;34m.\u001b[0m\u001b[0mteam_id\u001b[0m\u001b[0;34m.\u001b[0m\u001b[0munique\u001b[0m\u001b[0;34m(\u001b[0m\u001b[0;34m)\u001b[0m\u001b[0;34m\u001b[0m\u001b[0;34m\u001b[0m\u001b[0m\n\u001b[0m",
      "\u001b[0;32m~/opt/anaconda3/lib/python3.8/site-packages/pandas/core/frame.py\u001b[0m in \u001b[0;36m__getitem__\u001b[0;34m(self, key)\u001b[0m\n\u001b[1;32m   3013\u001b[0m         \u001b[0;31m# Do we have a (boolean) 1d indexer?\u001b[0m\u001b[0;34m\u001b[0m\u001b[0;34m\u001b[0m\u001b[0;34m\u001b[0m\u001b[0m\n\u001b[1;32m   3014\u001b[0m         \u001b[0;32mif\u001b[0m \u001b[0mcom\u001b[0m\u001b[0;34m.\u001b[0m\u001b[0mis_bool_indexer\u001b[0m\u001b[0;34m(\u001b[0m\u001b[0mkey\u001b[0m\u001b[0;34m)\u001b[0m\u001b[0;34m:\u001b[0m\u001b[0;34m\u001b[0m\u001b[0;34m\u001b[0m\u001b[0m\n\u001b[0;32m-> 3015\u001b[0;31m             \u001b[0;32mreturn\u001b[0m \u001b[0mself\u001b[0m\u001b[0;34m.\u001b[0m\u001b[0m_getitem_bool_array\u001b[0m\u001b[0;34m(\u001b[0m\u001b[0mkey\u001b[0m\u001b[0;34m)\u001b[0m\u001b[0;34m\u001b[0m\u001b[0;34m\u001b[0m\u001b[0m\n\u001b[0m\u001b[1;32m   3016\u001b[0m \u001b[0;34m\u001b[0m\u001b[0m\n\u001b[1;32m   3017\u001b[0m         \u001b[0;31m# We are left with two options: a single key, and a collection of keys,\u001b[0m\u001b[0;34m\u001b[0m\u001b[0;34m\u001b[0m\u001b[0;34m\u001b[0m\u001b[0m\n",
      "\u001b[0;32m~/opt/anaconda3/lib/python3.8/site-packages/pandas/core/frame.py\u001b[0m in \u001b[0;36m_getitem_bool_array\u001b[0;34m(self, key)\u001b[0m\n\u001b[1;32m   3067\u001b[0m         \u001b[0;31m# be reindexed to match DataFrame rows\u001b[0m\u001b[0;34m\u001b[0m\u001b[0;34m\u001b[0m\u001b[0;34m\u001b[0m\u001b[0m\n\u001b[1;32m   3068\u001b[0m         \u001b[0mkey\u001b[0m \u001b[0;34m=\u001b[0m \u001b[0mcheck_bool_indexer\u001b[0m\u001b[0;34m(\u001b[0m\u001b[0mself\u001b[0m\u001b[0;34m.\u001b[0m\u001b[0mindex\u001b[0m\u001b[0;34m,\u001b[0m \u001b[0mkey\u001b[0m\u001b[0;34m)\u001b[0m\u001b[0;34m\u001b[0m\u001b[0;34m\u001b[0m\u001b[0m\n\u001b[0;32m-> 3069\u001b[0;31m         \u001b[0mindexer\u001b[0m \u001b[0;34m=\u001b[0m \u001b[0mkey\u001b[0m\u001b[0;34m.\u001b[0m\u001b[0mnonzero\u001b[0m\u001b[0;34m(\u001b[0m\u001b[0;34m)\u001b[0m\u001b[0;34m[\u001b[0m\u001b[0;36m0\u001b[0m\u001b[0;34m]\u001b[0m\u001b[0;34m\u001b[0m\u001b[0;34m\u001b[0m\u001b[0m\n\u001b[0m\u001b[1;32m   3070\u001b[0m         \u001b[0;32mreturn\u001b[0m \u001b[0mself\u001b[0m\u001b[0;34m.\u001b[0m\u001b[0m_take_with_is_copy\u001b[0m\u001b[0;34m(\u001b[0m\u001b[0mindexer\u001b[0m\u001b[0;34m,\u001b[0m \u001b[0maxis\u001b[0m\u001b[0;34m=\u001b[0m\u001b[0;36m0\u001b[0m\u001b[0;34m)\u001b[0m\u001b[0;34m\u001b[0m\u001b[0;34m\u001b[0m\u001b[0m\n\u001b[1;32m   3071\u001b[0m \u001b[0;34m\u001b[0m\u001b[0m\n",
      "\u001b[0;31mKeyboardInterrupt\u001b[0m: "
     ]
    }
   ],
   "source": [
    "dict_teams_by_tour_train = {}\n",
    "for tour_id in df_train.tournament_id:\n",
    "    dict_teams_by_tour_train[tour_id] = df_train[df_train.tournament_id == tour_id].team_id.unique()"
   ]
  },
  {
   "cell_type": "code",
   "execution_count": 41,
   "id": "a22ad835",
   "metadata": {},
   "outputs": [
    {
     "ename": "KeyboardInterrupt",
     "evalue": "",
     "output_type": "error",
     "traceback": [
      "\u001b[0;31m---------------------------------------------------------------------------\u001b[0m",
      "\u001b[0;31mKeyboardInterrupt\u001b[0m                         Traceback (most recent call last)",
      "\u001b[0;32m<ipython-input-41-9bf08e762504>\u001b[0m in \u001b[0;36m<module>\u001b[0;34m\u001b[0m\n\u001b[1;32m      6\u001b[0m         \u001b[0mcount_right_answ\u001b[0m \u001b[0;34m=\u001b[0m \u001b[0;36m0\u001b[0m\u001b[0;34m\u001b[0m\u001b[0;34m\u001b[0m\u001b[0m\n\u001b[1;32m      7\u001b[0m         \u001b[0;32mfor\u001b[0m \u001b[0mplayer_id\u001b[0m \u001b[0;32min\u001b[0m \u001b[0mteam_members\u001b[0m\u001b[0;34m:\u001b[0m\u001b[0;34m\u001b[0m\u001b[0;34m\u001b[0m\u001b[0m\n\u001b[0;32m----> 8\u001b[0;31m             \u001b[0mp\u001b[0m \u001b[0;34m=\u001b[0m \u001b[0mdf_z\u001b[0m\u001b[0;34m[\u001b[0m\u001b[0mdf_z\u001b[0m\u001b[0;34m.\u001b[0m\u001b[0mplayer_id\u001b[0m \u001b[0;34m==\u001b[0m \u001b[0mplayer_id\u001b[0m\u001b[0;34m]\u001b[0m\u001b[0;34m.\u001b[0m\u001b[0mprob_get_right_answ\u001b[0m\u001b[0;34m.\u001b[0m\u001b[0mvalues\u001b[0m\u001b[0;34m[\u001b[0m\u001b[0;36m0\u001b[0m\u001b[0;34m]\u001b[0m\u001b[0;34m\u001b[0m\u001b[0;34m\u001b[0m\u001b[0m\n\u001b[0m\u001b[1;32m      9\u001b[0m             \u001b[0mq\u001b[0m \u001b[0;34m=\u001b[0m \u001b[0;36m1\u001b[0m \u001b[0;34m-\u001b[0m \u001b[0mp\u001b[0m\u001b[0;34m\u001b[0m\u001b[0;34m\u001b[0m\u001b[0m\n\u001b[1;32m     10\u001b[0m             \u001b[0mcount_right_answ\u001b[0m \u001b[0;34m+=\u001b[0m \u001b[0mnp\u001b[0m\u001b[0;34m.\u001b[0m\u001b[0mrandom\u001b[0m\u001b[0;34m.\u001b[0m\u001b[0mchoice\u001b[0m\u001b[0;34m(\u001b[0m\u001b[0;34m[\u001b[0m\u001b[0;36m0\u001b[0m\u001b[0;34m,\u001b[0m \u001b[0;36m1\u001b[0m\u001b[0;34m]\u001b[0m\u001b[0;34m,\u001b[0m \u001b[0mp\u001b[0m\u001b[0;34m=\u001b[0m\u001b[0;34m[\u001b[0m\u001b[0mp\u001b[0m\u001b[0;34m,\u001b[0m \u001b[0mq\u001b[0m\u001b[0;34m]\u001b[0m\u001b[0;34m)\u001b[0m\u001b[0;34m\u001b[0m\u001b[0;34m\u001b[0m\u001b[0m\n",
      "\u001b[0;32m~/opt/anaconda3/lib/python3.8/site-packages/pandas/core/frame.py\u001b[0m in \u001b[0;36m__getitem__\u001b[0;34m(self, key)\u001b[0m\n\u001b[1;32m   3013\u001b[0m         \u001b[0;31m# Do we have a (boolean) 1d indexer?\u001b[0m\u001b[0;34m\u001b[0m\u001b[0;34m\u001b[0m\u001b[0;34m\u001b[0m\u001b[0m\n\u001b[1;32m   3014\u001b[0m         \u001b[0;32mif\u001b[0m \u001b[0mcom\u001b[0m\u001b[0;34m.\u001b[0m\u001b[0mis_bool_indexer\u001b[0m\u001b[0;34m(\u001b[0m\u001b[0mkey\u001b[0m\u001b[0;34m)\u001b[0m\u001b[0;34m:\u001b[0m\u001b[0;34m\u001b[0m\u001b[0;34m\u001b[0m\u001b[0m\n\u001b[0;32m-> 3015\u001b[0;31m             \u001b[0;32mreturn\u001b[0m \u001b[0mself\u001b[0m\u001b[0;34m.\u001b[0m\u001b[0m_getitem_bool_array\u001b[0m\u001b[0;34m(\u001b[0m\u001b[0mkey\u001b[0m\u001b[0;34m)\u001b[0m\u001b[0;34m\u001b[0m\u001b[0;34m\u001b[0m\u001b[0m\n\u001b[0m\u001b[1;32m   3016\u001b[0m \u001b[0;34m\u001b[0m\u001b[0m\n\u001b[1;32m   3017\u001b[0m         \u001b[0;31m# We are left with two options: a single key, and a collection of keys,\u001b[0m\u001b[0;34m\u001b[0m\u001b[0;34m\u001b[0m\u001b[0;34m\u001b[0m\u001b[0m\n",
      "\u001b[0;32m~/opt/anaconda3/lib/python3.8/site-packages/pandas/core/frame.py\u001b[0m in \u001b[0;36m_getitem_bool_array\u001b[0;34m(self, key)\u001b[0m\n\u001b[1;32m   3066\u001b[0m         \u001b[0;31m# check_bool_indexer will throw exception if Series key cannot\u001b[0m\u001b[0;34m\u001b[0m\u001b[0;34m\u001b[0m\u001b[0;34m\u001b[0m\u001b[0m\n\u001b[1;32m   3067\u001b[0m         \u001b[0;31m# be reindexed to match DataFrame rows\u001b[0m\u001b[0;34m\u001b[0m\u001b[0;34m\u001b[0m\u001b[0;34m\u001b[0m\u001b[0m\n\u001b[0;32m-> 3068\u001b[0;31m         \u001b[0mkey\u001b[0m \u001b[0;34m=\u001b[0m \u001b[0mcheck_bool_indexer\u001b[0m\u001b[0;34m(\u001b[0m\u001b[0mself\u001b[0m\u001b[0;34m.\u001b[0m\u001b[0mindex\u001b[0m\u001b[0;34m,\u001b[0m \u001b[0mkey\u001b[0m\u001b[0;34m)\u001b[0m\u001b[0;34m\u001b[0m\u001b[0;34m\u001b[0m\u001b[0m\n\u001b[0m\u001b[1;32m   3069\u001b[0m         \u001b[0mindexer\u001b[0m \u001b[0;34m=\u001b[0m \u001b[0mkey\u001b[0m\u001b[0;34m.\u001b[0m\u001b[0mnonzero\u001b[0m\u001b[0;34m(\u001b[0m\u001b[0;34m)\u001b[0m\u001b[0;34m[\u001b[0m\u001b[0;36m0\u001b[0m\u001b[0;34m]\u001b[0m\u001b[0;34m\u001b[0m\u001b[0;34m\u001b[0m\u001b[0m\n\u001b[1;32m   3070\u001b[0m         \u001b[0;32mreturn\u001b[0m \u001b[0mself\u001b[0m\u001b[0;34m.\u001b[0m\u001b[0m_take_with_is_copy\u001b[0m\u001b[0;34m(\u001b[0m\u001b[0mindexer\u001b[0m\u001b[0;34m,\u001b[0m \u001b[0maxis\u001b[0m\u001b[0;34m=\u001b[0m\u001b[0;36m0\u001b[0m\u001b[0;34m)\u001b[0m\u001b[0;34m\u001b[0m\u001b[0;34m\u001b[0m\u001b[0m\n",
      "\u001b[0;32m~/opt/anaconda3/lib/python3.8/site-packages/pandas/core/indexing.py\u001b[0m in \u001b[0;36mcheck_bool_indexer\u001b[0;34m(index, key)\u001b[0m\n\u001b[1;32m   2280\u001b[0m         \u001b[0;31m# key may contain nan elements, check_array_indexer needs bool array\u001b[0m\u001b[0;34m\u001b[0m\u001b[0;34m\u001b[0m\u001b[0;34m\u001b[0m\u001b[0m\n\u001b[1;32m   2281\u001b[0m         \u001b[0mresult\u001b[0m \u001b[0;34m=\u001b[0m \u001b[0mpd_array\u001b[0m\u001b[0;34m(\u001b[0m\u001b[0mresult\u001b[0m\u001b[0;34m,\u001b[0m \u001b[0mdtype\u001b[0m\u001b[0;34m=\u001b[0m\u001b[0mbool\u001b[0m\u001b[0;34m)\u001b[0m\u001b[0;34m\u001b[0m\u001b[0;34m\u001b[0m\u001b[0m\n\u001b[0;32m-> 2282\u001b[0;31m     \u001b[0;32mreturn\u001b[0m \u001b[0mcheck_array_indexer\u001b[0m\u001b[0;34m(\u001b[0m\u001b[0mindex\u001b[0m\u001b[0;34m,\u001b[0m \u001b[0mresult\u001b[0m\u001b[0;34m)\u001b[0m\u001b[0;34m\u001b[0m\u001b[0;34m\u001b[0m\u001b[0m\n\u001b[0m\u001b[1;32m   2283\u001b[0m \u001b[0;34m\u001b[0m\u001b[0m\n\u001b[1;32m   2284\u001b[0m \u001b[0;34m\u001b[0m\u001b[0m\n",
      "\u001b[0;32m~/opt/anaconda3/lib/python3.8/site-packages/pandas/core/indexers.py\u001b[0m in \u001b[0;36mcheck_array_indexer\u001b[0;34m(array, indexer)\u001b[0m\n\u001b[1;32m    479\u001b[0m             \u001b[0mindexer\u001b[0m \u001b[0;34m=\u001b[0m \u001b[0mindexer\u001b[0m\u001b[0;34m.\u001b[0m\u001b[0mto_numpy\u001b[0m\u001b[0;34m(\u001b[0m\u001b[0mdtype\u001b[0m\u001b[0;34m=\u001b[0m\u001b[0mbool\u001b[0m\u001b[0;34m,\u001b[0m \u001b[0mna_value\u001b[0m\u001b[0;34m=\u001b[0m\u001b[0;32mFalse\u001b[0m\u001b[0;34m)\u001b[0m\u001b[0;34m\u001b[0m\u001b[0;34m\u001b[0m\u001b[0m\n\u001b[1;32m    480\u001b[0m         \u001b[0;32melse\u001b[0m\u001b[0;34m:\u001b[0m\u001b[0;34m\u001b[0m\u001b[0;34m\u001b[0m\u001b[0m\n\u001b[0;32m--> 481\u001b[0;31m             \u001b[0mindexer\u001b[0m \u001b[0;34m=\u001b[0m \u001b[0mnp\u001b[0m\u001b[0;34m.\u001b[0m\u001b[0masarray\u001b[0m\u001b[0;34m(\u001b[0m\u001b[0mindexer\u001b[0m\u001b[0;34m,\u001b[0m \u001b[0mdtype\u001b[0m\u001b[0;34m=\u001b[0m\u001b[0mbool\u001b[0m\u001b[0;34m)\u001b[0m\u001b[0;34m\u001b[0m\u001b[0;34m\u001b[0m\u001b[0m\n\u001b[0m\u001b[1;32m    482\u001b[0m \u001b[0;34m\u001b[0m\u001b[0m\n\u001b[1;32m    483\u001b[0m         \u001b[0;31m# GH26658\u001b[0m\u001b[0;34m\u001b[0m\u001b[0;34m\u001b[0m\u001b[0;34m\u001b[0m\u001b[0m\n",
      "\u001b[0;32m~/opt/anaconda3/lib/python3.8/site-packages/numpy/core/_asarray.py\u001b[0m in \u001b[0;36masarray\u001b[0;34m(a, dtype, order)\u001b[0m\n\u001b[1;32m     81\u001b[0m \u001b[0;34m\u001b[0m\u001b[0m\n\u001b[1;32m     82\u001b[0m     \"\"\"\n\u001b[0;32m---> 83\u001b[0;31m     \u001b[0;32mreturn\u001b[0m \u001b[0marray\u001b[0m\u001b[0;34m(\u001b[0m\u001b[0ma\u001b[0m\u001b[0;34m,\u001b[0m \u001b[0mdtype\u001b[0m\u001b[0;34m,\u001b[0m \u001b[0mcopy\u001b[0m\u001b[0;34m=\u001b[0m\u001b[0;32mFalse\u001b[0m\u001b[0;34m,\u001b[0m \u001b[0morder\u001b[0m\u001b[0;34m=\u001b[0m\u001b[0morder\u001b[0m\u001b[0;34m)\u001b[0m\u001b[0;34m\u001b[0m\u001b[0;34m\u001b[0m\u001b[0m\n\u001b[0m\u001b[1;32m     84\u001b[0m \u001b[0;34m\u001b[0m\u001b[0m\n\u001b[1;32m     85\u001b[0m \u001b[0;34m\u001b[0m\u001b[0m\n",
      "\u001b[0;32m~/opt/anaconda3/lib/python3.8/site-packages/pandas/core/series.py\u001b[0m in \u001b[0;36m__array__\u001b[0;34m(self, dtype)\u001b[0m\n\u001b[1;32m    766\u001b[0m               dtype='datetime64[ns]')\n\u001b[1;32m    767\u001b[0m         \"\"\"\n\u001b[0;32m--> 768\u001b[0;31m         \u001b[0;32mreturn\u001b[0m \u001b[0mnp\u001b[0m\u001b[0;34m.\u001b[0m\u001b[0masarray\u001b[0m\u001b[0;34m(\u001b[0m\u001b[0mself\u001b[0m\u001b[0;34m.\u001b[0m\u001b[0marray\u001b[0m\u001b[0;34m,\u001b[0m \u001b[0mdtype\u001b[0m\u001b[0;34m)\u001b[0m\u001b[0;34m\u001b[0m\u001b[0;34m\u001b[0m\u001b[0m\n\u001b[0m\u001b[1;32m    769\u001b[0m \u001b[0;34m\u001b[0m\u001b[0m\n\u001b[1;32m    770\u001b[0m     \u001b[0;31m# ----------------------------------------------------------------------\u001b[0m\u001b[0;34m\u001b[0m\u001b[0;34m\u001b[0m\u001b[0;34m\u001b[0m\u001b[0m\n",
      "\u001b[0;32m~/opt/anaconda3/lib/python3.8/site-packages/pandas/core/series.py\u001b[0m in \u001b[0;36marray\u001b[0;34m(self)\u001b[0m\n\u001b[1;32m    621\u001b[0m     \u001b[0;34m@\u001b[0m\u001b[0mproperty\u001b[0m\u001b[0;34m\u001b[0m\u001b[0;34m\u001b[0m\u001b[0m\n\u001b[1;32m    622\u001b[0m     \u001b[0;32mdef\u001b[0m \u001b[0marray\u001b[0m\u001b[0;34m(\u001b[0m\u001b[0mself\u001b[0m\u001b[0;34m)\u001b[0m \u001b[0;34m->\u001b[0m \u001b[0mExtensionArray\u001b[0m\u001b[0;34m:\u001b[0m\u001b[0;34m\u001b[0m\u001b[0;34m\u001b[0m\u001b[0m\n\u001b[0;32m--> 623\u001b[0;31m         \u001b[0;32mreturn\u001b[0m \u001b[0mself\u001b[0m\u001b[0;34m.\u001b[0m\u001b[0m_mgr\u001b[0m\u001b[0;34m.\u001b[0m\u001b[0m_block\u001b[0m\u001b[0;34m.\u001b[0m\u001b[0marray_values\u001b[0m\u001b[0;34m(\u001b[0m\u001b[0;34m)\u001b[0m\u001b[0;34m\u001b[0m\u001b[0;34m\u001b[0m\u001b[0m\n\u001b[0m\u001b[1;32m    624\u001b[0m \u001b[0;34m\u001b[0m\u001b[0m\n\u001b[1;32m    625\u001b[0m     \u001b[0;31m# ops\u001b[0m\u001b[0;34m\u001b[0m\u001b[0;34m\u001b[0m\u001b[0;34m\u001b[0m\u001b[0m\n",
      "\u001b[0;32m~/opt/anaconda3/lib/python3.8/site-packages/pandas/core/internals/blocks.py\u001b[0m in \u001b[0;36marray_values\u001b[0;34m(self)\u001b[0m\n\u001b[1;32m    241\u001b[0m         \u001b[0mThe\u001b[0m \u001b[0marray\u001b[0m \u001b[0mthat\u001b[0m \u001b[0mSeries\u001b[0m\u001b[0;34m.\u001b[0m\u001b[0marray\u001b[0m \u001b[0mreturns\u001b[0m\u001b[0;34m.\u001b[0m \u001b[0mAlways\u001b[0m \u001b[0man\u001b[0m \u001b[0mExtensionArray\u001b[0m\u001b[0;34m.\u001b[0m\u001b[0;34m\u001b[0m\u001b[0;34m\u001b[0m\u001b[0m\n\u001b[1;32m    242\u001b[0m         \"\"\"\n\u001b[0;32m--> 243\u001b[0;31m         \u001b[0;32mreturn\u001b[0m \u001b[0mPandasArray\u001b[0m\u001b[0;34m(\u001b[0m\u001b[0mself\u001b[0m\u001b[0;34m.\u001b[0m\u001b[0mvalues\u001b[0m\u001b[0;34m)\u001b[0m\u001b[0;34m\u001b[0m\u001b[0;34m\u001b[0m\u001b[0m\n\u001b[0m\u001b[1;32m    244\u001b[0m \u001b[0;34m\u001b[0m\u001b[0m\n\u001b[1;32m    245\u001b[0m     \u001b[0;32mdef\u001b[0m \u001b[0mget_values\u001b[0m\u001b[0;34m(\u001b[0m\u001b[0mself\u001b[0m\u001b[0;34m,\u001b[0m \u001b[0mdtype\u001b[0m\u001b[0;34m=\u001b[0m\u001b[0;32mNone\u001b[0m\u001b[0;34m)\u001b[0m\u001b[0;34m:\u001b[0m\u001b[0;34m\u001b[0m\u001b[0;34m\u001b[0m\u001b[0m\n",
      "\u001b[0;32m~/opt/anaconda3/lib/python3.8/site-packages/pandas/core/arrays/numpy_.py\u001b[0m in \u001b[0;36m__init__\u001b[0;34m(self, values, copy)\u001b[0m\n\u001b[1;32m    169\u001b[0m \u001b[0;34m\u001b[0m\u001b[0m\n\u001b[1;32m    170\u001b[0m         \u001b[0mself\u001b[0m\u001b[0;34m.\u001b[0m\u001b[0m_ndarray\u001b[0m \u001b[0;34m=\u001b[0m \u001b[0mvalues\u001b[0m\u001b[0;34m\u001b[0m\u001b[0;34m\u001b[0m\u001b[0m\n\u001b[0;32m--> 171\u001b[0;31m         \u001b[0mself\u001b[0m\u001b[0;34m.\u001b[0m\u001b[0m_dtype\u001b[0m \u001b[0;34m=\u001b[0m \u001b[0mPandasDtype\u001b[0m\u001b[0;34m(\u001b[0m\u001b[0mvalues\u001b[0m\u001b[0;34m.\u001b[0m\u001b[0mdtype\u001b[0m\u001b[0;34m)\u001b[0m\u001b[0;34m\u001b[0m\u001b[0;34m\u001b[0m\u001b[0m\n\u001b[0m\u001b[1;32m    172\u001b[0m \u001b[0;34m\u001b[0m\u001b[0m\n\u001b[1;32m    173\u001b[0m     \u001b[0;34m@\u001b[0m\u001b[0mclassmethod\u001b[0m\u001b[0;34m\u001b[0m\u001b[0;34m\u001b[0m\u001b[0m\n",
      "\u001b[0;32m~/opt/anaconda3/lib/python3.8/site-packages/pandas/core/arrays/numpy_.py\u001b[0m in \u001b[0;36m__init__\u001b[0;34m(self, dtype)\u001b[0m\n\u001b[1;32m     40\u001b[0m \u001b[0;34m\u001b[0m\u001b[0m\n\u001b[1;32m     41\u001b[0m     \u001b[0;32mdef\u001b[0m \u001b[0m__init__\u001b[0m\u001b[0;34m(\u001b[0m\u001b[0mself\u001b[0m\u001b[0;34m,\u001b[0m \u001b[0mdtype\u001b[0m\u001b[0;34m:\u001b[0m \u001b[0mobject\u001b[0m\u001b[0;34m)\u001b[0m\u001b[0;34m:\u001b[0m\u001b[0;34m\u001b[0m\u001b[0;34m\u001b[0m\u001b[0m\n\u001b[0;32m---> 42\u001b[0;31m         \u001b[0mself\u001b[0m\u001b[0;34m.\u001b[0m\u001b[0m_dtype\u001b[0m \u001b[0;34m=\u001b[0m \u001b[0mnp\u001b[0m\u001b[0;34m.\u001b[0m\u001b[0mdtype\u001b[0m\u001b[0;34m(\u001b[0m\u001b[0mdtype\u001b[0m\u001b[0;34m)\u001b[0m\u001b[0;34m\u001b[0m\u001b[0;34m\u001b[0m\u001b[0m\n\u001b[0m\u001b[1;32m     43\u001b[0m \u001b[0;34m\u001b[0m\u001b[0m\n\u001b[1;32m     44\u001b[0m     \u001b[0;32mdef\u001b[0m \u001b[0m__repr__\u001b[0m\u001b[0;34m(\u001b[0m\u001b[0mself\u001b[0m\u001b[0;34m)\u001b[0m \u001b[0;34m->\u001b[0m \u001b[0mstr\u001b[0m\u001b[0;34m:\u001b[0m\u001b[0;34m\u001b[0m\u001b[0;34m\u001b[0m\u001b[0m\n",
      "\u001b[0;31mKeyboardInterrupt\u001b[0m: "
     ]
    }
   ],
   "source": [
    "new_preds = []\n",
    "for tour_id in df_train.tournament_id:\n",
    "    teams = dict_teams_by_tour_train[tour_id]\n",
    "    for team_id in teams:\n",
    "        team_members = df_train[df_train.team_id == team_id].player_id.unique()\n",
    "        count_right_answ = 0\n",
    "        for player_id in team_members:\n",
    "            p = df_z[df_z.player_id == player_id].prob_get_right_answ.values[0]\n",
    "            q = 1 - p\n",
    "            count_right_answ += np.random.choice([0, 1], p=[p, q])\n",
    "        if count_right_answ / len(team_members) >= 0.2:\n",
    "            for _ in team_members:\n",
    "                new_preds.append(1)\n",
    "        else:\n",
    "            for _ in team_members:\n",
    "                new_preds.append(0)\n",
    "        "
   ]
  },
  {
   "cell_type": "code",
   "execution_count": null,
   "id": "854eb9d7",
   "metadata": {},
   "outputs": [],
   "source": [
    "def e_step(df, preds):"
   ]
  },
  {
   "cell_type": "markdown",
   "id": "6c52cad1",
   "metadata": {},
   "source": [
    "## EM"
   ]
  },
  {
   "cell_type": "code",
   "execution_count": null,
   "id": "46028b74",
   "metadata": {},
   "outputs": [],
   "source": [
    "for i in range(n_epoch):\n",
    "    y = e_step(df_train, preds)\n",
    "    pipe, preds = m_step(pipe, X, y)\n",
    "    weights = save_player_weights(X, pipe)\n",
    "    save_obj(weights, f'em_weights_epoch_{i}')"
   ]
  },
  {
   "cell_type": "code",
   "execution_count": null,
   "id": "d41a1896",
   "metadata": {},
   "outputs": [],
   "source": [
    "X, y = df_train[['player_id', 'question_id']], df_train['answer']"
   ]
  }
 ],
 "metadata": {
  "kernelspec": {
   "display_name": "Python 3",
   "language": "python",
   "name": "python3"
  },
  "language_info": {
   "codemirror_mode": {
    "name": "ipython",
    "version": 3
   },
   "file_extension": ".py",
   "mimetype": "text/x-python",
   "name": "python",
   "nbconvert_exporter": "python",
   "pygments_lexer": "ipython3",
   "version": "3.8.8"
  }
 },
 "nbformat": 4,
 "nbformat_minor": 5
}
